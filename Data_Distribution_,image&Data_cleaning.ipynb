{
  "nbformat": 4,
  "nbformat_minor": 0,
  "metadata": {
    "colab": {
      "name": "Data_Distribution_,image&Data_cleaning.ipynb",
      "provenance": [],
      "collapsed_sections": [],
      "include_colab_link": true
    },
    "kernelspec": {
      "name": "python3",
      "display_name": "Python 3"
    },
    "language_info": {
      "name": "python"
    }
  },
  "cells": [
    {
      "cell_type": "markdown",
      "metadata": {
        "id": "view-in-github",
        "colab_type": "text"
      },
      "source": [
        "<a href=\"https://colab.research.google.com/github/Elavarasan8/Data_Visualisation/blob/main/Data_Distribution_%2Cimage%26Data_cleaning.ipynb\" target=\"_parent\"><img src=\"https://colab.research.google.com/assets/colab-badge.svg\" alt=\"Open In Colab\"/></a>"
      ]
    },
    {
      "cell_type": "code",
      "execution_count": null,
      "metadata": {
        "id": "g9Y_pGyEg1p7"
      },
      "outputs": [],
      "source": [
        "import numpy as np"
      ]
    },
    {
      "cell_type": "code",
      "source": [
        "import matplotlib.pyplot as plt\n",
        "import seaborn as sns\n",
        "#seaborn enhances the matplotlib outcome"
      ],
      "metadata": {
        "id": "eUsNx5sOJ3W6"
      },
      "execution_count": null,
      "outputs": []
    },
    {
      "cell_type": "code",
      "source": [
        "x=np.arange(1,51)\n",
        "x"
      ],
      "metadata": {
        "colab": {
          "base_uri": "https://localhost:8080/"
        },
        "id": "KoG1oLd6J9cV",
        "outputId": "1c01c4c6-e723-4181-fe20-9a7e92acb401"
      },
      "execution_count": null,
      "outputs": [
        {
          "output_type": "execute_result",
          "data": {
            "text/plain": [
              "array([ 1,  2,  3,  4,  5,  6,  7,  8,  9, 10, 11, 12, 13, 14, 15, 16, 17,\n",
              "       18, 19, 20, 21, 22, 23, 24, 25, 26, 27, 28, 29, 30, 31, 32, 33, 34,\n",
              "       35, 36, 37, 38, 39, 40, 41, 42, 43, 44, 45, 46, 47, 48, 49, 50])"
            ]
          },
          "metadata": {},
          "execution_count": 3
        }
      ]
    },
    {
      "cell_type": "code",
      "source": [
        "x_split=np.array_split(x,5)\n",
        "x_split"
      ],
      "metadata": {
        "colab": {
          "base_uri": "https://localhost:8080/"
        },
        "id": "HEFIU7WtKTZ1",
        "outputId": "4e4c3642-f899-41df-ff07-6e67f8fe8e42"
      },
      "execution_count": null,
      "outputs": [
        {
          "output_type": "execute_result",
          "data": {
            "text/plain": [
              "[array([ 1,  2,  3,  4,  5,  6,  7,  8,  9, 10]),\n",
              " array([11, 12, 13, 14, 15, 16, 17, 18, 19, 20]),\n",
              " array([21, 22, 23, 24, 25, 26, 27, 28, 29, 30]),\n",
              " array([31, 32, 33, 34, 35, 36, 37, 38, 39, 40]),\n",
              " array([41, 42, 43, 44, 45, 46, 47, 48, 49, 50])]"
            ]
          },
          "metadata": {},
          "execution_count": 4
        }
      ]
    },
    {
      "cell_type": "code",
      "source": [
        "x= np.random.choice([45,6,8,9,102],size=10)\n",
        "x"
      ],
      "metadata": {
        "colab": {
          "base_uri": "https://localhost:8080/"
        },
        "id": "d-GLzMs7KMUP",
        "outputId": "c07f0f8e-5d06-4286-8467-0d552cb978ac"
      },
      "execution_count": null,
      "outputs": [
        {
          "output_type": "execute_result",
          "data": {
            "text/plain": [
              "array([102,   8,   6,  45,   8,   9,  45,   9,  45,   9])"
            ]
          },
          "metadata": {},
          "execution_count": 5
        }
      ]
    },
    {
      "cell_type": "code",
      "source": [
        "x= np.random.choice([45,6,8,9,102],p=[0.5,0.05,0.1,0.2,0.15],size=10)\n",
        "x"
      ],
      "metadata": {
        "colab": {
          "base_uri": "https://localhost:8080/"
        },
        "id": "tCojthMtLVeT",
        "outputId": "7b9d1624-ca4b-4000-9c49-4a2ef393ee27"
      },
      "execution_count": null,
      "outputs": [
        {
          "output_type": "execute_result",
          "data": {
            "text/plain": [
              "array([ 45,   9,  45,  45,  45,  45,  45,  45, 102,  45])"
            ]
          },
          "metadata": {},
          "execution_count": 6
        }
      ]
    },
    {
      "cell_type": "code",
      "source": [
        "sample=1000\n",
        "family_1_girl=0\n",
        "family_2_girl=0\n",
        "for i in range(sample):\n",
        "  first_child=np.random.choice(['boy','girl'])\n",
        "  second_child=np.random.choice(['boy','girl'])\n",
        "  if first_child=='girl' or second_child=='girl':\n",
        "    family_1_girl += 1\n",
        "    if first_child=='girl' and second_child=='girl':\n",
        "      family_2_girl += 1\n",
        "result=round(family_2_girl/family_1_girl,2)\n",
        "\n",
        "print(f'{sample} Families sampled, {family_1_girl} have one girl, {family_2_girl} have two girl')\n",
        "result"
      ],
      "metadata": {
        "colab": {
          "base_uri": "https://localhost:8080/"
        },
        "id": "3kevqT_eL70r",
        "outputId": "e6894c8d-e4f0-44cc-c3b4-dfc05d572c30"
      },
      "execution_count": null,
      "outputs": [
        {
          "output_type": "stream",
          "name": "stdout",
          "text": [
            "1000 Families sampled, 730 have one girl, 258 have two girl\n"
          ]
        },
        {
          "output_type": "execute_result",
          "data": {
            "text/plain": [
              "0.35"
            ]
          },
          "metadata": {},
          "execution_count": 7
        }
      ]
    },
    {
      "cell_type": "code",
      "source": [
        "x=np.arange(1,51)\n",
        "x[1:6]=40\n",
        "x[33]=10"
      ],
      "metadata": {
        "id": "o9RNFu9CQ_Dz"
      },
      "execution_count": null,
      "outputs": []
    },
    {
      "cell_type": "code",
      "source": [
        "x"
      ],
      "metadata": {
        "colab": {
          "base_uri": "https://localhost:8080/"
        },
        "id": "MP5oCVDvT4WE",
        "outputId": "51149dde-2e5b-4ba1-bce9-006b086eace1"
      },
      "execution_count": null,
      "outputs": [
        {
          "output_type": "execute_result",
          "data": {
            "text/plain": [
              "array([ 1, 40, 40, 40, 40, 40,  7,  8,  9, 10, 11, 12, 13, 14, 15, 16, 17,\n",
              "       18, 19, 20, 21, 22, 23, 24, 25, 26, 27, 28, 29, 30, 31, 32, 33, 10,\n",
              "       35, 36, 37, 38, 39, 40, 41, 42, 43, 44, 45, 46, 47, 48, 49, 50])"
            ]
          },
          "metadata": {},
          "execution_count": 9
        }
      ]
    },
    {
      "cell_type": "code",
      "source": [
        "x=np.array([5,6,7,8,12])\n",
        "np.random.shuffle(x)\n",
        "x"
      ],
      "metadata": {
        "colab": {
          "base_uri": "https://localhost:8080/"
        },
        "id": "T_otQdmqT5FA",
        "outputId": "3d7e7301-5763-424b-fd43-136831273011"
      },
      "execution_count": null,
      "outputs": [
        {
          "output_type": "execute_result",
          "data": {
            "text/plain": [
              "array([ 7,  6,  8, 12,  5])"
            ]
          },
          "metadata": {},
          "execution_count": 10
        }
      ]
    },
    {
      "cell_type": "code",
      "source": [
        "import itertools as it"
      ],
      "metadata": {
        "id": "tcoICvtcUQnN"
      },
      "execution_count": null,
      "outputs": []
    },
    {
      "cell_type": "code",
      "source": [
        "com=it.permutations([1,2,3,4,5],4)\n",
        "for i in list(com):\n",
        "  print(i)"
      ],
      "metadata": {
        "id": "iUP99pHUXWUZ",
        "colab": {
          "base_uri": "https://localhost:8080/"
        },
        "outputId": "6fc857ad-2e29-4a73-d477-0673a02a6b26"
      },
      "execution_count": null,
      "outputs": [
        {
          "output_type": "stream",
          "name": "stdout",
          "text": [
            "(1, 2, 3, 4)\n",
            "(1, 2, 3, 5)\n",
            "(1, 2, 4, 3)\n",
            "(1, 2, 4, 5)\n",
            "(1, 2, 5, 3)\n",
            "(1, 2, 5, 4)\n",
            "(1, 3, 2, 4)\n",
            "(1, 3, 2, 5)\n",
            "(1, 3, 4, 2)\n",
            "(1, 3, 4, 5)\n",
            "(1, 3, 5, 2)\n",
            "(1, 3, 5, 4)\n",
            "(1, 4, 2, 3)\n",
            "(1, 4, 2, 5)\n",
            "(1, 4, 3, 2)\n",
            "(1, 4, 3, 5)\n",
            "(1, 4, 5, 2)\n",
            "(1, 4, 5, 3)\n",
            "(1, 5, 2, 3)\n",
            "(1, 5, 2, 4)\n",
            "(1, 5, 3, 2)\n",
            "(1, 5, 3, 4)\n",
            "(1, 5, 4, 2)\n",
            "(1, 5, 4, 3)\n",
            "(2, 1, 3, 4)\n",
            "(2, 1, 3, 5)\n",
            "(2, 1, 4, 3)\n",
            "(2, 1, 4, 5)\n",
            "(2, 1, 5, 3)\n",
            "(2, 1, 5, 4)\n",
            "(2, 3, 1, 4)\n",
            "(2, 3, 1, 5)\n",
            "(2, 3, 4, 1)\n",
            "(2, 3, 4, 5)\n",
            "(2, 3, 5, 1)\n",
            "(2, 3, 5, 4)\n",
            "(2, 4, 1, 3)\n",
            "(2, 4, 1, 5)\n",
            "(2, 4, 3, 1)\n",
            "(2, 4, 3, 5)\n",
            "(2, 4, 5, 1)\n",
            "(2, 4, 5, 3)\n",
            "(2, 5, 1, 3)\n",
            "(2, 5, 1, 4)\n",
            "(2, 5, 3, 1)\n",
            "(2, 5, 3, 4)\n",
            "(2, 5, 4, 1)\n",
            "(2, 5, 4, 3)\n",
            "(3, 1, 2, 4)\n",
            "(3, 1, 2, 5)\n",
            "(3, 1, 4, 2)\n",
            "(3, 1, 4, 5)\n",
            "(3, 1, 5, 2)\n",
            "(3, 1, 5, 4)\n",
            "(3, 2, 1, 4)\n",
            "(3, 2, 1, 5)\n",
            "(3, 2, 4, 1)\n",
            "(3, 2, 4, 5)\n",
            "(3, 2, 5, 1)\n",
            "(3, 2, 5, 4)\n",
            "(3, 4, 1, 2)\n",
            "(3, 4, 1, 5)\n",
            "(3, 4, 2, 1)\n",
            "(3, 4, 2, 5)\n",
            "(3, 4, 5, 1)\n",
            "(3, 4, 5, 2)\n",
            "(3, 5, 1, 2)\n",
            "(3, 5, 1, 4)\n",
            "(3, 5, 2, 1)\n",
            "(3, 5, 2, 4)\n",
            "(3, 5, 4, 1)\n",
            "(3, 5, 4, 2)\n",
            "(4, 1, 2, 3)\n",
            "(4, 1, 2, 5)\n",
            "(4, 1, 3, 2)\n",
            "(4, 1, 3, 5)\n",
            "(4, 1, 5, 2)\n",
            "(4, 1, 5, 3)\n",
            "(4, 2, 1, 3)\n",
            "(4, 2, 1, 5)\n",
            "(4, 2, 3, 1)\n",
            "(4, 2, 3, 5)\n",
            "(4, 2, 5, 1)\n",
            "(4, 2, 5, 3)\n",
            "(4, 3, 1, 2)\n",
            "(4, 3, 1, 5)\n",
            "(4, 3, 2, 1)\n",
            "(4, 3, 2, 5)\n",
            "(4, 3, 5, 1)\n",
            "(4, 3, 5, 2)\n",
            "(4, 5, 1, 2)\n",
            "(4, 5, 1, 3)\n",
            "(4, 5, 2, 1)\n",
            "(4, 5, 2, 3)\n",
            "(4, 5, 3, 1)\n",
            "(4, 5, 3, 2)\n",
            "(5, 1, 2, 3)\n",
            "(5, 1, 2, 4)\n",
            "(5, 1, 3, 2)\n",
            "(5, 1, 3, 4)\n",
            "(5, 1, 4, 2)\n",
            "(5, 1, 4, 3)\n",
            "(5, 2, 1, 3)\n",
            "(5, 2, 1, 4)\n",
            "(5, 2, 3, 1)\n",
            "(5, 2, 3, 4)\n",
            "(5, 2, 4, 1)\n",
            "(5, 2, 4, 3)\n",
            "(5, 3, 1, 2)\n",
            "(5, 3, 1, 4)\n",
            "(5, 3, 2, 1)\n",
            "(5, 3, 2, 4)\n",
            "(5, 3, 4, 1)\n",
            "(5, 3, 4, 2)\n",
            "(5, 4, 1, 2)\n",
            "(5, 4, 1, 3)\n",
            "(5, 4, 2, 1)\n",
            "(5, 4, 2, 3)\n",
            "(5, 4, 3, 1)\n",
            "(5, 4, 3, 2)\n"
          ]
        }
      ]
    },
    {
      "cell_type": "code",
      "source": [
        "com=it.combinations([1,2,3,4,5],4)\n",
        "for i in list(com):\n",
        "  print(i)"
      ],
      "metadata": {
        "colab": {
          "base_uri": "https://localhost:8080/"
        },
        "id": "lshj_ZsCXiC4",
        "outputId": "9975cda4-cad1-4f32-bdb7-50a166a43ace"
      },
      "execution_count": null,
      "outputs": [
        {
          "output_type": "stream",
          "name": "stdout",
          "text": [
            "(1, 2, 3, 4)\n",
            "(1, 2, 3, 5)\n",
            "(1, 2, 4, 5)\n",
            "(1, 3, 4, 5)\n",
            "(2, 3, 4, 5)\n"
          ]
        }
      ]
    },
    {
      "cell_type": "markdown",
      "source": [
        "NORMAL DISTRIBUTION"
      ],
      "metadata": {
        "id": "FXiIeQ-bZlQn"
      }
    },
    {
      "cell_type": "code",
      "source": [
        "x = np.random.normal(size=1000)\n",
        "plt.plot(x)\n",
        "plt.show()\n",
        "plt.hist(x,bins=20)\n",
        "plt.show()"
      ],
      "metadata": {
        "colab": {
          "base_uri": "https://localhost:8080/",
          "height": 517
        },
        "id": "aMWLIHcPZolK",
        "outputId": "f6d9a652-b556-4f00-b863-b2c27dc86aaa"
      },
      "execution_count": null,
      "outputs": [
        {
          "output_type": "display_data",
          "data": {
            "image/png": "[encoded data removed]",
            "text/plain": [
              "<Figure size 432x288 with 1 Axes>"
            ]
          },
          "metadata": {
            "needs_background": "light"
          }
        },
        {
          "output_type": "display_data",
          "data": {
            "image/png": "[encoded data removed]",
            "text/plain": [
              "<Figure size 432x288 with 1 Axes>"
            ]
          },
          "metadata": {
            "needs_background": "light"
          }
        }
      ]
    },
    {
      "cell_type": "code",
      "source": [
        "x.mean()"
      ],
      "metadata": {
        "colab": {
          "base_uri": "https://localhost:8080/"
        },
        "id": "HATji0-6Zzm9",
        "outputId": "d81b0814-8083-4fb8-d952-f16be1880ba8"
      },
      "execution_count": null,
      "outputs": [
        {
          "output_type": "execute_result",
          "data": {
            "text/plain": [
              "-0.07922560295945782"
            ]
          },
          "metadata": {},
          "execution_count": 15
        }
      ]
    },
    {
      "cell_type": "code",
      "source": [
        "x = np.random.normal(loc=20,size=1000)#loc means MEAN value\n",
        "plt.plot(x)\n",
        "plt.show()\n",
        "plt.hist(x,bins=20)\n",
        "plt.show()"
      ],
      "metadata": {
        "colab": {
          "base_uri": "https://localhost:8080/",
          "height": 513
        },
        "id": "tNW6CQf5Z7Wg",
        "outputId": "3b26968a-23df-4600-f021-e36ee4e07f76"
      },
      "execution_count": null,
      "outputs": [
        {
          "output_type": "display_data",
          "data": {
            "image/png": "[encoded data removed]",
            "text/plain": [
              "<Figure size 432x288 with 1 Axes>"
            ]
          },
          "metadata": {
            "needs_background": "light"
          }
        },
        {
          "output_type": "display_data",
          "data": {
            "image/png": "[encoded data removed]",
            "text/plain": [
              "<Figure size 432x288 with 1 Axes>"
            ]
          },
          "metadata": {
            "needs_background": "light"
          }
        }
      ]
    },
    {
      "cell_type": "code",
      "source": [
        "x = np.random.normal(loc=20,scale=5,size=1000)#loc means MEAN value, scale is for standard deviation\n",
        "plt.plot(x)\n",
        "plt.show()\n",
        "plt.hist(x,bins=20)\n",
        "plt.show()\n",
        "sns.distplot(x)\n"
      ],
      "metadata": {
        "colab": {
          "base_uri": "https://localhost:8080/",
          "height": 833
        },
        "id": "hi6bNwKla2FZ",
        "outputId": "ebbed61b-a41c-43bb-9f81-1578679d622a"
      },
      "execution_count": null,
      "outputs": [
        {
          "output_type": "display_data",
          "data": {
            "image/png": "[encoded data removed]",
            "text/plain": [
              "<Figure size 432x288 with 1 Axes>"
            ]
          },
          "metadata": {
            "needs_background": "light"
          }
        },
        {
          "output_type": "display_data",
          "data": {
            "image/png": "[encoded data removed]",
            "text/plain": [
              "<Figure size 432x288 with 1 Axes>"
            ]
          },
          "metadata": {
            "needs_background": "light"
          }
        },
        {
          "output_type": "stream",
          "name": "stderr",
          "text": [
            "/usr/local/lib/python3.7/dist-packages/seaborn/distributions.py:2619: FutureWarning: `distplot` is a deprecated function and will be removed in a future version. Please adapt your code to use either `displot` (a figure-level function with similar flexibility) or `histplot` (an axes-level function for histograms).\n",
            "  warnings.warn(msg, FutureWarning)\n"
          ]
        },
        {
          "output_type": "execute_result",
          "data": {
            "text/plain": [
              "<matplotlib.axes._subplots.AxesSubplot at 0x7f246d1afed0>"
            ]
          },
          "metadata": {},
          "execution_count": 17
        },
        {
          "output_type": "display_data",
          "data": {
            "image/png": "[encoded data removed]",
            "text/plain": [
              "<Figure size 432x288 with 1 Axes>"
            ]
          },
          "metadata": {
            "needs_background": "light"
          }
        }
      ]
    },
    {
      "cell_type": "markdown",
      "source": [
        "**the scale value must be smaller than mean value**"
      ],
      "metadata": {
        "id": "1QnuYJ_iiTqw"
      }
    },
    {
      "cell_type": "markdown",
      "source": [
        "BINOMIAL DISTRIBUTION"
      ],
      "metadata": {
        "id": "eU-j0VgOesVz"
      }
    },
    {
      "cell_type": "code",
      "source": [
        "y = np.random.binomial(n=100,p=0.6,size=1000)\n",
        "plt.plot(y)\n",
        "plt.show()\n",
        "plt.hist(y,bins=20)\n",
        "plt.show()\n",
        "sns.distplot(y)"
      ],
      "metadata": {
        "colab": {
          "base_uri": "https://localhost:8080/",
          "height": 834
        },
        "id": "R9f3x-2ObHvE",
        "outputId": "5ce6615b-030b-4838-f418-4e356f41fba0"
      },
      "execution_count": null,
      "outputs": [
        {
          "output_type": "display_data",
          "data": {
            "image/png": "[encoded data removed]",
            "text/plain": [
              "<Figure size 432x288 with 1 Axes>"
            ]
          },
          "metadata": {
            "needs_background": "light"
          }
        },
        {
          "output_type": "display_data",
          "data": {
            "image/png": "[encoded data removed]",
            "text/plain": [
              "<Figure size 432x288 with 1 Axes>"
            ]
          },
          "metadata": {
            "needs_background": "light"
          }
        },
        {
          "output_type": "stream",
          "name": "stderr",
          "text": [
            "/usr/local/lib/python3.7/dist-packages/seaborn/distributions.py:2619: FutureWarning: `distplot` is a deprecated function and will be removed in a future version. Please adapt your code to use either `displot` (a figure-level function with similar flexibility) or `histplot` (an axes-level function for histograms).\n",
            "  warnings.warn(msg, FutureWarning)\n"
          ]
        },
        {
          "output_type": "execute_result",
          "data": {
            "text/plain": [
              "<matplotlib.axes._subplots.AxesSubplot at 0x7f2469fef550>"
            ]
          },
          "metadata": {},
          "execution_count": 18
        },
        {
          "output_type": "display_data",
          "data": {
            "image/png": "[encoded data removed]",
            "text/plain": [
              "<Figure size 432x288 with 1 Axes>"
            ]
          },
          "metadata": {
            "needs_background": "light"
          }
        }
      ]
    },
    {
      "cell_type": "code",
      "source": [
        "y.mean()"
      ],
      "metadata": {
        "colab": {
          "base_uri": "https://localhost:8080/"
        },
        "id": "-ud0ol93d0s9",
        "outputId": "b477a91d-3deb-4685-eb2b-ea68f2c588f0"
      },
      "execution_count": null,
      "outputs": [
        {
          "output_type": "execute_result",
          "data": {
            "text/plain": [
              "59.957"
            ]
          },
          "metadata": {},
          "execution_count": 19
        }
      ]
    },
    {
      "cell_type": "code",
      "source": [
        "x = np.random.normal(loc=60,scale=5,size=10000)\n",
        "y = np.random.binomial(n=100,p=0.6,size=10000)\n",
        "sns.distplot(x,hist=False,label='n')\n",
        "sns.distplot(y,hist=False,label='b')\n",
        "plt.legend()\n",
        "plt.plot()\n"
      ],
      "metadata": {
        "colab": {
          "base_uri": "https://localhost:8080/",
          "height": 372
        },
        "id": "G_DoPY6weASG",
        "outputId": "d23d47b1-2fea-488e-b2ad-cf649f373364"
      },
      "execution_count": null,
      "outputs": [
        {
          "output_type": "stream",
          "name": "stderr",
          "text": [
            "/usr/local/lib/python3.7/dist-packages/seaborn/distributions.py:2619: FutureWarning: `distplot` is a deprecated function and will be removed in a future version. Please adapt your code to use either `displot` (a figure-level function with similar flexibility) or `kdeplot` (an axes-level function for kernel density plots).\n",
            "  warnings.warn(msg, FutureWarning)\n",
            "/usr/local/lib/python3.7/dist-packages/seaborn/distributions.py:2619: FutureWarning: `distplot` is a deprecated function and will be removed in a future version. Please adapt your code to use either `displot` (a figure-level function with similar flexibility) or `kdeplot` (an axes-level function for kernel density plots).\n",
            "  warnings.warn(msg, FutureWarning)\n"
          ]
        },
        {
          "output_type": "execute_result",
          "data": {
            "text/plain": [
              "[]"
            ]
          },
          "metadata": {},
          "execution_count": 20
        },
        {
          "output_type": "display_data",
          "data": {
            "image/png": "[encoded data removed]",
            "text/plain": [
              "<Figure size 432x288 with 1 Axes>"
            ]
          },
          "metadata": {
            "needs_background": "light"
          }
        }
      ]
    },
    {
      "cell_type": "markdown",
      "source": [
        "POISSON DISTRIBUTION"
      ],
      "metadata": {
        "id": "oalna1POZQuj"
      }
    },
    {
      "cell_type": "code",
      "source": [
        "z=np.random.poisson(lam=60,size=1000)\n",
        "plt.hist(z,bins=20)\n",
        "plt.show()\n",
        "plt.plot(z)\n",
        "plt.show()"
      ],
      "metadata": {
        "colab": {
          "base_uri": "https://localhost:8080/",
          "height": 513
        },
        "id": "h7Yo3pcLZUT6",
        "outputId": "235faef1-5148-4da6-d8ea-03b97c2456f8"
      },
      "execution_count": null,
      "outputs": [
        {
          "output_type": "display_data",
          "data": {
            "image/png": "[encoded data removed]",
            "text/plain": [
              "<Figure size 432x288 with 1 Axes>"
            ]
          },
          "metadata": {
            "needs_background": "light"
          }
        },
        {
          "output_type": "display_data",
          "data": {
            "image/png": "[encoded data removed]",
            "text/plain": [
              "<Figure size 432x288 with 1 Axes>"
            ]
          },
          "metadata": {
            "needs_background": "light"
          }
        }
      ]
    },
    {
      "cell_type": "code",
      "source": [
        "x = np.random.normal(loc=60,scale=5,size=10000)\n",
        "y = np.random.binomial(n=100,p=0.6,size=10000)\n",
        "z=np.random.poisson(lam=60,size=1000)\n",
        "sns.distplot(x,hist=False,label='n')\n",
        "sns.distplot(y,hist=False,label='b')\n",
        "sns.distplot(z,hist=False,label='p')\n",
        "plt.legend()\n",
        "plt.plot()"
      ],
      "metadata": {
        "colab": {
          "base_uri": "https://localhost:8080/",
          "height": 406
        },
        "id": "_0Q7mWGwazsV",
        "outputId": "ba70f113-0d45-4d45-ba35-9ca125cc027a"
      },
      "execution_count": null,
      "outputs": [
        {
          "output_type": "stream",
          "name": "stderr",
          "text": [
            "/usr/local/lib/python3.7/dist-packages/seaborn/distributions.py:2619: FutureWarning: `distplot` is a deprecated function and will be removed in a future version. Please adapt your code to use either `displot` (a figure-level function with similar flexibility) or `kdeplot` (an axes-level function for kernel density plots).\n",
            "  warnings.warn(msg, FutureWarning)\n",
            "/usr/local/lib/python3.7/dist-packages/seaborn/distributions.py:2619: FutureWarning: `distplot` is a deprecated function and will be removed in a future version. Please adapt your code to use either `displot` (a figure-level function with similar flexibility) or `kdeplot` (an axes-level function for kernel density plots).\n",
            "  warnings.warn(msg, FutureWarning)\n",
            "/usr/local/lib/python3.7/dist-packages/seaborn/distributions.py:2619: FutureWarning: `distplot` is a deprecated function and will be removed in a future version. Please adapt your code to use either `displot` (a figure-level function with similar flexibility) or `kdeplot` (an axes-level function for kernel density plots).\n",
            "  warnings.warn(msg, FutureWarning)\n"
          ]
        },
        {
          "output_type": "execute_result",
          "data": {
            "text/plain": [
              "[]"
            ]
          },
          "metadata": {},
          "execution_count": 22
        },
        {
          "output_type": "display_data",
          "data": {
            "image/png": "[encoded data removed]",
            "text/plain": [
              "<Figure size 432x288 with 1 Axes>"
            ]
          },
          "metadata": {
            "needs_background": "light"
          }
        }
      ]
    },
    {
      "cell_type": "markdown",
      "source": [
        "UNIFORM DISTRIBUTION"
      ],
      "metadata": {
        "id": "CcPQDtGGbVtO"
      }
    },
    {
      "cell_type": "code",
      "source": [
        "m = np.random.uniform(low=25,high=45,size=1000)\n",
        "plt.plot(m)\n",
        "plt.show()\n",
        "plt.hist(m,bins=20)\n",
        "plt.show()\n",
        "sns.distplot(m,hist=False)"
      ],
      "metadata": {
        "colab": {
          "base_uri": "https://localhost:8080/",
          "height": 833
        },
        "id": "Fd3X8UxQbX8t",
        "outputId": "5e3d6947-1702-49fb-a86b-cc1af62c85c7"
      },
      "execution_count": null,
      "outputs": [
        {
          "output_type": "display_data",
          "data": {
            "image/png": "[encoded data removed]",
            "text/plain": [
              "<Figure size 432x288 with 1 Axes>"
            ]
          },
          "metadata": {
            "needs_background": "light"
          }
        },
        {
          "output_type": "display_data",
          "data": {
            "image/png": "[encoded data removed]",
            "text/plain": [
              "<Figure size 432x288 with 1 Axes>"
            ]
          },
          "metadata": {
            "needs_background": "light"
          }
        },
        {
          "output_type": "stream",
          "name": "stderr",
          "text": [
            "/usr/local/lib/python3.7/dist-packages/seaborn/distributions.py:2619: FutureWarning: `distplot` is a deprecated function and will be removed in a future version. Please adapt your code to use either `displot` (a figure-level function with similar flexibility) or `kdeplot` (an axes-level function for kernel density plots).\n",
            "  warnings.warn(msg, FutureWarning)\n"
          ]
        },
        {
          "output_type": "execute_result",
          "data": {
            "text/plain": [
              "<matplotlib.axes._subplots.AxesSubplot at 0x7f246d1f0a50>"
            ]
          },
          "metadata": {},
          "execution_count": 23
        },
        {
          "output_type": "display_data",
          "data": {
            "image/png": "[encoded data removed]",
            "text/plain": [
              "<Figure size 432x288 with 1 Axes>"
            ]
          },
          "metadata": {
            "needs_background": "light"
          }
        }
      ]
    },
    {
      "cell_type": "code",
      "source": [
        "x = np.random.normal(loc=60,scale=5,size=10000)\n",
        "y = np.random.binomial(n=100,p=0.6,size=10000)\n",
        "z=np.random.poisson(lam=60,size=1000)\n",
        "m = np.random.uniform(low=40,high=80,size=1000)\n",
        "sns.distplot(x,hist=False,label='n')\n",
        "sns.distplot(y,hist=False,label='b')\n",
        "sns.distplot(z,hist=False,label='p')\n",
        "sns.distplot(m,hist=False,label='u')\n",
        "plt.legend()\n",
        "plt.plot()"
      ],
      "metadata": {
        "colab": {
          "base_uri": "https://localhost:8080/",
          "height": 441
        },
        "id": "BHG1rzQ5cLQQ",
        "outputId": "cc90d026-c284-45f5-9353-f608c8f5efa3"
      },
      "execution_count": null,
      "outputs": [
        {
          "output_type": "stream",
          "name": "stderr",
          "text": [
            "/usr/local/lib/python3.7/dist-packages/seaborn/distributions.py:2619: FutureWarning: `distplot` is a deprecated function and will be removed in a future version. Please adapt your code to use either `displot` (a figure-level function with similar flexibility) or `kdeplot` (an axes-level function for kernel density plots).\n",
            "  warnings.warn(msg, FutureWarning)\n",
            "/usr/local/lib/python3.7/dist-packages/seaborn/distributions.py:2619: FutureWarning: `distplot` is a deprecated function and will be removed in a future version. Please adapt your code to use either `displot` (a figure-level function with similar flexibility) or `kdeplot` (an axes-level function for kernel density plots).\n",
            "  warnings.warn(msg, FutureWarning)\n",
            "/usr/local/lib/python3.7/dist-packages/seaborn/distributions.py:2619: FutureWarning: `distplot` is a deprecated function and will be removed in a future version. Please adapt your code to use either `displot` (a figure-level function with similar flexibility) or `kdeplot` (an axes-level function for kernel density plots).\n",
            "  warnings.warn(msg, FutureWarning)\n",
            "/usr/local/lib/python3.7/dist-packages/seaborn/distributions.py:2619: FutureWarning: `distplot` is a deprecated function and will be removed in a future version. Please adapt your code to use either `displot` (a figure-level function with similar flexibility) or `kdeplot` (an axes-level function for kernel density plots).\n",
            "  warnings.warn(msg, FutureWarning)\n"
          ]
        },
        {
          "output_type": "execute_result",
          "data": {
            "text/plain": [
              "[]"
            ]
          },
          "metadata": {},
          "execution_count": 24
        },
        {
          "output_type": "display_data",
          "data": {
            "image/png": "[encoded data removed]",
            "text/plain": [
              "<Figure size 432x288 with 1 Axes>"
            ]
          },
          "metadata": {
            "needs_background": "light"
          }
        }
      ]
    },
    {
      "cell_type": "markdown",
      "source": [
        "LOGISTIC DISTRIBUTION"
      ],
      "metadata": {
        "id": "KPb1vkFqgm8s"
      }
    },
    {
      "cell_type": "code",
      "source": [
        "import pandas as pd\n"
      ],
      "metadata": {
        "id": "sq-KvRIvcp0B"
      },
      "execution_count": null,
      "outputs": []
    },
    {
      "cell_type": "code",
      "source": [
        "from google.colab import files\n",
        "files.upload()"
      ],
      "metadata": {
        "id": "8Z2B1yF_d8p4",
        "colab": {
          "resources": {
            "http://localhost:8080/nbextensions/google.colab/files.js": {
              "data": "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",
              "ok": true,
              "headers": [
                [
                  "content-type",
                  "application/javascript"
                ]
              ],
              "status": 200,
              "status_text": ""
            }
          },
          "base_uri": "https://localhost:8080/",
          "height": 111
        },
        "outputId": "da6edecb-857b-4d41-896d-897c6a4d342d"
      },
      "execution_count": null,
      "outputs": [
        {
          "output_type": "display_data",
          "data": {
            "text/html": [
              "\n",
              "     <input type=\"file\" id=\"files-8f9c086a-0611-4c80-941b-ac9371674be9\" name=\"files[]\" multiple disabled\n",
              "        style=\"border:none\" />\n",
              "     <output id=\"result-8f9c086a-0611-4c80-941b-ac9371674be9\">\n",
              "      Upload widget is only available when the cell has been executed in the\n",
              "      current browser session. Please rerun this cell to enable.\n",
              "      </output>\n",
              "      <script src=\"/nbextensions/google.colab/files.js\"></script> "
            ],
            "text/plain": [
              "<IPython.core.display.HTML object>"
            ]
          },
          "metadata": {}
        },
        {
          "output_type": "stream",
          "name": "stdout",
          "text": [
            "Saving Binary predictors.csv to Binary predictors.csv\n"
          ]
        },
        {
          "output_type": "execute_result",
          "data": {
            "text/plain": [
              "{'Binary predictors.csv': b'Marks,Admitted,Gender\\r\\n1363,No,Male\\r\\n1792,Yes,Female\\r\\n1954,Yes,Female\\r\\n1653,No,Male\\r\\n1593,No,Male\\r\\n1755,Yes,Female\\r\\n1775,Yes,Female\\r\\n1887,Yes,Female\\r\\n1893,Yes,Female\\r\\n1580,No,Male\\r\\n1857,Yes,Female\\r\\n1880,Yes,Female\\r\\n1664,Yes,Female\\r\\n1364,No,Male\\r\\n1693,No,Male\\r\\n1850,Yes,Female\\r\\n1633,No,Male\\r\\n1634,No,Male\\r\\n1636,Yes,Female\\r\\n1855,Yes,Female\\r\\n1987,Yes,Female\\r\\n1997,Yes,Male\\r\\n1422,No,Female\\r\\n1508,No,Female\\r\\n1720,Yes,Female\\r\\n1879,Yes,Male\\r\\n1634,Yes,Female\\r\\n1802,Yes,Male\\r\\n1849,Yes,Female\\r\\n1764,Yes,Female\\r\\n1460,No,Male\\r\\n1675,Yes,Female\\r\\n1656,No,Male\\r\\n2020,Yes,Male\\r\\n1850,Yes,Male\\r\\n1865,Yes,Male\\r\\n1664,No,Male\\r\\n1872,Yes,Female\\r\\n1654,No,Male\\r\\n1393,No,Female\\r\\n1587,No,Male\\r\\n1631,Yes,Female\\r\\n1931,Yes,Male\\r\\n1370,No,Male\\r\\n1810,Yes,Male\\r\\n1414,No,Male\\r\\n1761,Yes,Female\\r\\n1477,No,Male\\r\\n1486,No,Male\\r\\n1561,No,Male\\r\\n1549,No,Male\\r\\n2050,Yes,Male\\r\\n1697,No,Female\\r\\n1543,No,Female\\r\\n1934,Yes,Female\\r\\n1385,No,Male\\r\\n1670,No,Male\\r\\n1735,Yes,Female\\r\\n1634,No,Male\\r\\n1777,Yes,Female\\r\\n1550,No,Male\\r\\n1715,Yes,Male\\r\\n1925,Yes,Female\\r\\n1842,Yes,Male\\r\\n1786,Yes,Male\\r\\n1435,No,Male\\r\\n1387,No,Male\\r\\n1521,No,Male\\r\\n1975,Yes,Female\\r\\n1435,No,Male\\r\\n1714,Yes,Male\\r\\n1634,Yes,Male\\r\\n1464,No,Female\\r\\n1794,Yes,Male\\r\\n1855,Yes,Male\\r\\n1953,Yes,Male\\r\\n1469,No,Male\\r\\n1663,Yes,Male\\r\\n1907,Yes,Female\\r\\n1990,Yes,Female\\r\\n1542,No,Male\\r\\n1808,Yes,Female\\r\\n1966,Yes,Female\\r\\n1679,No,Female\\r\\n2021,Yes,Female\\r\\n2015,Yes,Female\\r\\n1473,No,Male\\r\\n1979,Yes,Male\\r\\n1787,Yes,Female\\r\\n1687,Yes,Female\\r\\n1674,No,Female\\r\\n1478,No,Female\\r\\n1735,Yes,Female\\r\\n1720,Yes,Female\\r\\n1494,No,Male\\r\\n1964,Yes,Male\\r\\n1843,Yes,Female\\r\\n1550,No,Female\\r\\n1764,Yes,Female\\r\\n1712,Yes,Female\\r\\n1775,Yes,Female\\r\\n1531,No,Male\\r\\n1781,Yes,Female\\r\\n1579,No,Male\\r\\n1526,No,Female\\r\\n1778,Yes,Female\\r\\n1769,Yes,Female\\r\\n1824,Yes,Female\\r\\n1481,No,Male\\r\\n1464,No,Male\\r\\n1591,No,Male\\r\\n1666,No,Male\\r\\n1455,No,Male\\r\\n1934,Yes,Female\\r\\n1625,No,Male\\r\\n1334,No,Male\\r\\n1721,Yes,Female\\r\\n1475,No,Male\\r\\n1662,Yes,Female\\r\\n1861,Yes,Female\\r\\n1936,Yes,Female\\r\\n1572,No,Male\\r\\n1508,No,Female\\r\\n1430,No,Male\\r\\n1891,Yes,Female\\r\\n1550,No,Male\\r\\n1741,Yes,Female\\r\\n1690,No,Male\\r\\n1687,Yes,Male\\r\\n1730,Yes,Male\\r\\n1674,Yes,Female\\r\\n1475,No,Male\\r\\n1962,Yes,Female\\r\\n1532,No,Male\\r\\n1492,No,Male\\r\\n1502,No,Male\\r\\n1974,Yes,Female\\r\\n1607,No,Male\\r\\n1412,No,Female\\r\\n1557,No,Male\\r\\n1821,Yes,Male\\r\\n1760,Yes,Female\\r\\n1685,Yes,Male\\r\\n1773,Yes,Female\\r\\n1826,Yes,Female\\r\\n1565,No,Female\\r\\n1510,No,Male\\r\\n1374,No,Male\\r\\n1402,No,Male\\r\\n1702,Yes,Male\\r\\n1956,Yes,Female\\r\\n1933,Yes,Male\\r\\n1832,Yes,Male\\r\\n1893,Yes,Male\\r\\n1831,Yes,Female\\r\\n1487,No,Male\\r\\n2041,Yes,Female\\r\\n1850,Yes,Male\\r\\n1555,No,Female\\r\\n2020,Yes,Female\\r\\n1593,No,Male\\r\\n1934,Yes,Female\\r\\n1808,Yes,Male\\r\\n1722,Yes,Female\\r\\n1750,Yes,Male\\r\\n1555,No,Male\\r\\n1524,No,Male\\r\\n1461,No,Male\\r\\n'}"
            ]
          },
          "metadata": {},
          "execution_count": 26
        }
      ]
    },
    {
      "cell_type": "code",
      "source": [
        "df= pd.read_csv(\"/content/Binary predictors.csv\")\n",
        "df"
      ],
      "metadata": {
        "colab": {
          "base_uri": "https://localhost:8080/",
          "height": 423
        },
        "id": "2HtrAFiBep3Z",
        "outputId": "e5d2fb89-5de6-4447-b48a-2af9a605e88d"
      },
      "execution_count": null,
      "outputs": [
        {
          "output_type": "execute_result",
          "data": {
            "text/html": [
              "\n",
              "  <div id=\"df-52e331e7-2dfb-460b-8ed9-eec480316f28\">\n",
              "    <div class=\"colab-df-container\">\n",
              "      <div>\n",
              "<style scoped>\n",
              "    .dataframe tbody tr th:only-of-type {\n",
              "        vertical-align: middle;\n",
              "    }\n",
              "\n",
              "    .dataframe tbody tr th {\n",
              "        vertical-align: top;\n",
              "    }\n",
              "\n",
              "    .dataframe thead th {\n",
              "        text-align: right;\n",
              "    }\n",
              "</style>\n",
              "<table border=\"1\" class=\"dataframe\">\n",
              "  <thead>\n",
              "    <tr style=\"text-align: right;\">\n",
              "      <th></th>\n",
              "      <th>Marks</th>\n",
              "      <th>Admitted</th>\n",
              "      <th>Gender</th>\n",
              "    </tr>\n",
              "  </thead>\n",
              "  <tbody>\n",
              "    <tr>\n",
              "      <th>0</th>\n",
              "      <td>1363</td>\n",
              "      <td>No</td>\n",
              "      <td>Male</td>\n",
              "    </tr>\n",
              "    <tr>\n",
              "      <th>1</th>\n",
              "      <td>1792</td>\n",
              "      <td>Yes</td>\n",
              "      <td>Female</td>\n",
              "    </tr>\n",
              "    <tr>\n",
              "      <th>2</th>\n",
              "      <td>1954</td>\n",
              "      <td>Yes</td>\n",
              "      <td>Female</td>\n",
              "    </tr>\n",
              "    <tr>\n",
              "      <th>3</th>\n",
              "      <td>1653</td>\n",
              "      <td>No</td>\n",
              "      <td>Male</td>\n",
              "    </tr>\n",
              "    <tr>\n",
              "      <th>4</th>\n",
              "      <td>1593</td>\n",
              "      <td>No</td>\n",
              "      <td>Male</td>\n",
              "    </tr>\n",
              "    <tr>\n",
              "      <th>...</th>\n",
              "      <td>...</td>\n",
              "      <td>...</td>\n",
              "      <td>...</td>\n",
              "    </tr>\n",
              "    <tr>\n",
              "      <th>163</th>\n",
              "      <td>1722</td>\n",
              "      <td>Yes</td>\n",
              "      <td>Female</td>\n",
              "    </tr>\n",
              "    <tr>\n",
              "      <th>164</th>\n",
              "      <td>1750</td>\n",
              "      <td>Yes</td>\n",
              "      <td>Male</td>\n",
              "    </tr>\n",
              "    <tr>\n",
              "      <th>165</th>\n",
              "      <td>1555</td>\n",
              "      <td>No</td>\n",
              "      <td>Male</td>\n",
              "    </tr>\n",
              "    <tr>\n",
              "      <th>166</th>\n",
              "      <td>1524</td>\n",
              "      <td>No</td>\n",
              "      <td>Male</td>\n",
              "    </tr>\n",
              "    <tr>\n",
              "      <th>167</th>\n",
              "      <td>1461</td>\n",
              "      <td>No</td>\n",
              "      <td>Male</td>\n",
              "    </tr>\n",
              "  </tbody>\n",
              "</table>\n",
              "<p>168 rows × 3 columns</p>\n",
              "</div>\n",
              "      <button class=\"colab-df-convert\" onclick=\"convertToInteractive('df-52e331e7-2dfb-460b-8ed9-eec480316f28')\"\n",
              "              title=\"Convert this dataframe to an interactive table.\"\n",
              "              style=\"display:none;\">\n",
              "        \n",
              "  <svg xmlns=\"http://www.w3.org/2000/svg\" height=\"24px\"viewBox=\"0 0 24 24\"\n",
              "       width=\"24px\">\n",
              "    <path d=\"M0 0h24v24H0V0z\" fill=\"none\"/>\n",
              "    <path d=\"M18.56 5.44l.94 2.06.94-2.06 2.06-.94-2.06-.94-.94-2.06-.94 2.06-2.06.94zm-11 1L8.5 8.5l.94-2.06 2.06-.94-2.06-.94L8.5 2.5l-.94 2.06-2.06.94zm10 10l.94 2.06.94-2.06 2.06-.94-2.06-.94-.94-2.06-.94 2.06-2.06.94z\"/><path d=\"M17.41 7.96l-1.37-1.37c-.4-.4-.92-.59-1.43-.59-.52 0-1.04.2-1.43.59L10.3 9.45l-7.72 7.72c-.78.78-.78 2.05 0 2.83L4 21.41c.39.39.9.59 1.41.59.51 0 1.02-.2 1.41-.59l7.78-7.78 2.81-2.81c.8-.78.8-2.07 0-2.86zM5.41 20L4 18.59l7.72-7.72 1.47 1.35L5.41 20z\"/>\n",
              "  </svg>\n",
              "      </button>\n",
              "      \n",
              "  <style>\n",
              "    .colab-df-container {\n",
              "      display:flex;\n",
              "      flex-wrap:wrap;\n",
              "      gap: 12px;\n",
              "    }\n",
              "\n",
              "    .colab-df-convert {\n",
              "      background-color: #E8F0FE;\n",
              "      border: none;\n",
              "      border-radius: 50%;\n",
              "      cursor: pointer;\n",
              "      display: none;\n",
              "      fill: #1967D2;\n",
              "      height: 32px;\n",
              "      padding: 0 0 0 0;\n",
              "      width: 32px;\n",
              "    }\n",
              "\n",
              "    .colab-df-convert:hover {\n",
              "      background-color: #E2EBFA;\n",
              "      box-shadow: 0px 1px 2px rgba(60, 64, 67, 0.3), 0px 1px 3px 1px rgba(60, 64, 67, 0.15);\n",
              "      fill: #174EA6;\n",
              "    }\n",
              "\n",
              "    [theme=dark] .colab-df-convert {\n",
              "      background-color: #3B4455;\n",
              "      fill: #D2E3FC;\n",
              "    }\n",
              "\n",
              "    [theme=dark] .colab-df-convert:hover {\n",
              "      background-color: #434B5C;\n",
              "      box-shadow: 0px 1px 3px 1px rgba(0, 0, 0, 0.15);\n",
              "      filter: drop-shadow(0px 1px 2px rgba(0, 0, 0, 0.3));\n",
              "      fill: #FFFFFF;\n",
              "    }\n",
              "  </style>\n",
              "\n",
              "      <script>\n",
              "        const buttonEl =\n",
              "          document.querySelector('#df-52e331e7-2dfb-460b-8ed9-eec480316f28 button.colab-df-convert');\n",
              "        buttonEl.style.display =\n",
              "          google.colab.kernel.accessAllowed ? 'block' : 'none';\n",
              "\n",
              "        async function convertToInteractive(key) {\n",
              "          const element = document.querySelector('#df-52e331e7-2dfb-460b-8ed9-eec480316f28');\n",
              "          const dataTable =\n",
              "            await google.colab.kernel.invokeFunction('convertToInteractive',\n",
              "                                                     [key], {});\n",
              "          if (!dataTable) return;\n",
              "\n",
              "          const docLinkHtml = 'Like what you see? Visit the ' +\n",
              "            '<a target=\"_blank\" href=https://colab.research.google.com/notebooks/data_table.ipynb>data table notebook</a>'\n",
              "            + ' to learn more about interactive tables.';\n",
              "          element.innerHTML = '';\n",
              "          dataTable['output_type'] = 'display_data';\n",
              "          await google.colab.output.renderOutput(dataTable, element);\n",
              "          const docLink = document.createElement('div');\n",
              "          docLink.innerHTML = docLinkHtml;\n",
              "          element.appendChild(docLink);\n",
              "        }\n",
              "      </script>\n",
              "    </div>\n",
              "  </div>\n",
              "  "
            ],
            "text/plain": [
              "     Marks Admitted  Gender\n",
              "0     1363       No    Male\n",
              "1     1792      Yes  Female\n",
              "2     1954      Yes  Female\n",
              "3     1653       No    Male\n",
              "4     1593       No    Male\n",
              "..     ...      ...     ...\n",
              "163   1722      Yes  Female\n",
              "164   1750      Yes    Male\n",
              "165   1555       No    Male\n",
              "166   1524       No    Male\n",
              "167   1461       No    Male\n",
              "\n",
              "[168 rows x 3 columns]"
            ]
          },
          "metadata": {},
          "execution_count": 27
        }
      ]
    },
    {
      "cell_type": "code",
      "source": [
        "df[\"Admitted\"]=df[\"Admitted\"].map({\"Yes\":1,\"No\":0})\n",
        "df"
      ],
      "metadata": {
        "colab": {
          "base_uri": "https://localhost:8080/",
          "height": 423
        },
        "id": "4vVt795be1_n",
        "outputId": "a0af67c9-29f4-4a61-e080-17a8a498e389"
      },
      "execution_count": null,
      "outputs": [
        {
          "output_type": "execute_result",
          "data": {
            "text/html": [
              "\n",
              "  <div id=\"df-c6be2914-931e-4f02-a97e-62c0647f0ccb\">\n",
              "    <div class=\"colab-df-container\">\n",
              "      <div>\n",
              "<style scoped>\n",
              "    .dataframe tbody tr th:only-of-type {\n",
              "        vertical-align: middle;\n",
              "    }\n",
              "\n",
              "    .dataframe tbody tr th {\n",
              "        vertical-align: top;\n",
              "    }\n",
              "\n",
              "    .dataframe thead th {\n",
              "        text-align: right;\n",
              "    }\n",
              "</style>\n",
              "<table border=\"1\" class=\"dataframe\">\n",
              "  <thead>\n",
              "    <tr style=\"text-align: right;\">\n",
              "      <th></th>\n",
              "      <th>Marks</th>\n",
              "      <th>Admitted</th>\n",
              "      <th>Gender</th>\n",
              "    </tr>\n",
              "  </thead>\n",
              "  <tbody>\n",
              "    <tr>\n",
              "      <th>0</th>\n",
              "      <td>1363</td>\n",
              "      <td>0</td>\n",
              "      <td>Male</td>\n",
              "    </tr>\n",
              "    <tr>\n",
              "      <th>1</th>\n",
              "      <td>1792</td>\n",
              "      <td>1</td>\n",
              "      <td>Female</td>\n",
              "    </tr>\n",
              "    <tr>\n",
              "      <th>2</th>\n",
              "      <td>1954</td>\n",
              "      <td>1</td>\n",
              "      <td>Female</td>\n",
              "    </tr>\n",
              "    <tr>\n",
              "      <th>3</th>\n",
              "      <td>1653</td>\n",
              "      <td>0</td>\n",
              "      <td>Male</td>\n",
              "    </tr>\n",
              "    <tr>\n",
              "      <th>4</th>\n",
              "      <td>1593</td>\n",
              "      <td>0</td>\n",
              "      <td>Male</td>\n",
              "    </tr>\n",
              "    <tr>\n",
              "      <th>...</th>\n",
              "      <td>...</td>\n",
              "      <td>...</td>\n",
              "      <td>...</td>\n",
              "    </tr>\n",
              "    <tr>\n",
              "      <th>163</th>\n",
              "      <td>1722</td>\n",
              "      <td>1</td>\n",
              "      <td>Female</td>\n",
              "    </tr>\n",
              "    <tr>\n",
              "      <th>164</th>\n",
              "      <td>1750</td>\n",
              "      <td>1</td>\n",
              "      <td>Male</td>\n",
              "    </tr>\n",
              "    <tr>\n",
              "      <th>165</th>\n",
              "      <td>1555</td>\n",
              "      <td>0</td>\n",
              "      <td>Male</td>\n",
              "    </tr>\n",
              "    <tr>\n",
              "      <th>166</th>\n",
              "      <td>1524</td>\n",
              "      <td>0</td>\n",
              "      <td>Male</td>\n",
              "    </tr>\n",
              "    <tr>\n",
              "      <th>167</th>\n",
              "      <td>1461</td>\n",
              "      <td>0</td>\n",
              "      <td>Male</td>\n",
              "    </tr>\n",
              "  </tbody>\n",
              "</table>\n",
              "<p>168 rows × 3 columns</p>\n",
              "</div>\n",
              "      <button class=\"colab-df-convert\" onclick=\"convertToInteractive('df-c6be2914-931e-4f02-a97e-62c0647f0ccb')\"\n",
              "              title=\"Convert this dataframe to an interactive table.\"\n",
              "              style=\"display:none;\">\n",
              "        \n",
              "  <svg xmlns=\"http://www.w3.org/2000/svg\" height=\"24px\"viewBox=\"0 0 24 24\"\n",
              "       width=\"24px\">\n",
              "    <path d=\"M0 0h24v24H0V0z\" fill=\"none\"/>\n",
              "    <path d=\"M18.56 5.44l.94 2.06.94-2.06 2.06-.94-2.06-.94-.94-2.06-.94 2.06-2.06.94zm-11 1L8.5 8.5l.94-2.06 2.06-.94-2.06-.94L8.5 2.5l-.94 2.06-2.06.94zm10 10l.94 2.06.94-2.06 2.06-.94-2.06-.94-.94-2.06-.94 2.06-2.06.94z\"/><path d=\"M17.41 7.96l-1.37-1.37c-.4-.4-.92-.59-1.43-.59-.52 0-1.04.2-1.43.59L10.3 9.45l-7.72 7.72c-.78.78-.78 2.05 0 2.83L4 21.41c.39.39.9.59 1.41.59.51 0 1.02-.2 1.41-.59l7.78-7.78 2.81-2.81c.8-.78.8-2.07 0-2.86zM5.41 20L4 18.59l7.72-7.72 1.47 1.35L5.41 20z\"/>\n",
              "  </svg>\n",
              "      </button>\n",
              "      \n",
              "  <style>\n",
              "    .colab-df-container {\n",
              "      display:flex;\n",
              "      flex-wrap:wrap;\n",
              "      gap: 12px;\n",
              "    }\n",
              "\n",
              "    .colab-df-convert {\n",
              "      background-color: #E8F0FE;\n",
              "      border: none;\n",
              "      border-radius: 50%;\n",
              "      cursor: pointer;\n",
              "      display: none;\n",
              "      fill: #1967D2;\n",
              "      height: 32px;\n",
              "      padding: 0 0 0 0;\n",
              "      width: 32px;\n",
              "    }\n",
              "\n",
              "    .colab-df-convert:hover {\n",
              "      background-color: #E2EBFA;\n",
              "      box-shadow: 0px 1px 2px rgba(60, 64, 67, 0.3), 0px 1px 3px 1px rgba(60, 64, 67, 0.15);\n",
              "      fill: #174EA6;\n",
              "    }\n",
              "\n",
              "    [theme=dark] .colab-df-convert {\n",
              "      background-color: #3B4455;\n",
              "      fill: #D2E3FC;\n",
              "    }\n",
              "\n",
              "    [theme=dark] .colab-df-convert:hover {\n",
              "      background-color: #434B5C;\n",
              "      box-shadow: 0px 1px 3px 1px rgba(0, 0, 0, 0.15);\n",
              "      filter: drop-shadow(0px 1px 2px rgba(0, 0, 0, 0.3));\n",
              "      fill: #FFFFFF;\n",
              "    }\n",
              "  </style>\n",
              "\n",
              "      <script>\n",
              "        const buttonEl =\n",
              "          document.querySelector('#df-c6be2914-931e-4f02-a97e-62c0647f0ccb button.colab-df-convert');\n",
              "        buttonEl.style.display =\n",
              "          google.colab.kernel.accessAllowed ? 'block' : 'none';\n",
              "\n",
              "        async function convertToInteractive(key) {\n",
              "          const element = document.querySelector('#df-c6be2914-931e-4f02-a97e-62c0647f0ccb');\n",
              "          const dataTable =\n",
              "            await google.colab.kernel.invokeFunction('convertToInteractive',\n",
              "                                                     [key], {});\n",
              "          if (!dataTable) return;\n",
              "\n",
              "          const docLinkHtml = 'Like what you see? Visit the ' +\n",
              "            '<a target=\"_blank\" href=https://colab.research.google.com/notebooks/data_table.ipynb>data table notebook</a>'\n",
              "            + ' to learn more about interactive tables.';\n",
              "          element.innerHTML = '';\n",
              "          dataTable['output_type'] = 'display_data';\n",
              "          await google.colab.output.renderOutput(dataTable, element);\n",
              "          const docLink = document.createElement('div');\n",
              "          docLink.innerHTML = docLinkHtml;\n",
              "          element.appendChild(docLink);\n",
              "        }\n",
              "      </script>\n",
              "    </div>\n",
              "  </div>\n",
              "  "
            ],
            "text/plain": [
              "     Marks  Admitted  Gender\n",
              "0     1363         0    Male\n",
              "1     1792         1  Female\n",
              "2     1954         1  Female\n",
              "3     1653         0    Male\n",
              "4     1593         0    Male\n",
              "..     ...       ...     ...\n",
              "163   1722         1  Female\n",
              "164   1750         1    Male\n",
              "165   1555         0    Male\n",
              "166   1524         0    Male\n",
              "167   1461         0    Male\n",
              "\n",
              "[168 rows x 3 columns]"
            ]
          },
          "metadata": {},
          "execution_count": 28
        }
      ]
    },
    {
      "cell_type": "code",
      "source": [
        "sns.set"
      ],
      "metadata": {
        "colab": {
          "base_uri": "https://localhost:8080/"
        },
        "id": "XGOmzITDfD9y",
        "outputId": "a70c789b-d02b-413a-eaeb-a7592ec82adc"
      },
      "execution_count": null,
      "outputs": [
        {
          "output_type": "execute_result",
          "data": {
            "text/plain": [
              "<function seaborn.rcmod.set>"
            ]
          },
          "metadata": {},
          "execution_count": 29
        }
      ]
    },
    {
      "cell_type": "code",
      "source": [
        "plt.scatter(df[\"Marks\"],df[\"Admitted\"])\n",
        "plt.grid()\n",
        "plt.show()"
      ],
      "metadata": {
        "colab": {
          "base_uri": "https://localhost:8080/",
          "height": 265
        },
        "id": "j94xF6F0fHDP",
        "outputId": "fc5a189f-eb9e-43fd-ea9a-9e01a95dbfb3"
      },
      "execution_count": null,
      "outputs": [
        {
          "output_type": "display_data",
          "data": {
            "image/png": "[encoded data removed]",
            "text/plain": [
              "<Figure size 432x288 with 1 Axes>"
            ]
          },
          "metadata": {
            "needs_background": "light"
          }
        }
      ]
    },
    {
      "cell_type": "markdown",
      "source": [
        "in the above graph the no value is more than yes so we use LD to solve\n"
      ],
      "metadata": {
        "id": "fMLbteTngqaB"
      }
    },
    {
      "cell_type": "code",
      "source": [
        "n=np.random.logistic(loc=60,scale=2,size=1000)\n",
        "plt.plot(n)\n",
        "plt.show()"
      ],
      "metadata": {
        "colab": {
          "base_uri": "https://localhost:8080/",
          "height": 265
        },
        "id": "HcHYrMKXg0p3",
        "outputId": "4fcb4cad-f335-4faa-dd8e-9e2fad800ef9"
      },
      "execution_count": null,
      "outputs": [
        {
          "output_type": "display_data",
          "data": {
            "image/png": "[encoded data removed]",
            "text/plain": [
              "<Figure size 432x288 with 1 Axes>"
            ]
          },
          "metadata": {
            "needs_background": "light"
          }
        }
      ]
    },
    {
      "cell_type": "code",
      "source": [
        "x = np.random.normal(loc=60,scale=5,size=10000)\n",
        "y = np.random.binomial(n=100,p=0.6,size=10000)\n",
        "z=np.random.poisson(lam=60,size=1000)\n",
        "m = np.random.uniform(low=40,high=80,size=1000)\n",
        "n=np.random.logistic(loc=60,scale=2,size=1000)\n",
        "sns.distplot(x,hist=False,label='n')\n",
        "sns.distplot(y,hist=False,label='b')\n",
        "sns.distplot(z,hist=False,label='p')\n",
        "sns.distplot(m,hist=False,label='u')\n",
        "sns.distplot(n,hist=False,label='l')\n",
        "plt.legend()\n",
        "plt.plot()"
      ],
      "metadata": {
        "colab": {
          "base_uri": "https://localhost:8080/",
          "height": 476
        },
        "id": "tNiRzo2JhA_G",
        "outputId": "c5eee1c8-3d62-4417-93c3-fa5a2bcd65bd"
      },
      "execution_count": null,
      "outputs": [
        {
          "output_type": "stream",
          "name": "stderr",
          "text": [
            "/usr/local/lib/python3.7/dist-packages/seaborn/distributions.py:2619: FutureWarning: `distplot` is a deprecated function and will be removed in a future version. Please adapt your code to use either `displot` (a figure-level function with similar flexibility) or `kdeplot` (an axes-level function for kernel density plots).\n",
            "  warnings.warn(msg, FutureWarning)\n",
            "/usr/local/lib/python3.7/dist-packages/seaborn/distributions.py:2619: FutureWarning: `distplot` is a deprecated function and will be removed in a future version. Please adapt your code to use either `displot` (a figure-level function with similar flexibility) or `kdeplot` (an axes-level function for kernel density plots).\n",
            "  warnings.warn(msg, FutureWarning)\n",
            "/usr/local/lib/python3.7/dist-packages/seaborn/distributions.py:2619: FutureWarning: `distplot` is a deprecated function and will be removed in a future version. Please adapt your code to use either `displot` (a figure-level function with similar flexibility) or `kdeplot` (an axes-level function for kernel density plots).\n",
            "  warnings.warn(msg, FutureWarning)\n",
            "/usr/local/lib/python3.7/dist-packages/seaborn/distributions.py:2619: FutureWarning: `distplot` is a deprecated function and will be removed in a future version. Please adapt your code to use either `displot` (a figure-level function with similar flexibility) or `kdeplot` (an axes-level function for kernel density plots).\n",
            "  warnings.warn(msg, FutureWarning)\n",
            "/usr/local/lib/python3.7/dist-packages/seaborn/distributions.py:2619: FutureWarning: `distplot` is a deprecated function and will be removed in a future version. Please adapt your code to use either `displot` (a figure-level function with similar flexibility) or `kdeplot` (an axes-level function for kernel density plots).\n",
            "  warnings.warn(msg, FutureWarning)\n"
          ]
        },
        {
          "output_type": "execute_result",
          "data": {
            "text/plain": [
              "[]"
            ]
          },
          "metadata": {},
          "execution_count": 32
        },
        {
          "output_type": "display_data",
          "data": {
            "image/png": "[encoded data removed]",
            "text/plain": [
              "<Figure size 432x288 with 1 Axes>"
            ]
          },
          "metadata": {
            "needs_background": "light"
          }
        }
      ]
    },
    {
      "cell_type": "markdown",
      "source": [
        "CHI SQuare Test"
      ],
      "metadata": {
        "id": "RuuBtlDZj1hj"
      }
    },
    {
      "cell_type": "code",
      "source": [
        "import matplotlib.pyplot as plt"
      ],
      "metadata": {
        "id": "gcmGgi8Dh0Mz"
      },
      "execution_count": null,
      "outputs": []
    },
    {
      "cell_type": "code",
      "source": [
        "x= np.random.chisquare(df=10,size=100)\n",
        "plt.plot(x)\n",
        "plt.show()\n",
        "plt.hist(x)\n",
        "plt.show()\n",
        "sns.distplot(x,hist=False)"
      ],
      "metadata": {
        "colab": {
          "base_uri": "https://localhost:8080/",
          "height": 833
        },
        "id": "qi-PdXmdkCku",
        "outputId": "1902a677-047a-46a5-82bf-ff6506b8d5d8"
      },
      "execution_count": null,
      "outputs": [
        {
          "output_type": "display_data",
          "data": {
            "image/png": "[encoded data removed]",
            "text/plain": [
              "<Figure size 432x288 with 1 Axes>"
            ]
          },
          "metadata": {
            "needs_background": "light"
          }
        },
        {
          "output_type": "display_data",
          "data": {
            "image/png": "[encoded data removed]",
            "text/plain": [
              "<Figure size 432x288 with 1 Axes>"
            ]
          },
          "metadata": {
            "needs_background": "light"
          }
        },
        {
          "output_type": "stream",
          "name": "stderr",
          "text": [
            "/usr/local/lib/python3.7/dist-packages/seaborn/distributions.py:2619: FutureWarning: `distplot` is a deprecated function and will be removed in a future version. Please adapt your code to use either `displot` (a figure-level function with similar flexibility) or `kdeplot` (an axes-level function for kernel density plots).\n",
            "  warnings.warn(msg, FutureWarning)\n"
          ]
        },
        {
          "output_type": "execute_result",
          "data": {
            "text/plain": [
              "<matplotlib.axes._subplots.AxesSubplot at 0x7f246d312710>"
            ]
          },
          "metadata": {},
          "execution_count": 37
        },
        {
          "output_type": "display_data",
          "data": {
            "image/png": "[encoded data removed]",
            "text/plain": [
              "<Figure size 432x288 with 1 Axes>"
            ]
          },
          "metadata": {
            "needs_background": "light"
          }
        }
      ]
    },
    {
      "cell_type": "code",
      "source": [
        "from PIL import Image"
      ],
      "metadata": {
        "id": "OEAyr8XPptYZ"
      },
      "execution_count": null,
      "outputs": []
    },
    {
      "cell_type": "code",
      "source": [
        "from google.colab import files\n",
        "files.upload()"
      ],
      "metadata": {
        "colab": {
          "resources": {
            "http://localhost:8080/nbextensions/google.colab/files.js": {
              "data": "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",
              "ok": true,
              "headers": [
                [
                  "content-type",
                  "application/javascript"
                ]
              ],
              "status": 200,
              "status_text": ""
            }
          },
          "base_uri": "https://localhost:8080/",
          "height": 111
        },
        "id": "EnH6KCm008iz",
        "outputId": "7b4d991c-dc14-4ac7-a583-a7b19ae45646"
      },
      "execution_count": null,
      "outputs": [
        {
          "output_type": "display_data",
          "data": {
            "text/html": [
              "\n",
              "     <input type=\"file\" id=\"files-2aeac039-c91f-4eb9-ad60-f60f3620f0a7\" name=\"files[]\" multiple disabled\n",
              "        style=\"border:none\" />\n",
              "     <output id=\"result-2aeac039-c91f-4eb9-ad60-f60f3620f0a7\">\n",
              "      Upload widget is only available when the cell has been executed in the\n",
              "      current browser session. Please rerun this cell to enable.\n",
              "      </output>\n",
              "      <script src=\"/nbextensions/google.colab/files.js\"></script> "
            ],
            "text/plain": [
              "<IPython.core.display.HTML object>"
            ]
          },
          "metadata": {}
        },
        {
          "output_type": "stream",
          "name": "stdout",
          "text": [
            "Saving SAMPLE.csv to SAMPLE.csv\n"
          ]
        },
        {
          "output_type": "execute_result",
          "data": {
            "text/plain": [
              "{'SAMPLE.csv': b'\\xef\\xbb\\xbfsl No,name,college,hsc,SSLC,arrears,cmark\\r\\n1,A1,IITM,89.9,92.6,0,95\\r\\n2,A2,ANNA UNIVERSITY,76.8,77.9,,89\\r\\n3,A3,ANNA UNIVERSITY,88.39,85.6,6,99\\r\\n4,A4,ANAMALAI UNIVERSITY,92.5,94.6,1,76\\r\\n5,A5,,79.3,65,2,89\\r\\n6,A6,SRM,,88.1,0,89.6\\r\\n7,A7,SAVEETHA,91.8,,7,78.3\\r\\n8,A8,,99.8,65.8,6,77.5\\r\\n,,,,,,\\r\\n9,A9,ANAMALAI UNIVERSITY,98.7,91,2,76\\r\\n10,AD,fogjof,56,9,78,2\\r\\n11,A10,IITM,94,77.6,1,75\\r\\n12,A11,IITK,88.2,75.9,2,72\\r\\n13,A12,,78.9,84.9,3,83\\r\\n14,A13,SRM,86.9,97,4,92\\r\\n'}"
            ]
          },
          "metadata": {},
          "execution_count": 1
        }
      ]
    },
    {
      "cell_type": "code",
      "source": [
        "painting = plt.imread(\"1.jpg\")\n",
        "painting.shape"
      ],
      "metadata": {
        "colab": {
          "base_uri": "https://localhost:8080/"
        },
        "id": "pmmN-8K71FJF",
        "outputId": "15567002-b5cf-45b7-9e11-f39dfffb4b9e"
      },
      "execution_count": null,
      "outputs": [
        {
          "output_type": "execute_result",
          "data": {
            "text/plain": [
              "(768, 1024, 3)"
            ]
          },
          "metadata": {},
          "execution_count": 5
        }
      ]
    },
    {
      "cell_type": "code",
      "source": [
        "plt.imshow(painting)"
      ],
      "metadata": {
        "colab": {
          "base_uri": "https://localhost:8080/",
          "height": 286
        },
        "id": "bhU27XkY1cqj",
        "outputId": "7e10f415-8317-4466-bb95-30d24ac0d9f8"
      },
      "execution_count": null,
      "outputs": [
        {
          "output_type": "execute_result",
          "data": {
            "text/plain": [
              "<matplotlib.image.AxesImage at 0x7f2bef2a8f10>"
            ]
          },
          "metadata": {},
          "execution_count": 6
        },
        {
          "output_type": "display_data",
          "data": {
            "image/png": "[encoded data removed]",
            "text/plain": [
              "<Figure size 432x288 with 1 Axes>"
            ]
          },
          "metadata": {
            "needs_background": "light"
          }
        }
      ]
    },
    {
      "cell_type": "code",
      "source": [
        "painting.shape[0]*painting.shape[1]"
      ],
      "metadata": {
        "colab": {
          "base_uri": "https://localhost:8080/"
        },
        "id": "5Oz4RYgj12Fa",
        "outputId": "cef941b9-136d-40f0-c842-6e6a473c3f93"
      },
      "execution_count": null,
      "outputs": [
        {
          "output_type": "execute_result",
          "data": {
            "text/plain": [
              "786432"
            ]
          },
          "metadata": {},
          "execution_count": 7
        }
      ]
    },
    {
      "cell_type": "code",
      "source": [
        "img=Image.open(\"1.jpg\").convert(\"L\")#l=greyscale image\n",
        "rawdata=img.load()"
      ],
      "metadata": {
        "id": "WVoecvb72nZr"
      },
      "execution_count": null,
      "outputs": []
    },
    {
      "cell_type": "code",
      "source": [
        "import pandas as pd\n"
      ],
      "metadata": {
        "id": "sIGznxWU6QVM"
      },
      "execution_count": null,
      "outputs": []
    },
    {
      "cell_type": "code",
      "source": [
        "dir(pd)"
      ],
      "metadata": {
        "id": "eaY-noRSSuMY"
      },
      "execution_count": null,
      "outputs": []
    },
    {
      "cell_type": "code",
      "source": [
        "rawdata[200,600]"
      ],
      "metadata": {
        "colab": {
          "base_uri": "https://localhost:8080/"
        },
        "id": "JikXu5V56T1W",
        "outputId": "7b1eb145-dde6-4ea3-a69e-958119e6c92d"
      },
      "execution_count": null,
      "outputs": [
        {
          "output_type": "execute_result",
          "data": {
            "text/plain": [
              "0"
            ]
          },
          "metadata": {},
          "execution_count": 17
        }
      ]
    },
    {
      "cell_type": "code",
      "source": [
        "datanew=[]\n",
        "w=540\n",
        "while(w<570):\n",
        "  h=410\n",
        "  data=[]\n",
        "  while(h<460):\n",
        "    data.append(rawdata[w,h])\n",
        "    h=h+1\n",
        "  datanew.append(data)\n",
        "  w += 1"
      ],
      "metadata": {
        "id": "PHWWUaDy6bR_"
      },
      "execution_count": null,
      "outputs": []
    },
    {
      "cell_type": "code",
      "source": [
        "len(datanew[1])"
      ],
      "metadata": {
        "colab": {
          "base_uri": "https://localhost:8080/"
        },
        "id": "QA3WXcBj88V0",
        "outputId": "f429b257-11e6-458a-8337-54a57627b31b"
      },
      "execution_count": null,
      "outputs": [
        {
          "output_type": "execute_result",
          "data": {
            "text/plain": [
              "50"
            ]
          },
          "metadata": {},
          "execution_count": 20
        }
      ]
    },
    {
      "cell_type": "code",
      "source": [
        "df=pd.DataFrame(datanew)\n"
      ],
      "metadata": {
        "id": "pOjLtF6j9Ap9"
      },
      "execution_count": null,
      "outputs": []
    },
    {
      "cell_type": "code",
      "source": [
        "df"
      ],
      "metadata": {
        "colab": {
          "base_uri": "https://localhost:8080/",
          "height": 1000
        },
        "id": "bsGQLd9L9QIQ",
        "outputId": "89e7f27f-bcb6-4310-fa8c-d42bf7b6faf2"
      },
      "execution_count": null,
      "outputs": [
        {
          "output_type": "execute_result",
          "data": {
            "text/html": [
              "\n",
              "  <div id=\"df-ef5b4b99-a98e-413b-987e-1542ec06fe01\">\n",
              "    <div class=\"colab-df-container\">\n",
              "      <div>\n",
              "<style scoped>\n",
              "    .dataframe tbody tr th:only-of-type {\n",
              "        vertical-align: middle;\n",
              "    }\n",
              "\n",
              "    .dataframe tbody tr th {\n",
              "        vertical-align: top;\n",
              "    }\n",
              "\n",
              "    .dataframe thead th {\n",
              "        text-align: right;\n",
              "    }\n",
              "</style>\n",
              "<table border=\"1\" class=\"dataframe\">\n",
              "  <thead>\n",
              "    <tr style=\"text-align: right;\">\n",
              "      <th></th>\n",
              "      <th>0</th>\n",
              "      <th>1</th>\n",
              "      <th>2</th>\n",
              "      <th>3</th>\n",
              "      <th>4</th>\n",
              "      <th>5</th>\n",
              "      <th>6</th>\n",
              "      <th>7</th>\n",
              "      <th>8</th>\n",
              "      <th>9</th>\n",
              "      <th>10</th>\n",
              "      <th>11</th>\n",
              "      <th>12</th>\n",
              "      <th>13</th>\n",
              "      <th>14</th>\n",
              "      <th>15</th>\n",
              "      <th>16</th>\n",
              "      <th>17</th>\n",
              "      <th>18</th>\n",
              "      <th>19</th>\n",
              "      <th>20</th>\n",
              "      <th>21</th>\n",
              "      <th>22</th>\n",
              "      <th>23</th>\n",
              "      <th>24</th>\n",
              "      <th>25</th>\n",
              "      <th>26</th>\n",
              "      <th>27</th>\n",
              "      <th>28</th>\n",
              "      <th>29</th>\n",
              "      <th>30</th>\n",
              "      <th>31</th>\n",
              "      <th>32</th>\n",
              "      <th>33</th>\n",
              "      <th>34</th>\n",
              "      <th>35</th>\n",
              "      <th>36</th>\n",
              "      <th>37</th>\n",
              "      <th>38</th>\n",
              "      <th>39</th>\n",
              "      <th>40</th>\n",
              "      <th>41</th>\n",
              "      <th>42</th>\n",
              "      <th>43</th>\n",
              "      <th>44</th>\n",
              "      <th>45</th>\n",
              "      <th>46</th>\n",
              "      <th>47</th>\n",
              "      <th>48</th>\n",
              "      <th>49</th>\n",
              "    </tr>\n",
              "  </thead>\n",
              "  <tbody>\n",
              "    <tr>\n",
              "      <th>0</th>\n",
              "      <td>55</td>\n",
              "      <td>54</td>\n",
              "      <td>54</td>\n",
              "      <td>53</td>\n",
              "      <td>54</td>\n",
              "      <td>55</td>\n",
              "      <td>56</td>\n",
              "      <td>58</td>\n",
              "      <td>62</td>\n",
              "      <td>66</td>\n",
              "      <td>69</td>\n",
              "      <td>71</td>\n",
              "      <td>72</td>\n",
              "      <td>73</td>\n",
              "      <td>74</td>\n",
              "      <td>72</td>\n",
              "      <td>69</td>\n",
              "      <td>66</td>\n",
              "      <td>64</td>\n",
              "      <td>63</td>\n",
              "      <td>61</td>\n",
              "      <td>61</td>\n",
              "      <td>62</td>\n",
              "      <td>63</td>\n",
              "      <td>65</td>\n",
              "      <td>66</td>\n",
              "      <td>66</td>\n",
              "      <td>64</td>\n",
              "      <td>63</td>\n",
              "      <td>62</td>\n",
              "      <td>61</td>\n",
              "      <td>58</td>\n",
              "      <td>58</td>\n",
              "      <td>58</td>\n",
              "      <td>57</td>\n",
              "      <td>56</td>\n",
              "      <td>55</td>\n",
              "      <td>53</td>\n",
              "      <td>50</td>\n",
              "      <td>49</td>\n",
              "      <td>47</td>\n",
              "      <td>45</td>\n",
              "      <td>44</td>\n",
              "      <td>43</td>\n",
              "      <td>42</td>\n",
              "      <td>42</td>\n",
              "      <td>42</td>\n",
              "      <td>43</td>\n",
              "      <td>45</td>\n",
              "      <td>48</td>\n",
              "    </tr>\n",
              "    <tr>\n",
              "      <th>1</th>\n",
              "      <td>55</td>\n",
              "      <td>53</td>\n",
              "      <td>51</td>\n",
              "      <td>50</td>\n",
              "      <td>50</td>\n",
              "      <td>51</td>\n",
              "      <td>51</td>\n",
              "      <td>53</td>\n",
              "      <td>59</td>\n",
              "      <td>65</td>\n",
              "      <td>70</td>\n",
              "      <td>73</td>\n",
              "      <td>75</td>\n",
              "      <td>76</td>\n",
              "      <td>76</td>\n",
              "      <td>75</td>\n",
              "      <td>73</td>\n",
              "      <td>70</td>\n",
              "      <td>68</td>\n",
              "      <td>66</td>\n",
              "      <td>64</td>\n",
              "      <td>63</td>\n",
              "      <td>64</td>\n",
              "      <td>65</td>\n",
              "      <td>66</td>\n",
              "      <td>67</td>\n",
              "      <td>68</td>\n",
              "      <td>67</td>\n",
              "      <td>66</td>\n",
              "      <td>66</td>\n",
              "      <td>65</td>\n",
              "      <td>63</td>\n",
              "      <td>63</td>\n",
              "      <td>64</td>\n",
              "      <td>64</td>\n",
              "      <td>63</td>\n",
              "      <td>62</td>\n",
              "      <td>60</td>\n",
              "      <td>57</td>\n",
              "      <td>54</td>\n",
              "      <td>49</td>\n",
              "      <td>45</td>\n",
              "      <td>43</td>\n",
              "      <td>40</td>\n",
              "      <td>37</td>\n",
              "      <td>35</td>\n",
              "      <td>35</td>\n",
              "      <td>35</td>\n",
              "      <td>37</td>\n",
              "      <td>41</td>\n",
              "    </tr>\n",
              "    <tr>\n",
              "      <th>2</th>\n",
              "      <td>54</td>\n",
              "      <td>53</td>\n",
              "      <td>51</td>\n",
              "      <td>49</td>\n",
              "      <td>49</td>\n",
              "      <td>50</td>\n",
              "      <td>50</td>\n",
              "      <td>52</td>\n",
              "      <td>57</td>\n",
              "      <td>64</td>\n",
              "      <td>69</td>\n",
              "      <td>72</td>\n",
              "      <td>75</td>\n",
              "      <td>77</td>\n",
              "      <td>77</td>\n",
              "      <td>77</td>\n",
              "      <td>76</td>\n",
              "      <td>76</td>\n",
              "      <td>75</td>\n",
              "      <td>73</td>\n",
              "      <td>71</td>\n",
              "      <td>70</td>\n",
              "      <td>70</td>\n",
              "      <td>70</td>\n",
              "      <td>70</td>\n",
              "      <td>70</td>\n",
              "      <td>69</td>\n",
              "      <td>68</td>\n",
              "      <td>67</td>\n",
              "      <td>67</td>\n",
              "      <td>65</td>\n",
              "      <td>64</td>\n",
              "      <td>65</td>\n",
              "      <td>67</td>\n",
              "      <td>68</td>\n",
              "      <td>69</td>\n",
              "      <td>68</td>\n",
              "      <td>66</td>\n",
              "      <td>63</td>\n",
              "      <td>59</td>\n",
              "      <td>53</td>\n",
              "      <td>49</td>\n",
              "      <td>46</td>\n",
              "      <td>43</td>\n",
              "      <td>39</td>\n",
              "      <td>36</td>\n",
              "      <td>37</td>\n",
              "      <td>35</td>\n",
              "      <td>35</td>\n",
              "      <td>39</td>\n",
              "    </tr>\n",
              "    <tr>\n",
              "      <th>3</th>\n",
              "      <td>53</td>\n",
              "      <td>53</td>\n",
              "      <td>52</td>\n",
              "      <td>50</td>\n",
              "      <td>50</td>\n",
              "      <td>50</td>\n",
              "      <td>52</td>\n",
              "      <td>53</td>\n",
              "      <td>57</td>\n",
              "      <td>63</td>\n",
              "      <td>68</td>\n",
              "      <td>70</td>\n",
              "      <td>73</td>\n",
              "      <td>76</td>\n",
              "      <td>77</td>\n",
              "      <td>78</td>\n",
              "      <td>79</td>\n",
              "      <td>80</td>\n",
              "      <td>81</td>\n",
              "      <td>80</td>\n",
              "      <td>79</td>\n",
              "      <td>78</td>\n",
              "      <td>77</td>\n",
              "      <td>77</td>\n",
              "      <td>75</td>\n",
              "      <td>72</td>\n",
              "      <td>70</td>\n",
              "      <td>67</td>\n",
              "      <td>66</td>\n",
              "      <td>65</td>\n",
              "      <td>63</td>\n",
              "      <td>62</td>\n",
              "      <td>64</td>\n",
              "      <td>68</td>\n",
              "      <td>70</td>\n",
              "      <td>71</td>\n",
              "      <td>71</td>\n",
              "      <td>69</td>\n",
              "      <td>69</td>\n",
              "      <td>65</td>\n",
              "      <td>60</td>\n",
              "      <td>56</td>\n",
              "      <td>53</td>\n",
              "      <td>50</td>\n",
              "      <td>46</td>\n",
              "      <td>44</td>\n",
              "      <td>42</td>\n",
              "      <td>39</td>\n",
              "      <td>37</td>\n",
              "      <td>39</td>\n",
              "    </tr>\n",
              "    <tr>\n",
              "      <th>4</th>\n",
              "      <td>51</td>\n",
              "      <td>51</td>\n",
              "      <td>50</td>\n",
              "      <td>50</td>\n",
              "      <td>51</td>\n",
              "      <td>52</td>\n",
              "      <td>55</td>\n",
              "      <td>54</td>\n",
              "      <td>57</td>\n",
              "      <td>62</td>\n",
              "      <td>65</td>\n",
              "      <td>68</td>\n",
              "      <td>71</td>\n",
              "      <td>72</td>\n",
              "      <td>76</td>\n",
              "      <td>79</td>\n",
              "      <td>83</td>\n",
              "      <td>86</td>\n",
              "      <td>88</td>\n",
              "      <td>89</td>\n",
              "      <td>88</td>\n",
              "      <td>89</td>\n",
              "      <td>87</td>\n",
              "      <td>84</td>\n",
              "      <td>80</td>\n",
              "      <td>76</td>\n",
              "      <td>73</td>\n",
              "      <td>68</td>\n",
              "      <td>65</td>\n",
              "      <td>64</td>\n",
              "      <td>61</td>\n",
              "      <td>59</td>\n",
              "      <td>61</td>\n",
              "      <td>68</td>\n",
              "      <td>72</td>\n",
              "      <td>73</td>\n",
              "      <td>73</td>\n",
              "      <td>75</td>\n",
              "      <td>74</td>\n",
              "      <td>70</td>\n",
              "      <td>67</td>\n",
              "      <td>64</td>\n",
              "      <td>60</td>\n",
              "      <td>57</td>\n",
              "      <td>55</td>\n",
              "      <td>52</td>\n",
              "      <td>47</td>\n",
              "      <td>44</td>\n",
              "      <td>41</td>\n",
              "      <td>42</td>\n",
              "    </tr>\n",
              "    <tr>\n",
              "      <th>5</th>\n",
              "      <td>50</td>\n",
              "      <td>51</td>\n",
              "      <td>51</td>\n",
              "      <td>51</td>\n",
              "      <td>53</td>\n",
              "      <td>54</td>\n",
              "      <td>52</td>\n",
              "      <td>53</td>\n",
              "      <td>57</td>\n",
              "      <td>62</td>\n",
              "      <td>65</td>\n",
              "      <td>68</td>\n",
              "      <td>70</td>\n",
              "      <td>72</td>\n",
              "      <td>75</td>\n",
              "      <td>79</td>\n",
              "      <td>84</td>\n",
              "      <td>89</td>\n",
              "      <td>94</td>\n",
              "      <td>96</td>\n",
              "      <td>98</td>\n",
              "      <td>99</td>\n",
              "      <td>91</td>\n",
              "      <td>87</td>\n",
              "      <td>82</td>\n",
              "      <td>78</td>\n",
              "      <td>73</td>\n",
              "      <td>68</td>\n",
              "      <td>64</td>\n",
              "      <td>62</td>\n",
              "      <td>60</td>\n",
              "      <td>58</td>\n",
              "      <td>61</td>\n",
              "      <td>67</td>\n",
              "      <td>73</td>\n",
              "      <td>74</td>\n",
              "      <td>75</td>\n",
              "      <td>77</td>\n",
              "      <td>79</td>\n",
              "      <td>75</td>\n",
              "      <td>73</td>\n",
              "      <td>70</td>\n",
              "      <td>66</td>\n",
              "      <td>63</td>\n",
              "      <td>61</td>\n",
              "      <td>58</td>\n",
              "      <td>56</td>\n",
              "      <td>51</td>\n",
              "      <td>47</td>\n",
              "      <td>45</td>\n",
              "    </tr>\n",
              "    <tr>\n",
              "      <th>6</th>\n",
              "      <td>49</td>\n",
              "      <td>51</td>\n",
              "      <td>53</td>\n",
              "      <td>55</td>\n",
              "      <td>58</td>\n",
              "      <td>61</td>\n",
              "      <td>65</td>\n",
              "      <td>68</td>\n",
              "      <td>73</td>\n",
              "      <td>79</td>\n",
              "      <td>84</td>\n",
              "      <td>87</td>\n",
              "      <td>89</td>\n",
              "      <td>90</td>\n",
              "      <td>93</td>\n",
              "      <td>94</td>\n",
              "      <td>96</td>\n",
              "      <td>98</td>\n",
              "      <td>98</td>\n",
              "      <td>98</td>\n",
              "      <td>97</td>\n",
              "      <td>96</td>\n",
              "      <td>92</td>\n",
              "      <td>88</td>\n",
              "      <td>83</td>\n",
              "      <td>78</td>\n",
              "      <td>74</td>\n",
              "      <td>68</td>\n",
              "      <td>65</td>\n",
              "      <td>63</td>\n",
              "      <td>61</td>\n",
              "      <td>60</td>\n",
              "      <td>62</td>\n",
              "      <td>68</td>\n",
              "      <td>73</td>\n",
              "      <td>76</td>\n",
              "      <td>77</td>\n",
              "      <td>79</td>\n",
              "      <td>81</td>\n",
              "      <td>78</td>\n",
              "      <td>76</td>\n",
              "      <td>73</td>\n",
              "      <td>70</td>\n",
              "      <td>68</td>\n",
              "      <td>66</td>\n",
              "      <td>63</td>\n",
              "      <td>60</td>\n",
              "      <td>56</td>\n",
              "      <td>52</td>\n",
              "      <td>49</td>\n",
              "    </tr>\n",
              "    <tr>\n",
              "      <th>7</th>\n",
              "      <td>49</td>\n",
              "      <td>52</td>\n",
              "      <td>57</td>\n",
              "      <td>61</td>\n",
              "      <td>65</td>\n",
              "      <td>70</td>\n",
              "      <td>75</td>\n",
              "      <td>81</td>\n",
              "      <td>88</td>\n",
              "      <td>95</td>\n",
              "      <td>102</td>\n",
              "      <td>107</td>\n",
              "      <td>109</td>\n",
              "      <td>109</td>\n",
              "      <td>112</td>\n",
              "      <td>110</td>\n",
              "      <td>109</td>\n",
              "      <td>106</td>\n",
              "      <td>103</td>\n",
              "      <td>99</td>\n",
              "      <td>96</td>\n",
              "      <td>93</td>\n",
              "      <td>88</td>\n",
              "      <td>84</td>\n",
              "      <td>80</td>\n",
              "      <td>77</td>\n",
              "      <td>74</td>\n",
              "      <td>70</td>\n",
              "      <td>67</td>\n",
              "      <td>66</td>\n",
              "      <td>64</td>\n",
              "      <td>64</td>\n",
              "      <td>65</td>\n",
              "      <td>70</td>\n",
              "      <td>75</td>\n",
              "      <td>77</td>\n",
              "      <td>78</td>\n",
              "      <td>80</td>\n",
              "      <td>80</td>\n",
              "      <td>78</td>\n",
              "      <td>77</td>\n",
              "      <td>75</td>\n",
              "      <td>73</td>\n",
              "      <td>71</td>\n",
              "      <td>70</td>\n",
              "      <td>67</td>\n",
              "      <td>64</td>\n",
              "      <td>61</td>\n",
              "      <td>57</td>\n",
              "      <td>55</td>\n",
              "    </tr>\n",
              "    <tr>\n",
              "      <th>8</th>\n",
              "      <td>49</td>\n",
              "      <td>53</td>\n",
              "      <td>60</td>\n",
              "      <td>65</td>\n",
              "      <td>72</td>\n",
              "      <td>79</td>\n",
              "      <td>85</td>\n",
              "      <td>93</td>\n",
              "      <td>102</td>\n",
              "      <td>111</td>\n",
              "      <td>120</td>\n",
              "      <td>126</td>\n",
              "      <td>127</td>\n",
              "      <td>127</td>\n",
              "      <td>128</td>\n",
              "      <td>122</td>\n",
              "      <td>117</td>\n",
              "      <td>112</td>\n",
              "      <td>107</td>\n",
              "      <td>102</td>\n",
              "      <td>97</td>\n",
              "      <td>92</td>\n",
              "      <td>85</td>\n",
              "      <td>82</td>\n",
              "      <td>78</td>\n",
              "      <td>75</td>\n",
              "      <td>73</td>\n",
              "      <td>71</td>\n",
              "      <td>70</td>\n",
              "      <td>70</td>\n",
              "      <td>67</td>\n",
              "      <td>67</td>\n",
              "      <td>69</td>\n",
              "      <td>73</td>\n",
              "      <td>76</td>\n",
              "      <td>78</td>\n",
              "      <td>79</td>\n",
              "      <td>80</td>\n",
              "      <td>82</td>\n",
              "      <td>80</td>\n",
              "      <td>79</td>\n",
              "      <td>79</td>\n",
              "      <td>77</td>\n",
              "      <td>76</td>\n",
              "      <td>75</td>\n",
              "      <td>72</td>\n",
              "      <td>71</td>\n",
              "      <td>68</td>\n",
              "      <td>64</td>\n",
              "      <td>61</td>\n",
              "    </tr>\n",
              "    <tr>\n",
              "      <th>9</th>\n",
              "      <td>49</td>\n",
              "      <td>54</td>\n",
              "      <td>62</td>\n",
              "      <td>69</td>\n",
              "      <td>77</td>\n",
              "      <td>88</td>\n",
              "      <td>99</td>\n",
              "      <td>111</td>\n",
              "      <td>123</td>\n",
              "      <td>133</td>\n",
              "      <td>145</td>\n",
              "      <td>151</td>\n",
              "      <td>151</td>\n",
              "      <td>150</td>\n",
              "      <td>150</td>\n",
              "      <td>140</td>\n",
              "      <td>129</td>\n",
              "      <td>120</td>\n",
              "      <td>110</td>\n",
              "      <td>102</td>\n",
              "      <td>94</td>\n",
              "      <td>85</td>\n",
              "      <td>83</td>\n",
              "      <td>79</td>\n",
              "      <td>76</td>\n",
              "      <td>75</td>\n",
              "      <td>73</td>\n",
              "      <td>72</td>\n",
              "      <td>72</td>\n",
              "      <td>72</td>\n",
              "      <td>71</td>\n",
              "      <td>72</td>\n",
              "      <td>73</td>\n",
              "      <td>76</td>\n",
              "      <td>79</td>\n",
              "      <td>81</td>\n",
              "      <td>82</td>\n",
              "      <td>83</td>\n",
              "      <td>84</td>\n",
              "      <td>82</td>\n",
              "      <td>82</td>\n",
              "      <td>81</td>\n",
              "      <td>80</td>\n",
              "      <td>78</td>\n",
              "      <td>76</td>\n",
              "      <td>74</td>\n",
              "      <td>72</td>\n",
              "      <td>69</td>\n",
              "      <td>66</td>\n",
              "      <td>64</td>\n",
              "    </tr>\n",
              "    <tr>\n",
              "      <th>10</th>\n",
              "      <td>50</td>\n",
              "      <td>56</td>\n",
              "      <td>66</td>\n",
              "      <td>74</td>\n",
              "      <td>85</td>\n",
              "      <td>98</td>\n",
              "      <td>111</td>\n",
              "      <td>127</td>\n",
              "      <td>143</td>\n",
              "      <td>156</td>\n",
              "      <td>171</td>\n",
              "      <td>178</td>\n",
              "      <td>176</td>\n",
              "      <td>173</td>\n",
              "      <td>173</td>\n",
              "      <td>158</td>\n",
              "      <td>143</td>\n",
              "      <td>129</td>\n",
              "      <td>115</td>\n",
              "      <td>104</td>\n",
              "      <td>92</td>\n",
              "      <td>80</td>\n",
              "      <td>78</td>\n",
              "      <td>75</td>\n",
              "      <td>72</td>\n",
              "      <td>72</td>\n",
              "      <td>73</td>\n",
              "      <td>73</td>\n",
              "      <td>74</td>\n",
              "      <td>76</td>\n",
              "      <td>78</td>\n",
              "      <td>78</td>\n",
              "      <td>80</td>\n",
              "      <td>83</td>\n",
              "      <td>85</td>\n",
              "      <td>87</td>\n",
              "      <td>87</td>\n",
              "      <td>87</td>\n",
              "      <td>87</td>\n",
              "      <td>85</td>\n",
              "      <td>85</td>\n",
              "      <td>84</td>\n",
              "      <td>81</td>\n",
              "      <td>78</td>\n",
              "      <td>76</td>\n",
              "      <td>73</td>\n",
              "      <td>69</td>\n",
              "      <td>68</td>\n",
              "      <td>66</td>\n",
              "      <td>64</td>\n",
              "    </tr>\n",
              "    <tr>\n",
              "      <th>11</th>\n",
              "      <td>51</td>\n",
              "      <td>58</td>\n",
              "      <td>69</td>\n",
              "      <td>79</td>\n",
              "      <td>92</td>\n",
              "      <td>107</td>\n",
              "      <td>126</td>\n",
              "      <td>144</td>\n",
              "      <td>163</td>\n",
              "      <td>180</td>\n",
              "      <td>196</td>\n",
              "      <td>204</td>\n",
              "      <td>201</td>\n",
              "      <td>198</td>\n",
              "      <td>194</td>\n",
              "      <td>176</td>\n",
              "      <td>155</td>\n",
              "      <td>137</td>\n",
              "      <td>118</td>\n",
              "      <td>103</td>\n",
              "      <td>88</td>\n",
              "      <td>73</td>\n",
              "      <td>71</td>\n",
              "      <td>69</td>\n",
              "      <td>68</td>\n",
              "      <td>70</td>\n",
              "      <td>72</td>\n",
              "      <td>75</td>\n",
              "      <td>77</td>\n",
              "      <td>80</td>\n",
              "      <td>84</td>\n",
              "      <td>85</td>\n",
              "      <td>87</td>\n",
              "      <td>89</td>\n",
              "      <td>90</td>\n",
              "      <td>91</td>\n",
              "      <td>91</td>\n",
              "      <td>91</td>\n",
              "      <td>92</td>\n",
              "      <td>90</td>\n",
              "      <td>89</td>\n",
              "      <td>87</td>\n",
              "      <td>83</td>\n",
              "      <td>80</td>\n",
              "      <td>77</td>\n",
              "      <td>73</td>\n",
              "      <td>69</td>\n",
              "      <td>68</td>\n",
              "      <td>67</td>\n",
              "      <td>65</td>\n",
              "    </tr>\n",
              "    <tr>\n",
              "      <th>12</th>\n",
              "      <td>51</td>\n",
              "      <td>59</td>\n",
              "      <td>70</td>\n",
              "      <td>79</td>\n",
              "      <td>95</td>\n",
              "      <td>114</td>\n",
              "      <td>136</td>\n",
              "      <td>156</td>\n",
              "      <td>177</td>\n",
              "      <td>196</td>\n",
              "      <td>215</td>\n",
              "      <td>224</td>\n",
              "      <td>220</td>\n",
              "      <td>216</td>\n",
              "      <td>210</td>\n",
              "      <td>190</td>\n",
              "      <td>166</td>\n",
              "      <td>144</td>\n",
              "      <td>123</td>\n",
              "      <td>103</td>\n",
              "      <td>84</td>\n",
              "      <td>68</td>\n",
              "      <td>68</td>\n",
              "      <td>66</td>\n",
              "      <td>65</td>\n",
              "      <td>67</td>\n",
              "      <td>71</td>\n",
              "      <td>75</td>\n",
              "      <td>79</td>\n",
              "      <td>83</td>\n",
              "      <td>86</td>\n",
              "      <td>91</td>\n",
              "      <td>93</td>\n",
              "      <td>94</td>\n",
              "      <td>96</td>\n",
              "      <td>97</td>\n",
              "      <td>97</td>\n",
              "      <td>96</td>\n",
              "      <td>93</td>\n",
              "      <td>92</td>\n",
              "      <td>92</td>\n",
              "      <td>91</td>\n",
              "      <td>87</td>\n",
              "      <td>82</td>\n",
              "      <td>77</td>\n",
              "      <td>72</td>\n",
              "      <td>71</td>\n",
              "      <td>68</td>\n",
              "      <td>66</td>\n",
              "      <td>67</td>\n",
              "    </tr>\n",
              "    <tr>\n",
              "      <th>13</th>\n",
              "      <td>48</td>\n",
              "      <td>55</td>\n",
              "      <td>65</td>\n",
              "      <td>73</td>\n",
              "      <td>88</td>\n",
              "      <td>107</td>\n",
              "      <td>126</td>\n",
              "      <td>145</td>\n",
              "      <td>165</td>\n",
              "      <td>183</td>\n",
              "      <td>202</td>\n",
              "      <td>211</td>\n",
              "      <td>209</td>\n",
              "      <td>206</td>\n",
              "      <td>201</td>\n",
              "      <td>183</td>\n",
              "      <td>162</td>\n",
              "      <td>143</td>\n",
              "      <td>123</td>\n",
              "      <td>104</td>\n",
              "      <td>85</td>\n",
              "      <td>69</td>\n",
              "      <td>65</td>\n",
              "      <td>63</td>\n",
              "      <td>61</td>\n",
              "      <td>63</td>\n",
              "      <td>68</td>\n",
              "      <td>72</td>\n",
              "      <td>76</td>\n",
              "      <td>80</td>\n",
              "      <td>84</td>\n",
              "      <td>89</td>\n",
              "      <td>92</td>\n",
              "      <td>93</td>\n",
              "      <td>95</td>\n",
              "      <td>96</td>\n",
              "      <td>96</td>\n",
              "      <td>95</td>\n",
              "      <td>96</td>\n",
              "      <td>95</td>\n",
              "      <td>95</td>\n",
              "      <td>94</td>\n",
              "      <td>90</td>\n",
              "      <td>86</td>\n",
              "      <td>81</td>\n",
              "      <td>76</td>\n",
              "      <td>74</td>\n",
              "      <td>70</td>\n",
              "      <td>68</td>\n",
              "      <td>67</td>\n",
              "    </tr>\n",
              "    <tr>\n",
              "      <th>14</th>\n",
              "      <td>44</td>\n",
              "      <td>50</td>\n",
              "      <td>59</td>\n",
              "      <td>65</td>\n",
              "      <td>79</td>\n",
              "      <td>97</td>\n",
              "      <td>115</td>\n",
              "      <td>133</td>\n",
              "      <td>151</td>\n",
              "      <td>169</td>\n",
              "      <td>188</td>\n",
              "      <td>197</td>\n",
              "      <td>197</td>\n",
              "      <td>196</td>\n",
              "      <td>195</td>\n",
              "      <td>178</td>\n",
              "      <td>159</td>\n",
              "      <td>142</td>\n",
              "      <td>123</td>\n",
              "      <td>103</td>\n",
              "      <td>81</td>\n",
              "      <td>64</td>\n",
              "      <td>61</td>\n",
              "      <td>58</td>\n",
              "      <td>56</td>\n",
              "      <td>58</td>\n",
              "      <td>63</td>\n",
              "      <td>67</td>\n",
              "      <td>72</td>\n",
              "      <td>77</td>\n",
              "      <td>83</td>\n",
              "      <td>89</td>\n",
              "      <td>93</td>\n",
              "      <td>95</td>\n",
              "      <td>97</td>\n",
              "      <td>98</td>\n",
              "      <td>98</td>\n",
              "      <td>97</td>\n",
              "      <td>98</td>\n",
              "      <td>97</td>\n",
              "      <td>98</td>\n",
              "      <td>98</td>\n",
              "      <td>94</td>\n",
              "      <td>90</td>\n",
              "      <td>85</td>\n",
              "      <td>80</td>\n",
              "      <td>78</td>\n",
              "      <td>73</td>\n",
              "      <td>70</td>\n",
              "      <td>67</td>\n",
              "    </tr>\n",
              "    <tr>\n",
              "      <th>15</th>\n",
              "      <td>42</td>\n",
              "      <td>47</td>\n",
              "      <td>54</td>\n",
              "      <td>60</td>\n",
              "      <td>72</td>\n",
              "      <td>88</td>\n",
              "      <td>106</td>\n",
              "      <td>122</td>\n",
              "      <td>140</td>\n",
              "      <td>157</td>\n",
              "      <td>174</td>\n",
              "      <td>184</td>\n",
              "      <td>186</td>\n",
              "      <td>187</td>\n",
              "      <td>188</td>\n",
              "      <td>174</td>\n",
              "      <td>157</td>\n",
              "      <td>141</td>\n",
              "      <td>123</td>\n",
              "      <td>102</td>\n",
              "      <td>80</td>\n",
              "      <td>62</td>\n",
              "      <td>60</td>\n",
              "      <td>57</td>\n",
              "      <td>53</td>\n",
              "      <td>55</td>\n",
              "      <td>60</td>\n",
              "      <td>63</td>\n",
              "      <td>68</td>\n",
              "      <td>74</td>\n",
              "      <td>81</td>\n",
              "      <td>87</td>\n",
              "      <td>91</td>\n",
              "      <td>94</td>\n",
              "      <td>98</td>\n",
              "      <td>99</td>\n",
              "      <td>98</td>\n",
              "      <td>99</td>\n",
              "      <td>99</td>\n",
              "      <td>98</td>\n",
              "      <td>99</td>\n",
              "      <td>100</td>\n",
              "      <td>97</td>\n",
              "      <td>93</td>\n",
              "      <td>88</td>\n",
              "      <td>83</td>\n",
              "      <td>80</td>\n",
              "      <td>75</td>\n",
              "      <td>70</td>\n",
              "      <td>66</td>\n",
              "    </tr>\n",
              "    <tr>\n",
              "      <th>16</th>\n",
              "      <td>42</td>\n",
              "      <td>46</td>\n",
              "      <td>53</td>\n",
              "      <td>58</td>\n",
              "      <td>68</td>\n",
              "      <td>82</td>\n",
              "      <td>97</td>\n",
              "      <td>112</td>\n",
              "      <td>128</td>\n",
              "      <td>144</td>\n",
              "      <td>161</td>\n",
              "      <td>170</td>\n",
              "      <td>173</td>\n",
              "      <td>177</td>\n",
              "      <td>180</td>\n",
              "      <td>168</td>\n",
              "      <td>155</td>\n",
              "      <td>143</td>\n",
              "      <td>127</td>\n",
              "      <td>108</td>\n",
              "      <td>88</td>\n",
              "      <td>71</td>\n",
              "      <td>65</td>\n",
              "      <td>60</td>\n",
              "      <td>55</td>\n",
              "      <td>56</td>\n",
              "      <td>59</td>\n",
              "      <td>61</td>\n",
              "      <td>65</td>\n",
              "      <td>70</td>\n",
              "      <td>75</td>\n",
              "      <td>80</td>\n",
              "      <td>85</td>\n",
              "      <td>89</td>\n",
              "      <td>93</td>\n",
              "      <td>95</td>\n",
              "      <td>96</td>\n",
              "      <td>97</td>\n",
              "      <td>99</td>\n",
              "      <td>98</td>\n",
              "      <td>100</td>\n",
              "      <td>101</td>\n",
              "      <td>98</td>\n",
              "      <td>94</td>\n",
              "      <td>88</td>\n",
              "      <td>83</td>\n",
              "      <td>80</td>\n",
              "      <td>74</td>\n",
              "      <td>69</td>\n",
              "      <td>64</td>\n",
              "    </tr>\n",
              "    <tr>\n",
              "      <th>17</th>\n",
              "      <td>43</td>\n",
              "      <td>46</td>\n",
              "      <td>52</td>\n",
              "      <td>56</td>\n",
              "      <td>64</td>\n",
              "      <td>75</td>\n",
              "      <td>89</td>\n",
              "      <td>102</td>\n",
              "      <td>117</td>\n",
              "      <td>131</td>\n",
              "      <td>147</td>\n",
              "      <td>156</td>\n",
              "      <td>161</td>\n",
              "      <td>167</td>\n",
              "      <td>173</td>\n",
              "      <td>164</td>\n",
              "      <td>156</td>\n",
              "      <td>147</td>\n",
              "      <td>133</td>\n",
              "      <td>116</td>\n",
              "      <td>98</td>\n",
              "      <td>83</td>\n",
              "      <td>75</td>\n",
              "      <td>68</td>\n",
              "      <td>61</td>\n",
              "      <td>59</td>\n",
              "      <td>60</td>\n",
              "      <td>59</td>\n",
              "      <td>61</td>\n",
              "      <td>65</td>\n",
              "      <td>69</td>\n",
              "      <td>73</td>\n",
              "      <td>78</td>\n",
              "      <td>83</td>\n",
              "      <td>88</td>\n",
              "      <td>91</td>\n",
              "      <td>93</td>\n",
              "      <td>95</td>\n",
              "      <td>98</td>\n",
              "      <td>98</td>\n",
              "      <td>99</td>\n",
              "      <td>100</td>\n",
              "      <td>97</td>\n",
              "      <td>93</td>\n",
              "      <td>87</td>\n",
              "      <td>82</td>\n",
              "      <td>77</td>\n",
              "      <td>71</td>\n",
              "      <td>66</td>\n",
              "      <td>61</td>\n",
              "    </tr>\n",
              "    <tr>\n",
              "      <th>18</th>\n",
              "      <td>44</td>\n",
              "      <td>45</td>\n",
              "      <td>51</td>\n",
              "      <td>54</td>\n",
              "      <td>59</td>\n",
              "      <td>69</td>\n",
              "      <td>80</td>\n",
              "      <td>92</td>\n",
              "      <td>103</td>\n",
              "      <td>117</td>\n",
              "      <td>131</td>\n",
              "      <td>140</td>\n",
              "      <td>148</td>\n",
              "      <td>156</td>\n",
              "      <td>165</td>\n",
              "      <td>159</td>\n",
              "      <td>156</td>\n",
              "      <td>151</td>\n",
              "      <td>139</td>\n",
              "      <td>124</td>\n",
              "      <td>108</td>\n",
              "      <td>94</td>\n",
              "      <td>87</td>\n",
              "      <td>78</td>\n",
              "      <td>68</td>\n",
              "      <td>64</td>\n",
              "      <td>61</td>\n",
              "      <td>57</td>\n",
              "      <td>55</td>\n",
              "      <td>58</td>\n",
              "      <td>62</td>\n",
              "      <td>66</td>\n",
              "      <td>71</td>\n",
              "      <td>76</td>\n",
              "      <td>82</td>\n",
              "      <td>86</td>\n",
              "      <td>89</td>\n",
              "      <td>93</td>\n",
              "      <td>95</td>\n",
              "      <td>95</td>\n",
              "      <td>97</td>\n",
              "      <td>98</td>\n",
              "      <td>95</td>\n",
              "      <td>90</td>\n",
              "      <td>84</td>\n",
              "      <td>79</td>\n",
              "      <td>73</td>\n",
              "      <td>68</td>\n",
              "      <td>62</td>\n",
              "      <td>56</td>\n",
              "    </tr>\n",
              "    <tr>\n",
              "      <th>19</th>\n",
              "      <td>45</td>\n",
              "      <td>45</td>\n",
              "      <td>50</td>\n",
              "      <td>52</td>\n",
              "      <td>56</td>\n",
              "      <td>64</td>\n",
              "      <td>72</td>\n",
              "      <td>82</td>\n",
              "      <td>92</td>\n",
              "      <td>104</td>\n",
              "      <td>117</td>\n",
              "      <td>127</td>\n",
              "      <td>136</td>\n",
              "      <td>146</td>\n",
              "      <td>153</td>\n",
              "      <td>151</td>\n",
              "      <td>152</td>\n",
              "      <td>152</td>\n",
              "      <td>144</td>\n",
              "      <td>131</td>\n",
              "      <td>117</td>\n",
              "      <td>105</td>\n",
              "      <td>94</td>\n",
              "      <td>85</td>\n",
              "      <td>73</td>\n",
              "      <td>66</td>\n",
              "      <td>61</td>\n",
              "      <td>54</td>\n",
              "      <td>51</td>\n",
              "      <td>54</td>\n",
              "      <td>56</td>\n",
              "      <td>59</td>\n",
              "      <td>64</td>\n",
              "      <td>70</td>\n",
              "      <td>76</td>\n",
              "      <td>80</td>\n",
              "      <td>84</td>\n",
              "      <td>88</td>\n",
              "      <td>93</td>\n",
              "      <td>93</td>\n",
              "      <td>95</td>\n",
              "      <td>95</td>\n",
              "      <td>92</td>\n",
              "      <td>87</td>\n",
              "      <td>81</td>\n",
              "      <td>76</td>\n",
              "      <td>71</td>\n",
              "      <td>65</td>\n",
              "      <td>59</td>\n",
              "      <td>53</td>\n",
              "    </tr>\n",
              "    <tr>\n",
              "      <th>20</th>\n",
              "      <td>43</td>\n",
              "      <td>43</td>\n",
              "      <td>45</td>\n",
              "      <td>47</td>\n",
              "      <td>51</td>\n",
              "      <td>57</td>\n",
              "      <td>64</td>\n",
              "      <td>71</td>\n",
              "      <td>80</td>\n",
              "      <td>91</td>\n",
              "      <td>102</td>\n",
              "      <td>111</td>\n",
              "      <td>121</td>\n",
              "      <td>129</td>\n",
              "      <td>138</td>\n",
              "      <td>143</td>\n",
              "      <td>145</td>\n",
              "      <td>147</td>\n",
              "      <td>144</td>\n",
              "      <td>135</td>\n",
              "      <td>127</td>\n",
              "      <td>118</td>\n",
              "      <td>105</td>\n",
              "      <td>95</td>\n",
              "      <td>83</td>\n",
              "      <td>73</td>\n",
              "      <td>64</td>\n",
              "      <td>55</td>\n",
              "      <td>51</td>\n",
              "      <td>51</td>\n",
              "      <td>50</td>\n",
              "      <td>51</td>\n",
              "      <td>57</td>\n",
              "      <td>64</td>\n",
              "      <td>68</td>\n",
              "      <td>72</td>\n",
              "      <td>77</td>\n",
              "      <td>80</td>\n",
              "      <td>83</td>\n",
              "      <td>84</td>\n",
              "      <td>85</td>\n",
              "      <td>85</td>\n",
              "      <td>84</td>\n",
              "      <td>80</td>\n",
              "      <td>74</td>\n",
              "      <td>70</td>\n",
              "      <td>64</td>\n",
              "      <td>60</td>\n",
              "      <td>53</td>\n",
              "      <td>47</td>\n",
              "    </tr>\n",
              "    <tr>\n",
              "      <th>21</th>\n",
              "      <td>42</td>\n",
              "      <td>41</td>\n",
              "      <td>43</td>\n",
              "      <td>44</td>\n",
              "      <td>46</td>\n",
              "      <td>51</td>\n",
              "      <td>55</td>\n",
              "      <td>60</td>\n",
              "      <td>68</td>\n",
              "      <td>78</td>\n",
              "      <td>88</td>\n",
              "      <td>97</td>\n",
              "      <td>107</td>\n",
              "      <td>116</td>\n",
              "      <td>124</td>\n",
              "      <td>132</td>\n",
              "      <td>137</td>\n",
              "      <td>142</td>\n",
              "      <td>143</td>\n",
              "      <td>140</td>\n",
              "      <td>136</td>\n",
              "      <td>130</td>\n",
              "      <td>118</td>\n",
              "      <td>107</td>\n",
              "      <td>93</td>\n",
              "      <td>81</td>\n",
              "      <td>70</td>\n",
              "      <td>58</td>\n",
              "      <td>51</td>\n",
              "      <td>50</td>\n",
              "      <td>48</td>\n",
              "      <td>48</td>\n",
              "      <td>52</td>\n",
              "      <td>59</td>\n",
              "      <td>62</td>\n",
              "      <td>65</td>\n",
              "      <td>69</td>\n",
              "      <td>72</td>\n",
              "      <td>73</td>\n",
              "      <td>74</td>\n",
              "      <td>74</td>\n",
              "      <td>75</td>\n",
              "      <td>74</td>\n",
              "      <td>71</td>\n",
              "      <td>67</td>\n",
              "      <td>65</td>\n",
              "      <td>60</td>\n",
              "      <td>55</td>\n",
              "      <td>49</td>\n",
              "      <td>43</td>\n",
              "    </tr>\n",
              "    <tr>\n",
              "      <th>22</th>\n",
              "      <td>39</td>\n",
              "      <td>38</td>\n",
              "      <td>40</td>\n",
              "      <td>40</td>\n",
              "      <td>41</td>\n",
              "      <td>44</td>\n",
              "      <td>46</td>\n",
              "      <td>51</td>\n",
              "      <td>56</td>\n",
              "      <td>64</td>\n",
              "      <td>72</td>\n",
              "      <td>81</td>\n",
              "      <td>91</td>\n",
              "      <td>101</td>\n",
              "      <td>111</td>\n",
              "      <td>120</td>\n",
              "      <td>128</td>\n",
              "      <td>137</td>\n",
              "      <td>141</td>\n",
              "      <td>142</td>\n",
              "      <td>143</td>\n",
              "      <td>140</td>\n",
              "      <td>126</td>\n",
              "      <td>114</td>\n",
              "      <td>99</td>\n",
              "      <td>86</td>\n",
              "      <td>72</td>\n",
              "      <td>58</td>\n",
              "      <td>49</td>\n",
              "      <td>46</td>\n",
              "      <td>44</td>\n",
              "      <td>43</td>\n",
              "      <td>46</td>\n",
              "      <td>52</td>\n",
              "      <td>55</td>\n",
              "      <td>58</td>\n",
              "      <td>61</td>\n",
              "      <td>63</td>\n",
              "      <td>65</td>\n",
              "      <td>65</td>\n",
              "      <td>65</td>\n",
              "      <td>65</td>\n",
              "      <td>64</td>\n",
              "      <td>63</td>\n",
              "      <td>60</td>\n",
              "      <td>58</td>\n",
              "      <td>53</td>\n",
              "      <td>49</td>\n",
              "      <td>43</td>\n",
              "      <td>37</td>\n",
              "    </tr>\n",
              "    <tr>\n",
              "      <th>23</th>\n",
              "      <td>34</td>\n",
              "      <td>32</td>\n",
              "      <td>35</td>\n",
              "      <td>35</td>\n",
              "      <td>36</td>\n",
              "      <td>39</td>\n",
              "      <td>42</td>\n",
              "      <td>46</td>\n",
              "      <td>50</td>\n",
              "      <td>57</td>\n",
              "      <td>64</td>\n",
              "      <td>72</td>\n",
              "      <td>82</td>\n",
              "      <td>91</td>\n",
              "      <td>100</td>\n",
              "      <td>110</td>\n",
              "      <td>120</td>\n",
              "      <td>129</td>\n",
              "      <td>134</td>\n",
              "      <td>136</td>\n",
              "      <td>138</td>\n",
              "      <td>136</td>\n",
              "      <td>122</td>\n",
              "      <td>109</td>\n",
              "      <td>94</td>\n",
              "      <td>81</td>\n",
              "      <td>68</td>\n",
              "      <td>54</td>\n",
              "      <td>45</td>\n",
              "      <td>42</td>\n",
              "      <td>40</td>\n",
              "      <td>38</td>\n",
              "      <td>40</td>\n",
              "      <td>45</td>\n",
              "      <td>48</td>\n",
              "      <td>52</td>\n",
              "      <td>55</td>\n",
              "      <td>57</td>\n",
              "      <td>61</td>\n",
              "      <td>60</td>\n",
              "      <td>60</td>\n",
              "      <td>60</td>\n",
              "      <td>59</td>\n",
              "      <td>57</td>\n",
              "      <td>54</td>\n",
              "      <td>52</td>\n",
              "      <td>47</td>\n",
              "      <td>41</td>\n",
              "      <td>36</td>\n",
              "      <td>31</td>\n",
              "    </tr>\n",
              "    <tr>\n",
              "      <th>24</th>\n",
              "      <td>26</td>\n",
              "      <td>24</td>\n",
              "      <td>27</td>\n",
              "      <td>28</td>\n",
              "      <td>30</td>\n",
              "      <td>34</td>\n",
              "      <td>38</td>\n",
              "      <td>42</td>\n",
              "      <td>46</td>\n",
              "      <td>52</td>\n",
              "      <td>58</td>\n",
              "      <td>65</td>\n",
              "      <td>73</td>\n",
              "      <td>82</td>\n",
              "      <td>89</td>\n",
              "      <td>100</td>\n",
              "      <td>110</td>\n",
              "      <td>119</td>\n",
              "      <td>124</td>\n",
              "      <td>125</td>\n",
              "      <td>127</td>\n",
              "      <td>125</td>\n",
              "      <td>112</td>\n",
              "      <td>100</td>\n",
              "      <td>84</td>\n",
              "      <td>72</td>\n",
              "      <td>61</td>\n",
              "      <td>49</td>\n",
              "      <td>40</td>\n",
              "      <td>38</td>\n",
              "      <td>35</td>\n",
              "      <td>32</td>\n",
              "      <td>34</td>\n",
              "      <td>38</td>\n",
              "      <td>41</td>\n",
              "      <td>44</td>\n",
              "      <td>48</td>\n",
              "      <td>51</td>\n",
              "      <td>56</td>\n",
              "      <td>56</td>\n",
              "      <td>55</td>\n",
              "      <td>55</td>\n",
              "      <td>54</td>\n",
              "      <td>52</td>\n",
              "      <td>48</td>\n",
              "      <td>45</td>\n",
              "      <td>39</td>\n",
              "      <td>33</td>\n",
              "      <td>27</td>\n",
              "      <td>24</td>\n",
              "    </tr>\n",
              "    <tr>\n",
              "      <th>25</th>\n",
              "      <td>20</td>\n",
              "      <td>18</td>\n",
              "      <td>20</td>\n",
              "      <td>22</td>\n",
              "      <td>24</td>\n",
              "      <td>28</td>\n",
              "      <td>34</td>\n",
              "      <td>37</td>\n",
              "      <td>41</td>\n",
              "      <td>46</td>\n",
              "      <td>51</td>\n",
              "      <td>56</td>\n",
              "      <td>64</td>\n",
              "      <td>71</td>\n",
              "      <td>79</td>\n",
              "      <td>90</td>\n",
              "      <td>100</td>\n",
              "      <td>110</td>\n",
              "      <td>114</td>\n",
              "      <td>116</td>\n",
              "      <td>119</td>\n",
              "      <td>117</td>\n",
              "      <td>104</td>\n",
              "      <td>91</td>\n",
              "      <td>76</td>\n",
              "      <td>65</td>\n",
              "      <td>55</td>\n",
              "      <td>44</td>\n",
              "      <td>36</td>\n",
              "      <td>34</td>\n",
              "      <td>30</td>\n",
              "      <td>27</td>\n",
              "      <td>28</td>\n",
              "      <td>32</td>\n",
              "      <td>34</td>\n",
              "      <td>37</td>\n",
              "      <td>42</td>\n",
              "      <td>45</td>\n",
              "      <td>49</td>\n",
              "      <td>50</td>\n",
              "      <td>50</td>\n",
              "      <td>51</td>\n",
              "      <td>49</td>\n",
              "      <td>46</td>\n",
              "      <td>42</td>\n",
              "      <td>39</td>\n",
              "      <td>32</td>\n",
              "      <td>25</td>\n",
              "      <td>19</td>\n",
              "      <td>16</td>\n",
              "    </tr>\n",
              "    <tr>\n",
              "      <th>26</th>\n",
              "      <td>19</td>\n",
              "      <td>18</td>\n",
              "      <td>20</td>\n",
              "      <td>21</td>\n",
              "      <td>24</td>\n",
              "      <td>28</td>\n",
              "      <td>33</td>\n",
              "      <td>36</td>\n",
              "      <td>39</td>\n",
              "      <td>43</td>\n",
              "      <td>47</td>\n",
              "      <td>51</td>\n",
              "      <td>57</td>\n",
              "      <td>64</td>\n",
              "      <td>71</td>\n",
              "      <td>81</td>\n",
              "      <td>90</td>\n",
              "      <td>98</td>\n",
              "      <td>103</td>\n",
              "      <td>105</td>\n",
              "      <td>108</td>\n",
              "      <td>107</td>\n",
              "      <td>94</td>\n",
              "      <td>82</td>\n",
              "      <td>68</td>\n",
              "      <td>59</td>\n",
              "      <td>51</td>\n",
              "      <td>41</td>\n",
              "      <td>33</td>\n",
              "      <td>30</td>\n",
              "      <td>27</td>\n",
              "      <td>25</td>\n",
              "      <td>26</td>\n",
              "      <td>29</td>\n",
              "      <td>31</td>\n",
              "      <td>35</td>\n",
              "      <td>41</td>\n",
              "      <td>45</td>\n",
              "      <td>49</td>\n",
              "      <td>49</td>\n",
              "      <td>50</td>\n",
              "      <td>50</td>\n",
              "      <td>49</td>\n",
              "      <td>45</td>\n",
              "      <td>41</td>\n",
              "      <td>37</td>\n",
              "      <td>30</td>\n",
              "      <td>23</td>\n",
              "      <td>16</td>\n",
              "      <td>14</td>\n",
              "    </tr>\n",
              "    <tr>\n",
              "      <th>27</th>\n",
              "      <td>21</td>\n",
              "      <td>21</td>\n",
              "      <td>23</td>\n",
              "      <td>24</td>\n",
              "      <td>27</td>\n",
              "      <td>32</td>\n",
              "      <td>35</td>\n",
              "      <td>38</td>\n",
              "      <td>40</td>\n",
              "      <td>43</td>\n",
              "      <td>46</td>\n",
              "      <td>49</td>\n",
              "      <td>55</td>\n",
              "      <td>62</td>\n",
              "      <td>65</td>\n",
              "      <td>74</td>\n",
              "      <td>80</td>\n",
              "      <td>88</td>\n",
              "      <td>92</td>\n",
              "      <td>93</td>\n",
              "      <td>97</td>\n",
              "      <td>95</td>\n",
              "      <td>85</td>\n",
              "      <td>74</td>\n",
              "      <td>62</td>\n",
              "      <td>55</td>\n",
              "      <td>48</td>\n",
              "      <td>39</td>\n",
              "      <td>31</td>\n",
              "      <td>28</td>\n",
              "      <td>26</td>\n",
              "      <td>24</td>\n",
              "      <td>25</td>\n",
              "      <td>29</td>\n",
              "      <td>32</td>\n",
              "      <td>36</td>\n",
              "      <td>43</td>\n",
              "      <td>48</td>\n",
              "      <td>53</td>\n",
              "      <td>53</td>\n",
              "      <td>53</td>\n",
              "      <td>53</td>\n",
              "      <td>51</td>\n",
              "      <td>47</td>\n",
              "      <td>42</td>\n",
              "      <td>39</td>\n",
              "      <td>31</td>\n",
              "      <td>23</td>\n",
              "      <td>17</td>\n",
              "      <td>15</td>\n",
              "    </tr>\n",
              "    <tr>\n",
              "      <th>28</th>\n",
              "      <td>24</td>\n",
              "      <td>25</td>\n",
              "      <td>28</td>\n",
              "      <td>30</td>\n",
              "      <td>33</td>\n",
              "      <td>37</td>\n",
              "      <td>39</td>\n",
              "      <td>42</td>\n",
              "      <td>44</td>\n",
              "      <td>44</td>\n",
              "      <td>45</td>\n",
              "      <td>47</td>\n",
              "      <td>52</td>\n",
              "      <td>55</td>\n",
              "      <td>61</td>\n",
              "      <td>65</td>\n",
              "      <td>71</td>\n",
              "      <td>77</td>\n",
              "      <td>81</td>\n",
              "      <td>82</td>\n",
              "      <td>83</td>\n",
              "      <td>83</td>\n",
              "      <td>73</td>\n",
              "      <td>65</td>\n",
              "      <td>56</td>\n",
              "      <td>49</td>\n",
              "      <td>44</td>\n",
              "      <td>38</td>\n",
              "      <td>32</td>\n",
              "      <td>29</td>\n",
              "      <td>24</td>\n",
              "      <td>22</td>\n",
              "      <td>23</td>\n",
              "      <td>28</td>\n",
              "      <td>33</td>\n",
              "      <td>37</td>\n",
              "      <td>44</td>\n",
              "      <td>51</td>\n",
              "      <td>58</td>\n",
              "      <td>57</td>\n",
              "      <td>57</td>\n",
              "      <td>56</td>\n",
              "      <td>53</td>\n",
              "      <td>49</td>\n",
              "      <td>45</td>\n",
              "      <td>41</td>\n",
              "      <td>33</td>\n",
              "      <td>26</td>\n",
              "      <td>18</td>\n",
              "      <td>15</td>\n",
              "    </tr>\n",
              "    <tr>\n",
              "      <th>29</th>\n",
              "      <td>25</td>\n",
              "      <td>27</td>\n",
              "      <td>30</td>\n",
              "      <td>33</td>\n",
              "      <td>37</td>\n",
              "      <td>40</td>\n",
              "      <td>42</td>\n",
              "      <td>44</td>\n",
              "      <td>45</td>\n",
              "      <td>44</td>\n",
              "      <td>44</td>\n",
              "      <td>47</td>\n",
              "      <td>50</td>\n",
              "      <td>53</td>\n",
              "      <td>54</td>\n",
              "      <td>57</td>\n",
              "      <td>62</td>\n",
              "      <td>67</td>\n",
              "      <td>70</td>\n",
              "      <td>71</td>\n",
              "      <td>72</td>\n",
              "      <td>72</td>\n",
              "      <td>65</td>\n",
              "      <td>58</td>\n",
              "      <td>50</td>\n",
              "      <td>45</td>\n",
              "      <td>41</td>\n",
              "      <td>36</td>\n",
              "      <td>31</td>\n",
              "      <td>28</td>\n",
              "      <td>24</td>\n",
              "      <td>23</td>\n",
              "      <td>25</td>\n",
              "      <td>29</td>\n",
              "      <td>33</td>\n",
              "      <td>38</td>\n",
              "      <td>45</td>\n",
              "      <td>53</td>\n",
              "      <td>61</td>\n",
              "      <td>60</td>\n",
              "      <td>60</td>\n",
              "      <td>59</td>\n",
              "      <td>56</td>\n",
              "      <td>52</td>\n",
              "      <td>48</td>\n",
              "      <td>44</td>\n",
              "      <td>35</td>\n",
              "      <td>28</td>\n",
              "      <td>20</td>\n",
              "      <td>17</td>\n",
              "    </tr>\n",
              "  </tbody>\n",
              "</table>\n",
              "</div>\n",
              "      <button class=\"colab-df-convert\" onclick=\"convertToInteractive('df-ef5b4b99-a98e-413b-987e-1542ec06fe01')\"\n",
              "              title=\"Convert this dataframe to an interactive table.\"\n",
              "              style=\"display:none;\">\n",
              "        \n",
              "  <svg xmlns=\"http://www.w3.org/2000/svg\" height=\"24px\"viewBox=\"0 0 24 24\"\n",
              "       width=\"24px\">\n",
              "    <path d=\"M0 0h24v24H0V0z\" fill=\"none\"/>\n",
              "    <path d=\"M18.56 5.44l.94 2.06.94-2.06 2.06-.94-2.06-.94-.94-2.06-.94 2.06-2.06.94zm-11 1L8.5 8.5l.94-2.06 2.06-.94-2.06-.94L8.5 2.5l-.94 2.06-2.06.94zm10 10l.94 2.06.94-2.06 2.06-.94-2.06-.94-.94-2.06-.94 2.06-2.06.94z\"/><path d=\"M17.41 7.96l-1.37-1.37c-.4-.4-.92-.59-1.43-.59-.52 0-1.04.2-1.43.59L10.3 9.45l-7.72 7.72c-.78.78-.78 2.05 0 2.83L4 21.41c.39.39.9.59 1.41.59.51 0 1.02-.2 1.41-.59l7.78-7.78 2.81-2.81c.8-.78.8-2.07 0-2.86zM5.41 20L4 18.59l7.72-7.72 1.47 1.35L5.41 20z\"/>\n",
              "  </svg>\n",
              "      </button>\n",
              "      \n",
              "  <style>\n",
              "    .colab-df-container {\n",
              "      display:flex;\n",
              "      flex-wrap:wrap;\n",
              "      gap: 12px;\n",
              "    }\n",
              "\n",
              "    .colab-df-convert {\n",
              "      background-color: #E8F0FE;\n",
              "      border: none;\n",
              "      border-radius: 50%;\n",
              "      cursor: pointer;\n",
              "      display: none;\n",
              "      fill: #1967D2;\n",
              "      height: 32px;\n",
              "      padding: 0 0 0 0;\n",
              "      width: 32px;\n",
              "    }\n",
              "\n",
              "    .colab-df-convert:hover {\n",
              "      background-color: #E2EBFA;\n",
              "      box-shadow: 0px 1px 2px rgba(60, 64, 67, 0.3), 0px 1px 3px 1px rgba(60, 64, 67, 0.15);\n",
              "      fill: #174EA6;\n",
              "    }\n",
              "\n",
              "    [theme=dark] .colab-df-convert {\n",
              "      background-color: #3B4455;\n",
              "      fill: #D2E3FC;\n",
              "    }\n",
              "\n",
              "    [theme=dark] .colab-df-convert:hover {\n",
              "      background-color: #434B5C;\n",
              "      box-shadow: 0px 1px 3px 1px rgba(0, 0, 0, 0.15);\n",
              "      filter: drop-shadow(0px 1px 2px rgba(0, 0, 0, 0.3));\n",
              "      fill: #FFFFFF;\n",
              "    }\n",
              "  </style>\n",
              "\n",
              "      <script>\n",
              "        const buttonEl =\n",
              "          document.querySelector('#df-ef5b4b99-a98e-413b-987e-1542ec06fe01 button.colab-df-convert');\n",
              "        buttonEl.style.display =\n",
              "          google.colab.kernel.accessAllowed ? 'block' : 'none';\n",
              "\n",
              "        async function convertToInteractive(key) {\n",
              "          const element = document.querySelector('#df-ef5b4b99-a98e-413b-987e-1542ec06fe01');\n",
              "          const dataTable =\n",
              "            await google.colab.kernel.invokeFunction('convertToInteractive',\n",
              "                                                     [key], {});\n",
              "          if (!dataTable) return;\n",
              "\n",
              "          const docLinkHtml = 'Like what you see? Visit the ' +\n",
              "            '<a target=\"_blank\" href=https://colab.research.google.com/notebooks/data_table.ipynb>data table notebook</a>'\n",
              "            + ' to learn more about interactive tables.';\n",
              "          element.innerHTML = '';\n",
              "          dataTable['output_type'] = 'display_data';\n",
              "          await google.colab.output.renderOutput(dataTable, element);\n",
              "          const docLink = document.createElement('div');\n",
              "          docLink.innerHTML = docLinkHtml;\n",
              "          element.appendChild(docLink);\n",
              "        }\n",
              "      </script>\n",
              "    </div>\n",
              "  </div>\n",
              "  "
            ],
            "text/plain": [
              "    0   1   2   3   4    5    6    7    8   ...   41  42  43  44  45  46  47  48  49\n",
              "0   55  54  54  53  54   55   56   58   62  ...   45  44  43  42  42  42  43  45  48\n",
              "1   55  53  51  50  50   51   51   53   59  ...   45  43  40  37  35  35  35  37  41\n",
              "2   54  53  51  49  49   50   50   52   57  ...   49  46  43  39  36  37  35  35  39\n",
              "3   53  53  52  50  50   50   52   53   57  ...   56  53  50  46  44  42  39  37  39\n",
              "4   51  51  50  50  51   52   55   54   57  ...   64  60  57  55  52  47  44  41  42\n",
              "5   50  51  51  51  53   54   52   53   57  ...   70  66  63  61  58  56  51  47  45\n",
              "6   49  51  53  55  58   61   65   68   73  ...   73  70  68  66  63  60  56  52  49\n",
              "7   49  52  57  61  65   70   75   81   88  ...   75  73  71  70  67  64  61  57  55\n",
              "8   49  53  60  65  72   79   85   93  102  ...   79  77  76  75  72  71  68  64  61\n",
              "9   49  54  62  69  77   88   99  111  123  ...   81  80  78  76  74  72  69  66  64\n",
              "10  50  56  66  74  85   98  111  127  143  ...   84  81  78  76  73  69  68  66  64\n",
              "11  51  58  69  79  92  107  126  144  163  ...   87  83  80  77  73  69  68  67  65\n",
              "12  51  59  70  79  95  114  136  156  177  ...   91  87  82  77  72  71  68  66  67\n",
              "13  48  55  65  73  88  107  126  145  165  ...   94  90  86  81  76  74  70  68  67\n",
              "14  44  50  59  65  79   97  115  133  151  ...   98  94  90  85  80  78  73  70  67\n",
              "15  42  47  54  60  72   88  106  122  140  ...  100  97  93  88  83  80  75  70  66\n",
              "16  42  46  53  58  68   82   97  112  128  ...  101  98  94  88  83  80  74  69  64\n",
              "17  43  46  52  56  64   75   89  102  117  ...  100  97  93  87  82  77  71  66  61\n",
              "18  44  45  51  54  59   69   80   92  103  ...   98  95  90  84  79  73  68  62  56\n",
              "19  45  45  50  52  56   64   72   82   92  ...   95  92  87  81  76  71  65  59  53\n",
              "20  43  43  45  47  51   57   64   71   80  ...   85  84  80  74  70  64  60  53  47\n",
              "21  42  41  43  44  46   51   55   60   68  ...   75  74  71  67  65  60  55  49  43\n",
              "22  39  38  40  40  41   44   46   51   56  ...   65  64  63  60  58  53  49  43  37\n",
              "23  34  32  35  35  36   39   42   46   50  ...   60  59  57  54  52  47  41  36  31\n",
              "24  26  24  27  28  30   34   38   42   46  ...   55  54  52  48  45  39  33  27  24\n",
              "25  20  18  20  22  24   28   34   37   41  ...   51  49  46  42  39  32  25  19  16\n",
              "26  19  18  20  21  24   28   33   36   39  ...   50  49  45  41  37  30  23  16  14\n",
              "27  21  21  23  24  27   32   35   38   40  ...   53  51  47  42  39  31  23  17  15\n",
              "28  24  25  28  30  33   37   39   42   44  ...   56  53  49  45  41  33  26  18  15\n",
              "29  25  27  30  33  37   40   42   44   45  ...   59  56  52  48  44  35  28  20  17\n",
              "\n",
              "[30 rows x 50 columns]"
            ]
          },
          "metadata": {},
          "execution_count": 22
        }
      ]
    },
    {
      "cell_type": "code",
      "source": [
        "a=Image.open('1.jpg')\n",
        "c=a.load()"
      ],
      "metadata": {
        "id": "5fdhRWoQSdwU"
      },
      "execution_count": null,
      "outputs": []
    },
    {
      "cell_type": "markdown",
      "source": [
        ""
      ],
      "metadata": {
        "id": "tsGOdvIgY_SK"
      }
    },
    {
      "cell_type": "markdown",
      "source": [
        ""
      ],
      "metadata": {
        "id": "R-YdV7yeY_Pk"
      }
    },
    {
      "cell_type": "code",
      "source": [
        "b"
      ],
      "metadata": {
        "colab": {
          "base_uri": "https://localhost:8080/"
        },
        "id": "eC3CGG_ESdy6",
        "outputId": "41d5a8d0-6d6f-4a1c-8c8b-7f0cc3a0edf4"
      },
      "execution_count": null,
      "outputs": [
        {
          "output_type": "execute_result",
          "data": {
            "text/plain": [
              "<PixelAccess at 0x7f2bea158a70>"
            ]
          },
          "metadata": {},
          "execution_count": 39
        }
      ]
    },
    {
      "cell_type": "code",
      "source": [
        "w,h= img.size"
      ],
      "metadata": {
        "id": "pv39g0bjSd1u"
      },
      "execution_count": null,
      "outputs": []
    },
    {
      "cell_type": "code",
      "source": [
        "w,h"
      ],
      "metadata": {
        "colab": {
          "base_uri": "https://localhost:8080/"
        },
        "id": "p1h-0LAKSd31",
        "outputId": "61047b7e-c728-4e80-b8d9-0b21e4822309"
      },
      "execution_count": null,
      "outputs": [
        {
          "output_type": "execute_result",
          "data": {
            "text/plain": [
              "(1024, 768)"
            ]
          },
          "metadata": {},
          "execution_count": 41
        }
      ]
    },
    {
      "cell_type": "code",
      "source": [
        "for i in range(w//2):\n",
        "  for j in range(h):\n",
        "    c[i,j]=(0,255,0)\n",
        "a.save(\"Write\",format='png')\n"
      ],
      "metadata": {
        "id": "zp2Ye4a7Sd7h"
      },
      "execution_count": null,
      "outputs": []
    },
    {
      "cell_type": "code",
      "source": [
        "for i in range(w//2,w):\n",
        "  for j in range (h//2):\n",
        "    r,g,b=a.getpixel((i,j))\n",
        "    grey=0.299*r+0.587*g+0.114*b\n",
        "    c[i,j]=(int(grey),int(grey),int(grey))\n",
        "for i in range(w//2):\n",
        "  for j in range(h//2,h):\n",
        "    c[i,j]=(255,0,0)\n",
        "a.save(\"hi\",format='png')\n",
        "\n"
      ],
      "metadata": {
        "id": "KKYawM4iSd-3"
      },
      "execution_count": null,
      "outputs": []
    },
    {
      "cell_type": "code",
      "source": [
        "#to create a image  "
      ],
      "metadata": {
        "id": "FLWXRjscZt2b"
      },
      "execution_count": null,
      "outputs": []
    },
    {
      "cell_type": "code",
      "source": [
        "d=Image.new(mode='RGB',size=(900,1120),color='red')\n",
        "d.save('red.png')"
      ],
      "metadata": {
        "id": "ggosOGdcZt4v"
      },
      "execution_count": null,
      "outputs": []
    },
    {
      "cell_type": "code",
      "source": [
        "a=pd.read_csv('/content/SAMPLE.csv')\n",
        "a"
      ],
      "metadata": {
        "id": "_RvzwgJlZt7p",
        "colab": {
          "base_uri": "https://localhost:8080/",
          "height": 520
        },
        "outputId": "77370f0d-6bb2-47c2-c3dc-cbaf6d081493"
      },
      "execution_count": null,
      "outputs": [
        {
          "output_type": "execute_result",
          "data": {
            "text/html": [
              "\n",
              "  <div id=\"df-3acf0c16-f444-4e7d-9bbd-13619a8d3ba1\">\n",
              "    <div class=\"colab-df-container\">\n",
              "      <div>\n",
              "<style scoped>\n",
              "    .dataframe tbody tr th:only-of-type {\n",
              "        vertical-align: middle;\n",
              "    }\n",
              "\n",
              "    .dataframe tbody tr th {\n",
              "        vertical-align: top;\n",
              "    }\n",
              "\n",
              "    .dataframe thead th {\n",
              "        text-align: right;\n",
              "    }\n",
              "</style>\n",
              "<table border=\"1\" class=\"dataframe\">\n",
              "  <thead>\n",
              "    <tr style=\"text-align: right;\">\n",
              "      <th></th>\n",
              "      <th>sl No</th>\n",
              "      <th>name</th>\n",
              "      <th>college</th>\n",
              "      <th>hsc</th>\n",
              "      <th>SSLC</th>\n",
              "      <th>arrears</th>\n",
              "      <th>cmark</th>\n",
              "    </tr>\n",
              "  </thead>\n",
              "  <tbody>\n",
              "    <tr>\n",
              "      <th>0</th>\n",
              "      <td>1.0</td>\n",
              "      <td>A1</td>\n",
              "      <td>IITM</td>\n",
              "      <td>89.90</td>\n",
              "      <td>92.6</td>\n",
              "      <td>0.0</td>\n",
              "      <td>95.0</td>\n",
              "    </tr>\n",
              "    <tr>\n",
              "      <th>1</th>\n",
              "      <td>2.0</td>\n",
              "      <td>A2</td>\n",
              "      <td>ANNA UNIVERSITY</td>\n",
              "      <td>76.80</td>\n",
              "      <td>77.9</td>\n",
              "      <td>NaN</td>\n",
              "      <td>89.0</td>\n",
              "    </tr>\n",
              "    <tr>\n",
              "      <th>2</th>\n",
              "      <td>3.0</td>\n",
              "      <td>A3</td>\n",
              "      <td>ANNA UNIVERSITY</td>\n",
              "      <td>88.39</td>\n",
              "      <td>85.6</td>\n",
              "      <td>6.0</td>\n",
              "      <td>99.0</td>\n",
              "    </tr>\n",
              "    <tr>\n",
              "      <th>3</th>\n",
              "      <td>4.0</td>\n",
              "      <td>A4</td>\n",
              "      <td>ANAMALAI UNIVERSITY</td>\n",
              "      <td>92.50</td>\n",
              "      <td>94.6</td>\n",
              "      <td>1.0</td>\n",
              "      <td>76.0</td>\n",
              "    </tr>\n",
              "    <tr>\n",
              "      <th>4</th>\n",
              "      <td>5.0</td>\n",
              "      <td>A5</td>\n",
              "      <td>NaN</td>\n",
              "      <td>79.30</td>\n",
              "      <td>65.0</td>\n",
              "      <td>2.0</td>\n",
              "      <td>89.0</td>\n",
              "    </tr>\n",
              "    <tr>\n",
              "      <th>5</th>\n",
              "      <td>6.0</td>\n",
              "      <td>A6</td>\n",
              "      <td>SRM</td>\n",
              "      <td>NaN</td>\n",
              "      <td>88.1</td>\n",
              "      <td>0.0</td>\n",
              "      <td>89.6</td>\n",
              "    </tr>\n",
              "    <tr>\n",
              "      <th>6</th>\n",
              "      <td>7.0</td>\n",
              "      <td>A7</td>\n",
              "      <td>SAVEETHA</td>\n",
              "      <td>91.80</td>\n",
              "      <td>NaN</td>\n",
              "      <td>7.0</td>\n",
              "      <td>78.3</td>\n",
              "    </tr>\n",
              "    <tr>\n",
              "      <th>7</th>\n",
              "      <td>8.0</td>\n",
              "      <td>A8</td>\n",
              "      <td>NaN</td>\n",
              "      <td>99.80</td>\n",
              "      <td>65.8</td>\n",
              "      <td>6.0</td>\n",
              "      <td>77.5</td>\n",
              "    </tr>\n",
              "    <tr>\n",
              "      <th>8</th>\n",
              "      <td>NaN</td>\n",
              "      <td>NaN</td>\n",
              "      <td>NaN</td>\n",
              "      <td>NaN</td>\n",
              "      <td>NaN</td>\n",
              "      <td>NaN</td>\n",
              "      <td>NaN</td>\n",
              "    </tr>\n",
              "    <tr>\n",
              "      <th>9</th>\n",
              "      <td>9.0</td>\n",
              "      <td>A9</td>\n",
              "      <td>ANAMALAI UNIVERSITY</td>\n",
              "      <td>98.70</td>\n",
              "      <td>91.0</td>\n",
              "      <td>2.0</td>\n",
              "      <td>76.0</td>\n",
              "    </tr>\n",
              "    <tr>\n",
              "      <th>10</th>\n",
              "      <td>10.0</td>\n",
              "      <td>AD</td>\n",
              "      <td>fogjof</td>\n",
              "      <td>56.00</td>\n",
              "      <td>9.0</td>\n",
              "      <td>78.0</td>\n",
              "      <td>2.0</td>\n",
              "    </tr>\n",
              "    <tr>\n",
              "      <th>11</th>\n",
              "      <td>11.0</td>\n",
              "      <td>A10</td>\n",
              "      <td>IITM</td>\n",
              "      <td>94.00</td>\n",
              "      <td>77.6</td>\n",
              "      <td>1.0</td>\n",
              "      <td>75.0</td>\n",
              "    </tr>\n",
              "    <tr>\n",
              "      <th>12</th>\n",
              "      <td>12.0</td>\n",
              "      <td>A11</td>\n",
              "      <td>IITK</td>\n",
              "      <td>88.20</td>\n",
              "      <td>75.9</td>\n",
              "      <td>2.0</td>\n",
              "      <td>72.0</td>\n",
              "    </tr>\n",
              "    <tr>\n",
              "      <th>13</th>\n",
              "      <td>13.0</td>\n",
              "      <td>A12</td>\n",
              "      <td>NaN</td>\n",
              "      <td>78.90</td>\n",
              "      <td>84.9</td>\n",
              "      <td>3.0</td>\n",
              "      <td>83.0</td>\n",
              "    </tr>\n",
              "    <tr>\n",
              "      <th>14</th>\n",
              "      <td>14.0</td>\n",
              "      <td>A13</td>\n",
              "      <td>SRM</td>\n",
              "      <td>86.90</td>\n",
              "      <td>97.0</td>\n",
              "      <td>4.0</td>\n",
              "      <td>92.0</td>\n",
              "    </tr>\n",
              "  </tbody>\n",
              "</table>\n",
              "</div>\n",
              "      <button class=\"colab-df-convert\" onclick=\"convertToInteractive('df-3acf0c16-f444-4e7d-9bbd-13619a8d3ba1')\"\n",
              "              title=\"Convert this dataframe to an interactive table.\"\n",
              "              style=\"display:none;\">\n",
              "        \n",
              "  <svg xmlns=\"http://www.w3.org/2000/svg\" height=\"24px\"viewBox=\"0 0 24 24\"\n",
              "       width=\"24px\">\n",
              "    <path d=\"M0 0h24v24H0V0z\" fill=\"none\"/>\n",
              "    <path d=\"M18.56 5.44l.94 2.06.94-2.06 2.06-.94-2.06-.94-.94-2.06-.94 2.06-2.06.94zm-11 1L8.5 8.5l.94-2.06 2.06-.94-2.06-.94L8.5 2.5l-.94 2.06-2.06.94zm10 10l.94 2.06.94-2.06 2.06-.94-2.06-.94-.94-2.06-.94 2.06-2.06.94z\"/><path d=\"M17.41 7.96l-1.37-1.37c-.4-.4-.92-.59-1.43-.59-.52 0-1.04.2-1.43.59L10.3 9.45l-7.72 7.72c-.78.78-.78 2.05 0 2.83L4 21.41c.39.39.9.59 1.41.59.51 0 1.02-.2 1.41-.59l7.78-7.78 2.81-2.81c.8-.78.8-2.07 0-2.86zM5.41 20L4 18.59l7.72-7.72 1.47 1.35L5.41 20z\"/>\n",
              "  </svg>\n",
              "      </button>\n",
              "      \n",
              "  <style>\n",
              "    .colab-df-container {\n",
              "      display:flex;\n",
              "      flex-wrap:wrap;\n",
              "      gap: 12px;\n",
              "    }\n",
              "\n",
              "    .colab-df-convert {\n",
              "      background-color: #E8F0FE;\n",
              "      border: none;\n",
              "      border-radius: 50%;\n",
              "      cursor: pointer;\n",
              "      display: none;\n",
              "      fill: #1967D2;\n",
              "      height: 32px;\n",
              "      padding: 0 0 0 0;\n",
              "      width: 32px;\n",
              "    }\n",
              "\n",
              "    .colab-df-convert:hover {\n",
              "      background-color: #E2EBFA;\n",
              "      box-shadow: 0px 1px 2px rgba(60, 64, 67, 0.3), 0px 1px 3px 1px rgba(60, 64, 67, 0.15);\n",
              "      fill: #174EA6;\n",
              "    }\n",
              "\n",
              "    [theme=dark] .colab-df-convert {\n",
              "      background-color: #3B4455;\n",
              "      fill: #D2E3FC;\n",
              "    }\n",
              "\n",
              "    [theme=dark] .colab-df-convert:hover {\n",
              "      background-color: #434B5C;\n",
              "      box-shadow: 0px 1px 3px 1px rgba(0, 0, 0, 0.15);\n",
              "      filter: drop-shadow(0px 1px 2px rgba(0, 0, 0, 0.3));\n",
              "      fill: #FFFFFF;\n",
              "    }\n",
              "  </style>\n",
              "\n",
              "      <script>\n",
              "        const buttonEl =\n",
              "          document.querySelector('#df-3acf0c16-f444-4e7d-9bbd-13619a8d3ba1 button.colab-df-convert');\n",
              "        buttonEl.style.display =\n",
              "          google.colab.kernel.accessAllowed ? 'block' : 'none';\n",
              "\n",
              "        async function convertToInteractive(key) {\n",
              "          const element = document.querySelector('#df-3acf0c16-f444-4e7d-9bbd-13619a8d3ba1');\n",
              "          const dataTable =\n",
              "            await google.colab.kernel.invokeFunction('convertToInteractive',\n",
              "                                                     [key], {});\n",
              "          if (!dataTable) return;\n",
              "\n",
              "          const docLinkHtml = 'Like what you see? Visit the ' +\n",
              "            '<a target=\"_blank\" href=https://colab.research.google.com/notebooks/data_table.ipynb>data table notebook</a>'\n",
              "            + ' to learn more about interactive tables.';\n",
              "          element.innerHTML = '';\n",
              "          dataTable['output_type'] = 'display_data';\n",
              "          await google.colab.output.renderOutput(dataTable, element);\n",
              "          const docLink = document.createElement('div');\n",
              "          docLink.innerHTML = docLinkHtml;\n",
              "          element.appendChild(docLink);\n",
              "        }\n",
              "      </script>\n",
              "    </div>\n",
              "  </div>\n",
              "  "
            ],
            "text/plain": [
              "    sl No name              college    hsc  SSLC  arrears  cmark\n",
              "0     1.0   A1                 IITM  89.90  92.6      0.0   95.0\n",
              "1     2.0   A2      ANNA UNIVERSITY  76.80  77.9      NaN   89.0\n",
              "2     3.0   A3      ANNA UNIVERSITY  88.39  85.6      6.0   99.0\n",
              "3     4.0   A4  ANAMALAI UNIVERSITY  92.50  94.6      1.0   76.0\n",
              "4     5.0   A5                  NaN  79.30  65.0      2.0   89.0\n",
              "5     6.0   A6                  SRM    NaN  88.1      0.0   89.6\n",
              "6     7.0   A7             SAVEETHA  91.80   NaN      7.0   78.3\n",
              "7     8.0   A8                  NaN  99.80  65.8      6.0   77.5\n",
              "8     NaN  NaN                  NaN    NaN   NaN      NaN    NaN\n",
              "9     9.0   A9  ANAMALAI UNIVERSITY  98.70  91.0      2.0   76.0\n",
              "10   10.0   AD               fogjof  56.00   9.0     78.0    2.0\n",
              "11   11.0  A10                 IITM  94.00  77.6      1.0   75.0\n",
              "12   12.0  A11                 IITK  88.20  75.9      2.0   72.0\n",
              "13   13.0  A12                  NaN  78.90  84.9      3.0   83.0\n",
              "14   14.0  A13                  SRM  86.90  97.0      4.0   92.0"
            ]
          },
          "metadata": {},
          "execution_count": 3
        }
      ]
    },
    {
      "cell_type": "code",
      "source": [
        "b=pd.DataFrame(a)\n",
        "b"
      ],
      "metadata": {
        "id": "RQJukCjSZt-B",
        "colab": {
          "base_uri": "https://localhost:8080/",
          "height": 520
        },
        "outputId": "1657fd8b-53ce-4021-dca3-fd6c316ab623"
      },
      "execution_count": null,
      "outputs": [
        {
          "output_type": "execute_result",
          "data": {
            "text/html": [
              "\n",
              "  <div id=\"df-d65fa73a-00ad-4cb9-8730-a4c651ae17e9\">\n",
              "    <div class=\"colab-df-container\">\n",
              "      <div>\n",
              "<style scoped>\n",
              "    .dataframe tbody tr th:only-of-type {\n",
              "        vertical-align: middle;\n",
              "    }\n",
              "\n",
              "    .dataframe tbody tr th {\n",
              "        vertical-align: top;\n",
              "    }\n",
              "\n",
              "    .dataframe thead th {\n",
              "        text-align: right;\n",
              "    }\n",
              "</style>\n",
              "<table border=\"1\" class=\"dataframe\">\n",
              "  <thead>\n",
              "    <tr style=\"text-align: right;\">\n",
              "      <th></th>\n",
              "      <th>sl No</th>\n",
              "      <th>name</th>\n",
              "      <th>college</th>\n",
              "      <th>hsc</th>\n",
              "      <th>SSLC</th>\n",
              "      <th>arrears</th>\n",
              "      <th>cmark</th>\n",
              "    </tr>\n",
              "  </thead>\n",
              "  <tbody>\n",
              "    <tr>\n",
              "      <th>0</th>\n",
              "      <td>1.0</td>\n",
              "      <td>A1</td>\n",
              "      <td>IITM</td>\n",
              "      <td>89.90</td>\n",
              "      <td>92.6</td>\n",
              "      <td>0.0</td>\n",
              "      <td>95.0</td>\n",
              "    </tr>\n",
              "    <tr>\n",
              "      <th>1</th>\n",
              "      <td>2.0</td>\n",
              "      <td>A2</td>\n",
              "      <td>ANNA UNIVERSITY</td>\n",
              "      <td>76.80</td>\n",
              "      <td>77.9</td>\n",
              "      <td>NaN</td>\n",
              "      <td>89.0</td>\n",
              "    </tr>\n",
              "    <tr>\n",
              "      <th>2</th>\n",
              "      <td>3.0</td>\n",
              "      <td>A3</td>\n",
              "      <td>ANNA UNIVERSITY</td>\n",
              "      <td>88.39</td>\n",
              "      <td>85.6</td>\n",
              "      <td>6.0</td>\n",
              "      <td>99.0</td>\n",
              "    </tr>\n",
              "    <tr>\n",
              "      <th>3</th>\n",
              "      <td>4.0</td>\n",
              "      <td>A4</td>\n",
              "      <td>ANAMALAI UNIVERSITY</td>\n",
              "      <td>92.50</td>\n",
              "      <td>94.6</td>\n",
              "      <td>1.0</td>\n",
              "      <td>76.0</td>\n",
              "    </tr>\n",
              "    <tr>\n",
              "      <th>4</th>\n",
              "      <td>5.0</td>\n",
              "      <td>A5</td>\n",
              "      <td>NaN</td>\n",
              "      <td>79.30</td>\n",
              "      <td>65.0</td>\n",
              "      <td>2.0</td>\n",
              "      <td>89.0</td>\n",
              "    </tr>\n",
              "    <tr>\n",
              "      <th>5</th>\n",
              "      <td>6.0</td>\n",
              "      <td>A6</td>\n",
              "      <td>SRM</td>\n",
              "      <td>NaN</td>\n",
              "      <td>88.1</td>\n",
              "      <td>0.0</td>\n",
              "      <td>89.6</td>\n",
              "    </tr>\n",
              "    <tr>\n",
              "      <th>6</th>\n",
              "      <td>7.0</td>\n",
              "      <td>A7</td>\n",
              "      <td>SAVEETHA</td>\n",
              "      <td>91.80</td>\n",
              "      <td>NaN</td>\n",
              "      <td>7.0</td>\n",
              "      <td>78.3</td>\n",
              "    </tr>\n",
              "    <tr>\n",
              "      <th>7</th>\n",
              "      <td>8.0</td>\n",
              "      <td>A8</td>\n",
              "      <td>NaN</td>\n",
              "      <td>99.80</td>\n",
              "      <td>65.8</td>\n",
              "      <td>6.0</td>\n",
              "      <td>77.5</td>\n",
              "    </tr>\n",
              "    <tr>\n",
              "      <th>8</th>\n",
              "      <td>NaN</td>\n",
              "      <td>NaN</td>\n",
              "      <td>NaN</td>\n",
              "      <td>NaN</td>\n",
              "      <td>NaN</td>\n",
              "      <td>NaN</td>\n",
              "      <td>NaN</td>\n",
              "    </tr>\n",
              "    <tr>\n",
              "      <th>9</th>\n",
              "      <td>9.0</td>\n",
              "      <td>A9</td>\n",
              "      <td>ANAMALAI UNIVERSITY</td>\n",
              "      <td>98.70</td>\n",
              "      <td>91.0</td>\n",
              "      <td>2.0</td>\n",
              "      <td>76.0</td>\n",
              "    </tr>\n",
              "    <tr>\n",
              "      <th>10</th>\n",
              "      <td>10.0</td>\n",
              "      <td>AD</td>\n",
              "      <td>fogjof</td>\n",
              "      <td>56.00</td>\n",
              "      <td>9.0</td>\n",
              "      <td>78.0</td>\n",
              "      <td>2.0</td>\n",
              "    </tr>\n",
              "    <tr>\n",
              "      <th>11</th>\n",
              "      <td>11.0</td>\n",
              "      <td>A10</td>\n",
              "      <td>IITM</td>\n",
              "      <td>94.00</td>\n",
              "      <td>77.6</td>\n",
              "      <td>1.0</td>\n",
              "      <td>75.0</td>\n",
              "    </tr>\n",
              "    <tr>\n",
              "      <th>12</th>\n",
              "      <td>12.0</td>\n",
              "      <td>A11</td>\n",
              "      <td>IITK</td>\n",
              "      <td>88.20</td>\n",
              "      <td>75.9</td>\n",
              "      <td>2.0</td>\n",
              "      <td>72.0</td>\n",
              "    </tr>\n",
              "    <tr>\n",
              "      <th>13</th>\n",
              "      <td>13.0</td>\n",
              "      <td>A12</td>\n",
              "      <td>NaN</td>\n",
              "      <td>78.90</td>\n",
              "      <td>84.9</td>\n",
              "      <td>3.0</td>\n",
              "      <td>83.0</td>\n",
              "    </tr>\n",
              "    <tr>\n",
              "      <th>14</th>\n",
              "      <td>14.0</td>\n",
              "      <td>A13</td>\n",
              "      <td>SRM</td>\n",
              "      <td>86.90</td>\n",
              "      <td>97.0</td>\n",
              "      <td>4.0</td>\n",
              "      <td>92.0</td>\n",
              "    </tr>\n",
              "  </tbody>\n",
              "</table>\n",
              "</div>\n",
              "      <button class=\"colab-df-convert\" onclick=\"convertToInteractive('df-d65fa73a-00ad-4cb9-8730-a4c651ae17e9')\"\n",
              "              title=\"Convert this dataframe to an interactive table.\"\n",
              "              style=\"display:none;\">\n",
              "        \n",
              "  <svg xmlns=\"http://www.w3.org/2000/svg\" height=\"24px\"viewBox=\"0 0 24 24\"\n",
              "       width=\"24px\">\n",
              "    <path d=\"M0 0h24v24H0V0z\" fill=\"none\"/>\n",
              "    <path d=\"M18.56 5.44l.94 2.06.94-2.06 2.06-.94-2.06-.94-.94-2.06-.94 2.06-2.06.94zm-11 1L8.5 8.5l.94-2.06 2.06-.94-2.06-.94L8.5 2.5l-.94 2.06-2.06.94zm10 10l.94 2.06.94-2.06 2.06-.94-2.06-.94-.94-2.06-.94 2.06-2.06.94z\"/><path d=\"M17.41 7.96l-1.37-1.37c-.4-.4-.92-.59-1.43-.59-.52 0-1.04.2-1.43.59L10.3 9.45l-7.72 7.72c-.78.78-.78 2.05 0 2.83L4 21.41c.39.39.9.59 1.41.59.51 0 1.02-.2 1.41-.59l7.78-7.78 2.81-2.81c.8-.78.8-2.07 0-2.86zM5.41 20L4 18.59l7.72-7.72 1.47 1.35L5.41 20z\"/>\n",
              "  </svg>\n",
              "      </button>\n",
              "      \n",
              "  <style>\n",
              "    .colab-df-container {\n",
              "      display:flex;\n",
              "      flex-wrap:wrap;\n",
              "      gap: 12px;\n",
              "    }\n",
              "\n",
              "    .colab-df-convert {\n",
              "      background-color: #E8F0FE;\n",
              "      border: none;\n",
              "      border-radius: 50%;\n",
              "      cursor: pointer;\n",
              "      display: none;\n",
              "      fill: #1967D2;\n",
              "      height: 32px;\n",
              "      padding: 0 0 0 0;\n",
              "      width: 32px;\n",
              "    }\n",
              "\n",
              "    .colab-df-convert:hover {\n",
              "      background-color: #E2EBFA;\n",
              "      box-shadow: 0px 1px 2px rgba(60, 64, 67, 0.3), 0px 1px 3px 1px rgba(60, 64, 67, 0.15);\n",
              "      fill: #174EA6;\n",
              "    }\n",
              "\n",
              "    [theme=dark] .colab-df-convert {\n",
              "      background-color: #3B4455;\n",
              "      fill: #D2E3FC;\n",
              "    }\n",
              "\n",
              "    [theme=dark] .colab-df-convert:hover {\n",
              "      background-color: #434B5C;\n",
              "      box-shadow: 0px 1px 3px 1px rgba(0, 0, 0, 0.15);\n",
              "      filter: drop-shadow(0px 1px 2px rgba(0, 0, 0, 0.3));\n",
              "      fill: #FFFFFF;\n",
              "    }\n",
              "  </style>\n",
              "\n",
              "      <script>\n",
              "        const buttonEl =\n",
              "          document.querySelector('#df-d65fa73a-00ad-4cb9-8730-a4c651ae17e9 button.colab-df-convert');\n",
              "        buttonEl.style.display =\n",
              "          google.colab.kernel.accessAllowed ? 'block' : 'none';\n",
              "\n",
              "        async function convertToInteractive(key) {\n",
              "          const element = document.querySelector('#df-d65fa73a-00ad-4cb9-8730-a4c651ae17e9');\n",
              "          const dataTable =\n",
              "            await google.colab.kernel.invokeFunction('convertToInteractive',\n",
              "                                                     [key], {});\n",
              "          if (!dataTable) return;\n",
              "\n",
              "          const docLinkHtml = 'Like what you see? Visit the ' +\n",
              "            '<a target=\"_blank\" href=https://colab.research.google.com/notebooks/data_table.ipynb>data table notebook</a>'\n",
              "            + ' to learn more about interactive tables.';\n",
              "          element.innerHTML = '';\n",
              "          dataTable['output_type'] = 'display_data';\n",
              "          await google.colab.output.renderOutput(dataTable, element);\n",
              "          const docLink = document.createElement('div');\n",
              "          docLink.innerHTML = docLinkHtml;\n",
              "          element.appendChild(docLink);\n",
              "        }\n",
              "      </script>\n",
              "    </div>\n",
              "  </div>\n",
              "  "
            ],
            "text/plain": [
              "    sl No name              college    hsc  SSLC  arrears  cmark\n",
              "0     1.0   A1                 IITM  89.90  92.6      0.0   95.0\n",
              "1     2.0   A2      ANNA UNIVERSITY  76.80  77.9      NaN   89.0\n",
              "2     3.0   A3      ANNA UNIVERSITY  88.39  85.6      6.0   99.0\n",
              "3     4.0   A4  ANAMALAI UNIVERSITY  92.50  94.6      1.0   76.0\n",
              "4     5.0   A5                  NaN  79.30  65.0      2.0   89.0\n",
              "5     6.0   A6                  SRM    NaN  88.1      0.0   89.6\n",
              "6     7.0   A7             SAVEETHA  91.80   NaN      7.0   78.3\n",
              "7     8.0   A8                  NaN  99.80  65.8      6.0   77.5\n",
              "8     NaN  NaN                  NaN    NaN   NaN      NaN    NaN\n",
              "9     9.0   A9  ANAMALAI UNIVERSITY  98.70  91.0      2.0   76.0\n",
              "10   10.0   AD               fogjof  56.00   9.0     78.0    2.0\n",
              "11   11.0  A10                 IITM  94.00  77.6      1.0   75.0\n",
              "12   12.0  A11                 IITK  88.20  75.9      2.0   72.0\n",
              "13   13.0  A12                  NaN  78.90  84.9      3.0   83.0\n",
              "14   14.0  A13                  SRM  86.90  97.0      4.0   92.0"
            ]
          },
          "metadata": {},
          "execution_count": 4
        }
      ]
    },
    {
      "cell_type": "code",
      "source": [
        "b.isnull()"
      ],
      "metadata": {
        "id": "Kbe4YUsvSeBq",
        "colab": {
          "base_uri": "https://localhost:8080/",
          "height": 430
        },
        "outputId": "936eb531-56c0-4248-d07e-4d2771373afa"
      },
      "execution_count": null,
      "outputs": [
        {
          "output_type": "execute_result",
          "data": {
            "text/html": [
              "\n",
              "  <div id=\"df-a0bf3142-160e-4032-a65f-1e872e5578e4\">\n",
              "    <div class=\"colab-df-container\">\n",
              "      <div>\n",
              "<style scoped>\n",
              "    .dataframe tbody tr th:only-of-type {\n",
              "        vertical-align: middle;\n",
              "    }\n",
              "\n",
              "    .dataframe tbody tr th {\n",
              "        vertical-align: top;\n",
              "    }\n",
              "\n",
              "    .dataframe thead th {\n",
              "        text-align: right;\n",
              "    }\n",
              "</style>\n",
              "<table border=\"1\" class=\"dataframe\">\n",
              "  <thead>\n",
              "    <tr style=\"text-align: right;\">\n",
              "      <th></th>\n",
              "      <th>sl No</th>\n",
              "      <th>name</th>\n",
              "      <th>college</th>\n",
              "      <th>hsc</th>\n",
              "      <th>SSLC</th>\n",
              "      <th>arrears</th>\n",
              "      <th>cmark</th>\n",
              "    </tr>\n",
              "  </thead>\n",
              "  <tbody>\n",
              "    <tr>\n",
              "      <th>0</th>\n",
              "      <td>False</td>\n",
              "      <td>False</td>\n",
              "      <td>False</td>\n",
              "      <td>False</td>\n",
              "      <td>False</td>\n",
              "      <td>False</td>\n",
              "      <td>False</td>\n",
              "    </tr>\n",
              "    <tr>\n",
              "      <th>1</th>\n",
              "      <td>False</td>\n",
              "      <td>False</td>\n",
              "      <td>False</td>\n",
              "      <td>False</td>\n",
              "      <td>False</td>\n",
              "      <td>True</td>\n",
              "      <td>False</td>\n",
              "    </tr>\n",
              "    <tr>\n",
              "      <th>2</th>\n",
              "      <td>False</td>\n",
              "      <td>False</td>\n",
              "      <td>False</td>\n",
              "      <td>False</td>\n",
              "      <td>False</td>\n",
              "      <td>False</td>\n",
              "      <td>False</td>\n",
              "    </tr>\n",
              "    <tr>\n",
              "      <th>3</th>\n",
              "      <td>False</td>\n",
              "      <td>False</td>\n",
              "      <td>False</td>\n",
              "      <td>False</td>\n",
              "      <td>False</td>\n",
              "      <td>False</td>\n",
              "      <td>False</td>\n",
              "    </tr>\n",
              "    <tr>\n",
              "      <th>4</th>\n",
              "      <td>False</td>\n",
              "      <td>False</td>\n",
              "      <td>True</td>\n",
              "      <td>False</td>\n",
              "      <td>False</td>\n",
              "      <td>False</td>\n",
              "      <td>False</td>\n",
              "    </tr>\n",
              "    <tr>\n",
              "      <th>5</th>\n",
              "      <td>False</td>\n",
              "      <td>False</td>\n",
              "      <td>False</td>\n",
              "      <td>True</td>\n",
              "      <td>False</td>\n",
              "      <td>False</td>\n",
              "      <td>False</td>\n",
              "    </tr>\n",
              "    <tr>\n",
              "      <th>6</th>\n",
              "      <td>False</td>\n",
              "      <td>False</td>\n",
              "      <td>False</td>\n",
              "      <td>False</td>\n",
              "      <td>True</td>\n",
              "      <td>False</td>\n",
              "      <td>False</td>\n",
              "    </tr>\n",
              "    <tr>\n",
              "      <th>7</th>\n",
              "      <td>False</td>\n",
              "      <td>False</td>\n",
              "      <td>True</td>\n",
              "      <td>False</td>\n",
              "      <td>False</td>\n",
              "      <td>False</td>\n",
              "      <td>False</td>\n",
              "    </tr>\n",
              "    <tr>\n",
              "      <th>8</th>\n",
              "      <td>True</td>\n",
              "      <td>True</td>\n",
              "      <td>True</td>\n",
              "      <td>True</td>\n",
              "      <td>True</td>\n",
              "      <td>True</td>\n",
              "      <td>True</td>\n",
              "    </tr>\n",
              "    <tr>\n",
              "      <th>9</th>\n",
              "      <td>False</td>\n",
              "      <td>False</td>\n",
              "      <td>False</td>\n",
              "      <td>False</td>\n",
              "      <td>False</td>\n",
              "      <td>False</td>\n",
              "      <td>False</td>\n",
              "    </tr>\n",
              "    <tr>\n",
              "      <th>10</th>\n",
              "      <td>False</td>\n",
              "      <td>False</td>\n",
              "      <td>False</td>\n",
              "      <td>False</td>\n",
              "      <td>False</td>\n",
              "      <td>False</td>\n",
              "      <td>False</td>\n",
              "    </tr>\n",
              "    <tr>\n",
              "      <th>11</th>\n",
              "      <td>False</td>\n",
              "      <td>False</td>\n",
              "      <td>False</td>\n",
              "      <td>False</td>\n",
              "      <td>False</td>\n",
              "      <td>False</td>\n",
              "      <td>False</td>\n",
              "    </tr>\n",
              "    <tr>\n",
              "      <th>12</th>\n",
              "      <td>False</td>\n",
              "      <td>False</td>\n",
              "      <td>False</td>\n",
              "      <td>False</td>\n",
              "      <td>False</td>\n",
              "      <td>False</td>\n",
              "      <td>False</td>\n",
              "    </tr>\n",
              "    <tr>\n",
              "      <th>13</th>\n",
              "      <td>False</td>\n",
              "      <td>False</td>\n",
              "      <td>True</td>\n",
              "      <td>False</td>\n",
              "      <td>False</td>\n",
              "      <td>False</td>\n",
              "      <td>False</td>\n",
              "    </tr>\n",
              "    <tr>\n",
              "      <th>14</th>\n",
              "      <td>False</td>\n",
              "      <td>False</td>\n",
              "      <td>False</td>\n",
              "      <td>False</td>\n",
              "      <td>False</td>\n",
              "      <td>False</td>\n",
              "      <td>False</td>\n",
              "    </tr>\n",
              "  </tbody>\n",
              "</table>\n",
              "</div>\n",
              "      <button class=\"colab-df-convert\" onclick=\"convertToInteractive('df-a0bf3142-160e-4032-a65f-1e872e5578e4')\"\n",
              "              title=\"Convert this dataframe to an interactive table.\"\n",
              "              style=\"display:none;\">\n",
              "        \n",
              "  <svg xmlns=\"http://www.w3.org/2000/svg\" height=\"24px\"viewBox=\"0 0 24 24\"\n",
              "       width=\"24px\">\n",
              "    <path d=\"M0 0h24v24H0V0z\" fill=\"none\"/>\n",
              "    <path d=\"M18.56 5.44l.94 2.06.94-2.06 2.06-.94-2.06-.94-.94-2.06-.94 2.06-2.06.94zm-11 1L8.5 8.5l.94-2.06 2.06-.94-2.06-.94L8.5 2.5l-.94 2.06-2.06.94zm10 10l.94 2.06.94-2.06 2.06-.94-2.06-.94-.94-2.06-.94 2.06-2.06.94z\"/><path d=\"M17.41 7.96l-1.37-1.37c-.4-.4-.92-.59-1.43-.59-.52 0-1.04.2-1.43.59L10.3 9.45l-7.72 7.72c-.78.78-.78 2.05 0 2.83L4 21.41c.39.39.9.59 1.41.59.51 0 1.02-.2 1.41-.59l7.78-7.78 2.81-2.81c.8-.78.8-2.07 0-2.86zM5.41 20L4 18.59l7.72-7.72 1.47 1.35L5.41 20z\"/>\n",
              "  </svg>\n",
              "      </button>\n",
              "      \n",
              "  <style>\n",
              "    .colab-df-container {\n",
              "      display:flex;\n",
              "      flex-wrap:wrap;\n",
              "      gap: 12px;\n",
              "    }\n",
              "\n",
              "    .colab-df-convert {\n",
              "      background-color: #E8F0FE;\n",
              "      border: none;\n",
              "      border-radius: 50%;\n",
              "      cursor: pointer;\n",
              "      display: none;\n",
              "      fill: #1967D2;\n",
              "      height: 32px;\n",
              "      padding: 0 0 0 0;\n",
              "      width: 32px;\n",
              "    }\n",
              "\n",
              "    .colab-df-convert:hover {\n",
              "      background-color: #E2EBFA;\n",
              "      box-shadow: 0px 1px 2px rgba(60, 64, 67, 0.3), 0px 1px 3px 1px rgba(60, 64, 67, 0.15);\n",
              "      fill: #174EA6;\n",
              "    }\n",
              "\n",
              "    [theme=dark] .colab-df-convert {\n",
              "      background-color: #3B4455;\n",
              "      fill: #D2E3FC;\n",
              "    }\n",
              "\n",
              "    [theme=dark] .colab-df-convert:hover {\n",
              "      background-color: #434B5C;\n",
              "      box-shadow: 0px 1px 3px 1px rgba(0, 0, 0, 0.15);\n",
              "      filter: drop-shadow(0px 1px 2px rgba(0, 0, 0, 0.3));\n",
              "      fill: #FFFFFF;\n",
              "    }\n",
              "  </style>\n",
              "\n",
              "      <script>\n",
              "        const buttonEl =\n",
              "          document.querySelector('#df-a0bf3142-160e-4032-a65f-1e872e5578e4 button.colab-df-convert');\n",
              "        buttonEl.style.display =\n",
              "          google.colab.kernel.accessAllowed ? 'block' : 'none';\n",
              "\n",
              "        async function convertToInteractive(key) {\n",
              "          const element = document.querySelector('#df-a0bf3142-160e-4032-a65f-1e872e5578e4');\n",
              "          const dataTable =\n",
              "            await google.colab.kernel.invokeFunction('convertToInteractive',\n",
              "                                                     [key], {});\n",
              "          if (!dataTable) return;\n",
              "\n",
              "          const docLinkHtml = 'Like what you see? Visit the ' +\n",
              "            '<a target=\"_blank\" href=https://colab.research.google.com/notebooks/data_table.ipynb>data table notebook</a>'\n",
              "            + ' to learn more about interactive tables.';\n",
              "          element.innerHTML = '';\n",
              "          dataTable['output_type'] = 'display_data';\n",
              "          await google.colab.output.renderOutput(dataTable, element);\n",
              "          const docLink = document.createElement('div');\n",
              "          docLink.innerHTML = docLinkHtml;\n",
              "          element.appendChild(docLink);\n",
              "        }\n",
              "      </script>\n",
              "    </div>\n",
              "  </div>\n",
              "  "
            ],
            "text/plain": [
              "    sl No   name  college    hsc   SSLC  arrears  cmark\n",
              "0   False  False    False  False  False    False  False\n",
              "1   False  False    False  False  False     True  False\n",
              "2   False  False    False  False  False    False  False\n",
              "3   False  False    False  False  False    False  False\n",
              "4   False  False     True  False  False    False  False\n",
              "5   False  False    False   True  False    False  False\n",
              "6   False  False    False  False   True    False  False\n",
              "7   False  False     True  False  False    False  False\n",
              "8    True   True     True   True   True     True   True\n",
              "9   False  False    False  False  False    False  False\n",
              "10  False  False    False  False  False    False  False\n",
              "11  False  False    False  False  False    False  False\n",
              "12  False  False    False  False  False    False  False\n",
              "13  False  False     True  False  False    False  False\n",
              "14  False  False    False  False  False    False  False"
            ]
          },
          "metadata": {},
          "execution_count": 5
        }
      ]
    },
    {
      "cell_type": "code",
      "source": [
        "b.isnull().sum()"
      ],
      "metadata": {
        "id": "F04KtgFR9T3y",
        "colab": {
          "base_uri": "https://localhost:8080/"
        },
        "outputId": "3c877161-e00a-4a87-acef-c57dc6ce509e"
      },
      "execution_count": null,
      "outputs": [
        {
          "output_type": "execute_result",
          "data": {
            "text/plain": [
              "sl No      1\n",
              "name       1\n",
              "college    4\n",
              "hsc        2\n",
              "SSLC       2\n",
              "arrears    2\n",
              "cmark      1\n",
              "dtype: int64"
            ]
          },
          "metadata": {},
          "execution_count": 7
        }
      ]
    },
    {
      "cell_type": "code",
      "source": [
        "b.fillna(0)"
      ],
      "metadata": {
        "colab": {
          "base_uri": "https://localhost:8080/",
          "height": 520
        },
        "id": "QIYPZPFFVPqr",
        "outputId": "483e6be0-2e08-4b2a-ce82-55c4aad90dcb"
      },
      "execution_count": null,
      "outputs": [
        {
          "output_type": "execute_result",
          "data": {
            "text/html": [
              "\n",
              "  <div id=\"df-1404cb58-bbd4-44fa-8e25-2c9608d2571d\">\n",
              "    <div class=\"colab-df-container\">\n",
              "      <div>\n",
              "<style scoped>\n",
              "    .dataframe tbody tr th:only-of-type {\n",
              "        vertical-align: middle;\n",
              "    }\n",
              "\n",
              "    .dataframe tbody tr th {\n",
              "        vertical-align: top;\n",
              "    }\n",
              "\n",
              "    .dataframe thead th {\n",
              "        text-align: right;\n",
              "    }\n",
              "</style>\n",
              "<table border=\"1\" class=\"dataframe\">\n",
              "  <thead>\n",
              "    <tr style=\"text-align: right;\">\n",
              "      <th></th>\n",
              "      <th>sl No</th>\n",
              "      <th>name</th>\n",
              "      <th>college</th>\n",
              "      <th>hsc</th>\n",
              "      <th>SSLC</th>\n",
              "      <th>arrears</th>\n",
              "      <th>cmark</th>\n",
              "    </tr>\n",
              "  </thead>\n",
              "  <tbody>\n",
              "    <tr>\n",
              "      <th>0</th>\n",
              "      <td>1.0</td>\n",
              "      <td>A1</td>\n",
              "      <td>IITM</td>\n",
              "      <td>89.90</td>\n",
              "      <td>92.6</td>\n",
              "      <td>0.0</td>\n",
              "      <td>95.0</td>\n",
              "    </tr>\n",
              "    <tr>\n",
              "      <th>1</th>\n",
              "      <td>2.0</td>\n",
              "      <td>A2</td>\n",
              "      <td>ANNA UNIVERSITY</td>\n",
              "      <td>76.80</td>\n",
              "      <td>77.9</td>\n",
              "      <td>0.0</td>\n",
              "      <td>89.0</td>\n",
              "    </tr>\n",
              "    <tr>\n",
              "      <th>2</th>\n",
              "      <td>3.0</td>\n",
              "      <td>A3</td>\n",
              "      <td>ANNA UNIVERSITY</td>\n",
              "      <td>88.39</td>\n",
              "      <td>85.6</td>\n",
              "      <td>6.0</td>\n",
              "      <td>99.0</td>\n",
              "    </tr>\n",
              "    <tr>\n",
              "      <th>3</th>\n",
              "      <td>4.0</td>\n",
              "      <td>A4</td>\n",
              "      <td>ANAMALAI UNIVERSITY</td>\n",
              "      <td>92.50</td>\n",
              "      <td>94.6</td>\n",
              "      <td>1.0</td>\n",
              "      <td>76.0</td>\n",
              "    </tr>\n",
              "    <tr>\n",
              "      <th>4</th>\n",
              "      <td>5.0</td>\n",
              "      <td>A5</td>\n",
              "      <td>0</td>\n",
              "      <td>79.30</td>\n",
              "      <td>65.0</td>\n",
              "      <td>2.0</td>\n",
              "      <td>89.0</td>\n",
              "    </tr>\n",
              "    <tr>\n",
              "      <th>5</th>\n",
              "      <td>6.0</td>\n",
              "      <td>A6</td>\n",
              "      <td>SRM</td>\n",
              "      <td>0.00</td>\n",
              "      <td>88.1</td>\n",
              "      <td>0.0</td>\n",
              "      <td>89.6</td>\n",
              "    </tr>\n",
              "    <tr>\n",
              "      <th>6</th>\n",
              "      <td>7.0</td>\n",
              "      <td>A7</td>\n",
              "      <td>SAVEETHA</td>\n",
              "      <td>91.80</td>\n",
              "      <td>0.0</td>\n",
              "      <td>7.0</td>\n",
              "      <td>78.3</td>\n",
              "    </tr>\n",
              "    <tr>\n",
              "      <th>7</th>\n",
              "      <td>8.0</td>\n",
              "      <td>A8</td>\n",
              "      <td>0</td>\n",
              "      <td>99.80</td>\n",
              "      <td>65.8</td>\n",
              "      <td>6.0</td>\n",
              "      <td>77.5</td>\n",
              "    </tr>\n",
              "    <tr>\n",
              "      <th>8</th>\n",
              "      <td>0.0</td>\n",
              "      <td>0</td>\n",
              "      <td>0</td>\n",
              "      <td>0.00</td>\n",
              "      <td>0.0</td>\n",
              "      <td>0.0</td>\n",
              "      <td>0.0</td>\n",
              "    </tr>\n",
              "    <tr>\n",
              "      <th>9</th>\n",
              "      <td>9.0</td>\n",
              "      <td>A9</td>\n",
              "      <td>ANAMALAI UNIVERSITY</td>\n",
              "      <td>98.70</td>\n",
              "      <td>91.0</td>\n",
              "      <td>2.0</td>\n",
              "      <td>76.0</td>\n",
              "    </tr>\n",
              "    <tr>\n",
              "      <th>10</th>\n",
              "      <td>10.0</td>\n",
              "      <td>AD</td>\n",
              "      <td>fogjof</td>\n",
              "      <td>56.00</td>\n",
              "      <td>9.0</td>\n",
              "      <td>78.0</td>\n",
              "      <td>2.0</td>\n",
              "    </tr>\n",
              "    <tr>\n",
              "      <th>11</th>\n",
              "      <td>11.0</td>\n",
              "      <td>A10</td>\n",
              "      <td>IITM</td>\n",
              "      <td>94.00</td>\n",
              "      <td>77.6</td>\n",
              "      <td>1.0</td>\n",
              "      <td>75.0</td>\n",
              "    </tr>\n",
              "    <tr>\n",
              "      <th>12</th>\n",
              "      <td>12.0</td>\n",
              "      <td>A11</td>\n",
              "      <td>IITK</td>\n",
              "      <td>88.20</td>\n",
              "      <td>75.9</td>\n",
              "      <td>2.0</td>\n",
              "      <td>72.0</td>\n",
              "    </tr>\n",
              "    <tr>\n",
              "      <th>13</th>\n",
              "      <td>13.0</td>\n",
              "      <td>A12</td>\n",
              "      <td>0</td>\n",
              "      <td>78.90</td>\n",
              "      <td>84.9</td>\n",
              "      <td>3.0</td>\n",
              "      <td>83.0</td>\n",
              "    </tr>\n",
              "    <tr>\n",
              "      <th>14</th>\n",
              "      <td>14.0</td>\n",
              "      <td>A13</td>\n",
              "      <td>SRM</td>\n",
              "      <td>86.90</td>\n",
              "      <td>97.0</td>\n",
              "      <td>4.0</td>\n",
              "      <td>92.0</td>\n",
              "    </tr>\n",
              "  </tbody>\n",
              "</table>\n",
              "</div>\n",
              "      <button class=\"colab-df-convert\" onclick=\"convertToInteractive('df-1404cb58-bbd4-44fa-8e25-2c9608d2571d')\"\n",
              "              title=\"Convert this dataframe to an interactive table.\"\n",
              "              style=\"display:none;\">\n",
              "        \n",
              "  <svg xmlns=\"http://www.w3.org/2000/svg\" height=\"24px\"viewBox=\"0 0 24 24\"\n",
              "       width=\"24px\">\n",
              "    <path d=\"M0 0h24v24H0V0z\" fill=\"none\"/>\n",
              "    <path d=\"M18.56 5.44l.94 2.06.94-2.06 2.06-.94-2.06-.94-.94-2.06-.94 2.06-2.06.94zm-11 1L8.5 8.5l.94-2.06 2.06-.94-2.06-.94L8.5 2.5l-.94 2.06-2.06.94zm10 10l.94 2.06.94-2.06 2.06-.94-2.06-.94-.94-2.06-.94 2.06-2.06.94z\"/><path d=\"M17.41 7.96l-1.37-1.37c-.4-.4-.92-.59-1.43-.59-.52 0-1.04.2-1.43.59L10.3 9.45l-7.72 7.72c-.78.78-.78 2.05 0 2.83L4 21.41c.39.39.9.59 1.41.59.51 0 1.02-.2 1.41-.59l7.78-7.78 2.81-2.81c.8-.78.8-2.07 0-2.86zM5.41 20L4 18.59l7.72-7.72 1.47 1.35L5.41 20z\"/>\n",
              "  </svg>\n",
              "      </button>\n",
              "      \n",
              "  <style>\n",
              "    .colab-df-container {\n",
              "      display:flex;\n",
              "      flex-wrap:wrap;\n",
              "      gap: 12px;\n",
              "    }\n",
              "\n",
              "    .colab-df-convert {\n",
              "      background-color: #E8F0FE;\n",
              "      border: none;\n",
              "      border-radius: 50%;\n",
              "      cursor: pointer;\n",
              "      display: none;\n",
              "      fill: #1967D2;\n",
              "      height: 32px;\n",
              "      padding: 0 0 0 0;\n",
              "      width: 32px;\n",
              "    }\n",
              "\n",
              "    .colab-df-convert:hover {\n",
              "      background-color: #E2EBFA;\n",
              "      box-shadow: 0px 1px 2px rgba(60, 64, 67, 0.3), 0px 1px 3px 1px rgba(60, 64, 67, 0.15);\n",
              "      fill: #174EA6;\n",
              "    }\n",
              "\n",
              "    [theme=dark] .colab-df-convert {\n",
              "      background-color: #3B4455;\n",
              "      fill: #D2E3FC;\n",
              "    }\n",
              "\n",
              "    [theme=dark] .colab-df-convert:hover {\n",
              "      background-color: #434B5C;\n",
              "      box-shadow: 0px 1px 3px 1px rgba(0, 0, 0, 0.15);\n",
              "      filter: drop-shadow(0px 1px 2px rgba(0, 0, 0, 0.3));\n",
              "      fill: #FFFFFF;\n",
              "    }\n",
              "  </style>\n",
              "\n",
              "      <script>\n",
              "        const buttonEl =\n",
              "          document.querySelector('#df-1404cb58-bbd4-44fa-8e25-2c9608d2571d button.colab-df-convert');\n",
              "        buttonEl.style.display =\n",
              "          google.colab.kernel.accessAllowed ? 'block' : 'none';\n",
              "\n",
              "        async function convertToInteractive(key) {\n",
              "          const element = document.querySelector('#df-1404cb58-bbd4-44fa-8e25-2c9608d2571d');\n",
              "          const dataTable =\n",
              "            await google.colab.kernel.invokeFunction('convertToInteractive',\n",
              "                                                     [key], {});\n",
              "          if (!dataTable) return;\n",
              "\n",
              "          const docLinkHtml = 'Like what you see? Visit the ' +\n",
              "            '<a target=\"_blank\" href=https://colab.research.google.com/notebooks/data_table.ipynb>data table notebook</a>'\n",
              "            + ' to learn more about interactive tables.';\n",
              "          element.innerHTML = '';\n",
              "          dataTable['output_type'] = 'display_data';\n",
              "          await google.colab.output.renderOutput(dataTable, element);\n",
              "          const docLink = document.createElement('div');\n",
              "          docLink.innerHTML = docLinkHtml;\n",
              "          element.appendChild(docLink);\n",
              "        }\n",
              "      </script>\n",
              "    </div>\n",
              "  </div>\n",
              "  "
            ],
            "text/plain": [
              "    sl No name              college    hsc  SSLC  arrears  cmark\n",
              "0     1.0   A1                 IITM  89.90  92.6      0.0   95.0\n",
              "1     2.0   A2      ANNA UNIVERSITY  76.80  77.9      0.0   89.0\n",
              "2     3.0   A3      ANNA UNIVERSITY  88.39  85.6      6.0   99.0\n",
              "3     4.0   A4  ANAMALAI UNIVERSITY  92.50  94.6      1.0   76.0\n",
              "4     5.0   A5                    0  79.30  65.0      2.0   89.0\n",
              "5     6.0   A6                  SRM   0.00  88.1      0.0   89.6\n",
              "6     7.0   A7             SAVEETHA  91.80   0.0      7.0   78.3\n",
              "7     8.0   A8                    0  99.80  65.8      6.0   77.5\n",
              "8     0.0    0                    0   0.00   0.0      0.0    0.0\n",
              "9     9.0   A9  ANAMALAI UNIVERSITY  98.70  91.0      2.0   76.0\n",
              "10   10.0   AD               fogjof  56.00   9.0     78.0    2.0\n",
              "11   11.0  A10                 IITM  94.00  77.6      1.0   75.0\n",
              "12   12.0  A11                 IITK  88.20  75.9      2.0   72.0\n",
              "13   13.0  A12                    0  78.90  84.9      3.0   83.0\n",
              "14   14.0  A13                  SRM  86.90  97.0      4.0   92.0"
            ]
          },
          "metadata": {},
          "execution_count": 9
        }
      ]
    },
    {
      "cell_type": "code",
      "source": [
        "b.fillna(method='bfill')"
      ],
      "metadata": {
        "colab": {
          "base_uri": "https://localhost:8080/",
          "height": 520
        },
        "id": "2l63UwyKVPtl",
        "outputId": "3c1453b2-02fe-4798-c228-71df3b8a6d21"
      },
      "execution_count": null,
      "outputs": [
        {
          "output_type": "execute_result",
          "data": {
            "text/html": [
              "\n",
              "  <div id=\"df-0a62bf78-99af-4b26-a5be-cd3ff747e3ff\">\n",
              "    <div class=\"colab-df-container\">\n",
              "      <div>\n",
              "<style scoped>\n",
              "    .dataframe tbody tr th:only-of-type {\n",
              "        vertical-align: middle;\n",
              "    }\n",
              "\n",
              "    .dataframe tbody tr th {\n",
              "        vertical-align: top;\n",
              "    }\n",
              "\n",
              "    .dataframe thead th {\n",
              "        text-align: right;\n",
              "    }\n",
              "</style>\n",
              "<table border=\"1\" class=\"dataframe\">\n",
              "  <thead>\n",
              "    <tr style=\"text-align: right;\">\n",
              "      <th></th>\n",
              "      <th>sl No</th>\n",
              "      <th>name</th>\n",
              "      <th>college</th>\n",
              "      <th>hsc</th>\n",
              "      <th>SSLC</th>\n",
              "      <th>arrears</th>\n",
              "      <th>cmark</th>\n",
              "    </tr>\n",
              "  </thead>\n",
              "  <tbody>\n",
              "    <tr>\n",
              "      <th>0</th>\n",
              "      <td>1.0</td>\n",
              "      <td>A1</td>\n",
              "      <td>IITM</td>\n",
              "      <td>89.90</td>\n",
              "      <td>92.6</td>\n",
              "      <td>0.0</td>\n",
              "      <td>95.0</td>\n",
              "    </tr>\n",
              "    <tr>\n",
              "      <th>1</th>\n",
              "      <td>2.0</td>\n",
              "      <td>A2</td>\n",
              "      <td>ANNA UNIVERSITY</td>\n",
              "      <td>76.80</td>\n",
              "      <td>77.9</td>\n",
              "      <td>6.0</td>\n",
              "      <td>89.0</td>\n",
              "    </tr>\n",
              "    <tr>\n",
              "      <th>2</th>\n",
              "      <td>3.0</td>\n",
              "      <td>A3</td>\n",
              "      <td>ANNA UNIVERSITY</td>\n",
              "      <td>88.39</td>\n",
              "      <td>85.6</td>\n",
              "      <td>6.0</td>\n",
              "      <td>99.0</td>\n",
              "    </tr>\n",
              "    <tr>\n",
              "      <th>3</th>\n",
              "      <td>4.0</td>\n",
              "      <td>A4</td>\n",
              "      <td>ANAMALAI UNIVERSITY</td>\n",
              "      <td>92.50</td>\n",
              "      <td>94.6</td>\n",
              "      <td>1.0</td>\n",
              "      <td>76.0</td>\n",
              "    </tr>\n",
              "    <tr>\n",
              "      <th>4</th>\n",
              "      <td>5.0</td>\n",
              "      <td>A5</td>\n",
              "      <td>SRM</td>\n",
              "      <td>79.30</td>\n",
              "      <td>65.0</td>\n",
              "      <td>2.0</td>\n",
              "      <td>89.0</td>\n",
              "    </tr>\n",
              "    <tr>\n",
              "      <th>5</th>\n",
              "      <td>6.0</td>\n",
              "      <td>A6</td>\n",
              "      <td>SRM</td>\n",
              "      <td>91.80</td>\n",
              "      <td>88.1</td>\n",
              "      <td>0.0</td>\n",
              "      <td>89.6</td>\n",
              "    </tr>\n",
              "    <tr>\n",
              "      <th>6</th>\n",
              "      <td>7.0</td>\n",
              "      <td>A7</td>\n",
              "      <td>SAVEETHA</td>\n",
              "      <td>91.80</td>\n",
              "      <td>65.8</td>\n",
              "      <td>7.0</td>\n",
              "      <td>78.3</td>\n",
              "    </tr>\n",
              "    <tr>\n",
              "      <th>7</th>\n",
              "      <td>8.0</td>\n",
              "      <td>A8</td>\n",
              "      <td>ANAMALAI UNIVERSITY</td>\n",
              "      <td>99.80</td>\n",
              "      <td>65.8</td>\n",
              "      <td>6.0</td>\n",
              "      <td>77.5</td>\n",
              "    </tr>\n",
              "    <tr>\n",
              "      <th>8</th>\n",
              "      <td>9.0</td>\n",
              "      <td>A9</td>\n",
              "      <td>ANAMALAI UNIVERSITY</td>\n",
              "      <td>98.70</td>\n",
              "      <td>91.0</td>\n",
              "      <td>2.0</td>\n",
              "      <td>76.0</td>\n",
              "    </tr>\n",
              "    <tr>\n",
              "      <th>9</th>\n",
              "      <td>9.0</td>\n",
              "      <td>A9</td>\n",
              "      <td>ANAMALAI UNIVERSITY</td>\n",
              "      <td>98.70</td>\n",
              "      <td>91.0</td>\n",
              "      <td>2.0</td>\n",
              "      <td>76.0</td>\n",
              "    </tr>\n",
              "    <tr>\n",
              "      <th>10</th>\n",
              "      <td>10.0</td>\n",
              "      <td>AD</td>\n",
              "      <td>fogjof</td>\n",
              "      <td>56.00</td>\n",
              "      <td>9.0</td>\n",
              "      <td>78.0</td>\n",
              "      <td>2.0</td>\n",
              "    </tr>\n",
              "    <tr>\n",
              "      <th>11</th>\n",
              "      <td>11.0</td>\n",
              "      <td>A10</td>\n",
              "      <td>IITM</td>\n",
              "      <td>94.00</td>\n",
              "      <td>77.6</td>\n",
              "      <td>1.0</td>\n",
              "      <td>75.0</td>\n",
              "    </tr>\n",
              "    <tr>\n",
              "      <th>12</th>\n",
              "      <td>12.0</td>\n",
              "      <td>A11</td>\n",
              "      <td>IITK</td>\n",
              "      <td>88.20</td>\n",
              "      <td>75.9</td>\n",
              "      <td>2.0</td>\n",
              "      <td>72.0</td>\n",
              "    </tr>\n",
              "    <tr>\n",
              "      <th>13</th>\n",
              "      <td>13.0</td>\n",
              "      <td>A12</td>\n",
              "      <td>SRM</td>\n",
              "      <td>78.90</td>\n",
              "      <td>84.9</td>\n",
              "      <td>3.0</td>\n",
              "      <td>83.0</td>\n",
              "    </tr>\n",
              "    <tr>\n",
              "      <th>14</th>\n",
              "      <td>14.0</td>\n",
              "      <td>A13</td>\n",
              "      <td>SRM</td>\n",
              "      <td>86.90</td>\n",
              "      <td>97.0</td>\n",
              "      <td>4.0</td>\n",
              "      <td>92.0</td>\n",
              "    </tr>\n",
              "  </tbody>\n",
              "</table>\n",
              "</div>\n",
              "      <button class=\"colab-df-convert\" onclick=\"convertToInteractive('df-0a62bf78-99af-4b26-a5be-cd3ff747e3ff')\"\n",
              "              title=\"Convert this dataframe to an interactive table.\"\n",
              "              style=\"display:none;\">\n",
              "        \n",
              "  <svg xmlns=\"http://www.w3.org/2000/svg\" height=\"24px\"viewBox=\"0 0 24 24\"\n",
              "       width=\"24px\">\n",
              "    <path d=\"M0 0h24v24H0V0z\" fill=\"none\"/>\n",
              "    <path d=\"M18.56 5.44l.94 2.06.94-2.06 2.06-.94-2.06-.94-.94-2.06-.94 2.06-2.06.94zm-11 1L8.5 8.5l.94-2.06 2.06-.94-2.06-.94L8.5 2.5l-.94 2.06-2.06.94zm10 10l.94 2.06.94-2.06 2.06-.94-2.06-.94-.94-2.06-.94 2.06-2.06.94z\"/><path d=\"M17.41 7.96l-1.37-1.37c-.4-.4-.92-.59-1.43-.59-.52 0-1.04.2-1.43.59L10.3 9.45l-7.72 7.72c-.78.78-.78 2.05 0 2.83L4 21.41c.39.39.9.59 1.41.59.51 0 1.02-.2 1.41-.59l7.78-7.78 2.81-2.81c.8-.78.8-2.07 0-2.86zM5.41 20L4 18.59l7.72-7.72 1.47 1.35L5.41 20z\"/>\n",
              "  </svg>\n",
              "      </button>\n",
              "      \n",
              "  <style>\n",
              "    .colab-df-container {\n",
              "      display:flex;\n",
              "      flex-wrap:wrap;\n",
              "      gap: 12px;\n",
              "    }\n",
              "\n",
              "    .colab-df-convert {\n",
              "      background-color: #E8F0FE;\n",
              "      border: none;\n",
              "      border-radius: 50%;\n",
              "      cursor: pointer;\n",
              "      display: none;\n",
              "      fill: #1967D2;\n",
              "      height: 32px;\n",
              "      padding: 0 0 0 0;\n",
              "      width: 32px;\n",
              "    }\n",
              "\n",
              "    .colab-df-convert:hover {\n",
              "      background-color: #E2EBFA;\n",
              "      box-shadow: 0px 1px 2px rgba(60, 64, 67, 0.3), 0px 1px 3px 1px rgba(60, 64, 67, 0.15);\n",
              "      fill: #174EA6;\n",
              "    }\n",
              "\n",
              "    [theme=dark] .colab-df-convert {\n",
              "      background-color: #3B4455;\n",
              "      fill: #D2E3FC;\n",
              "    }\n",
              "\n",
              "    [theme=dark] .colab-df-convert:hover {\n",
              "      background-color: #434B5C;\n",
              "      box-shadow: 0px 1px 3px 1px rgba(0, 0, 0, 0.15);\n",
              "      filter: drop-shadow(0px 1px 2px rgba(0, 0, 0, 0.3));\n",
              "      fill: #FFFFFF;\n",
              "    }\n",
              "  </style>\n",
              "\n",
              "      <script>\n",
              "        const buttonEl =\n",
              "          document.querySelector('#df-0a62bf78-99af-4b26-a5be-cd3ff747e3ff button.colab-df-convert');\n",
              "        buttonEl.style.display =\n",
              "          google.colab.kernel.accessAllowed ? 'block' : 'none';\n",
              "\n",
              "        async function convertToInteractive(key) {\n",
              "          const element = document.querySelector('#df-0a62bf78-99af-4b26-a5be-cd3ff747e3ff');\n",
              "          const dataTable =\n",
              "            await google.colab.kernel.invokeFunction('convertToInteractive',\n",
              "                                                     [key], {});\n",
              "          if (!dataTable) return;\n",
              "\n",
              "          const docLinkHtml = 'Like what you see? Visit the ' +\n",
              "            '<a target=\"_blank\" href=https://colab.research.google.com/notebooks/data_table.ipynb>data table notebook</a>'\n",
              "            + ' to learn more about interactive tables.';\n",
              "          element.innerHTML = '';\n",
              "          dataTable['output_type'] = 'display_data';\n",
              "          await google.colab.output.renderOutput(dataTable, element);\n",
              "          const docLink = document.createElement('div');\n",
              "          docLink.innerHTML = docLinkHtml;\n",
              "          element.appendChild(docLink);\n",
              "        }\n",
              "      </script>\n",
              "    </div>\n",
              "  </div>\n",
              "  "
            ],
            "text/plain": [
              "    sl No name              college    hsc  SSLC  arrears  cmark\n",
              "0     1.0   A1                 IITM  89.90  92.6      0.0   95.0\n",
              "1     2.0   A2      ANNA UNIVERSITY  76.80  77.9      6.0   89.0\n",
              "2     3.0   A3      ANNA UNIVERSITY  88.39  85.6      6.0   99.0\n",
              "3     4.0   A4  ANAMALAI UNIVERSITY  92.50  94.6      1.0   76.0\n",
              "4     5.0   A5                  SRM  79.30  65.0      2.0   89.0\n",
              "5     6.0   A6                  SRM  91.80  88.1      0.0   89.6\n",
              "6     7.0   A7             SAVEETHA  91.80  65.8      7.0   78.3\n",
              "7     8.0   A8  ANAMALAI UNIVERSITY  99.80  65.8      6.0   77.5\n",
              "8     9.0   A9  ANAMALAI UNIVERSITY  98.70  91.0      2.0   76.0\n",
              "9     9.0   A9  ANAMALAI UNIVERSITY  98.70  91.0      2.0   76.0\n",
              "10   10.0   AD               fogjof  56.00   9.0     78.0    2.0\n",
              "11   11.0  A10                 IITM  94.00  77.6      1.0   75.0\n",
              "12   12.0  A11                 IITK  88.20  75.9      2.0   72.0\n",
              "13   13.0  A12                  SRM  78.90  84.9      3.0   83.0\n",
              "14   14.0  A13                  SRM  86.90  97.0      4.0   92.0"
            ]
          },
          "metadata": {},
          "execution_count": 11
        }
      ]
    },
    {
      "cell_type": "code",
      "source": [
        "c=b.fillna(method='ffill')"
      ],
      "metadata": {
        "id": "yovbbhfXVPyB"
      },
      "execution_count": null,
      "outputs": []
    },
    {
      "cell_type": "code",
      "source": [
        "#b.isna,b.notna,b.dropna &b.dropna(how='any') it will remove that null value rows,b.dropna(how='all)if any row has no values,"
      ],
      "metadata": {
        "id": "dPLNbj79VP1a"
      },
      "execution_count": null,
      "outputs": []
    },
    {
      "cell_type": "code",
      "source": [
        "b.dropna(subset=['hsc','SSLC'])"
      ],
      "metadata": {
        "colab": {
          "base_uri": "https://localhost:8080/",
          "height": 426
        },
        "id": "8w7IwiEOVP3T",
        "outputId": "f83eefce-5a0d-48d4-d83c-17841f649a1e"
      },
      "execution_count": null,
      "outputs": [
        {
          "output_type": "execute_result",
          "data": {
            "text/html": [
              "\n",
              "  <div id=\"df-2130841e-4144-4837-849d-cedf3df06bda\">\n",
              "    <div class=\"colab-df-container\">\n",
              "      <div>\n",
              "<style scoped>\n",
              "    .dataframe tbody tr th:only-of-type {\n",
              "        vertical-align: middle;\n",
              "    }\n",
              "\n",
              "    .dataframe tbody tr th {\n",
              "        vertical-align: top;\n",
              "    }\n",
              "\n",
              "    .dataframe thead th {\n",
              "        text-align: right;\n",
              "    }\n",
              "</style>\n",
              "<table border=\"1\" class=\"dataframe\">\n",
              "  <thead>\n",
              "    <tr style=\"text-align: right;\">\n",
              "      <th></th>\n",
              "      <th>sl No</th>\n",
              "      <th>name</th>\n",
              "      <th>college</th>\n",
              "      <th>hsc</th>\n",
              "      <th>SSLC</th>\n",
              "      <th>arrears</th>\n",
              "      <th>cmark</th>\n",
              "    </tr>\n",
              "  </thead>\n",
              "  <tbody>\n",
              "    <tr>\n",
              "      <th>0</th>\n",
              "      <td>1.0</td>\n",
              "      <td>A1</td>\n",
              "      <td>IITM</td>\n",
              "      <td>89.90</td>\n",
              "      <td>92.6</td>\n",
              "      <td>0.0</td>\n",
              "      <td>95.0</td>\n",
              "    </tr>\n",
              "    <tr>\n",
              "      <th>1</th>\n",
              "      <td>2.0</td>\n",
              "      <td>A2</td>\n",
              "      <td>ANNA UNIVERSITY</td>\n",
              "      <td>76.80</td>\n",
              "      <td>77.9</td>\n",
              "      <td>NaN</td>\n",
              "      <td>89.0</td>\n",
              "    </tr>\n",
              "    <tr>\n",
              "      <th>2</th>\n",
              "      <td>3.0</td>\n",
              "      <td>A3</td>\n",
              "      <td>ANNA UNIVERSITY</td>\n",
              "      <td>88.39</td>\n",
              "      <td>85.6</td>\n",
              "      <td>6.0</td>\n",
              "      <td>99.0</td>\n",
              "    </tr>\n",
              "    <tr>\n",
              "      <th>3</th>\n",
              "      <td>4.0</td>\n",
              "      <td>A4</td>\n",
              "      <td>ANAMALAI UNIVERSITY</td>\n",
              "      <td>92.50</td>\n",
              "      <td>94.6</td>\n",
              "      <td>1.0</td>\n",
              "      <td>76.0</td>\n",
              "    </tr>\n",
              "    <tr>\n",
              "      <th>4</th>\n",
              "      <td>5.0</td>\n",
              "      <td>A5</td>\n",
              "      <td>NaN</td>\n",
              "      <td>79.30</td>\n",
              "      <td>65.0</td>\n",
              "      <td>2.0</td>\n",
              "      <td>89.0</td>\n",
              "    </tr>\n",
              "    <tr>\n",
              "      <th>7</th>\n",
              "      <td>8.0</td>\n",
              "      <td>A8</td>\n",
              "      <td>NaN</td>\n",
              "      <td>99.80</td>\n",
              "      <td>65.8</td>\n",
              "      <td>6.0</td>\n",
              "      <td>77.5</td>\n",
              "    </tr>\n",
              "    <tr>\n",
              "      <th>9</th>\n",
              "      <td>9.0</td>\n",
              "      <td>A9</td>\n",
              "      <td>ANAMALAI UNIVERSITY</td>\n",
              "      <td>98.70</td>\n",
              "      <td>91.0</td>\n",
              "      <td>2.0</td>\n",
              "      <td>76.0</td>\n",
              "    </tr>\n",
              "    <tr>\n",
              "      <th>10</th>\n",
              "      <td>10.0</td>\n",
              "      <td>AD</td>\n",
              "      <td>fogjof</td>\n",
              "      <td>56.00</td>\n",
              "      <td>9.0</td>\n",
              "      <td>78.0</td>\n",
              "      <td>2.0</td>\n",
              "    </tr>\n",
              "    <tr>\n",
              "      <th>11</th>\n",
              "      <td>11.0</td>\n",
              "      <td>A10</td>\n",
              "      <td>IITM</td>\n",
              "      <td>94.00</td>\n",
              "      <td>77.6</td>\n",
              "      <td>1.0</td>\n",
              "      <td>75.0</td>\n",
              "    </tr>\n",
              "    <tr>\n",
              "      <th>12</th>\n",
              "      <td>12.0</td>\n",
              "      <td>A11</td>\n",
              "      <td>IITK</td>\n",
              "      <td>88.20</td>\n",
              "      <td>75.9</td>\n",
              "      <td>2.0</td>\n",
              "      <td>72.0</td>\n",
              "    </tr>\n",
              "    <tr>\n",
              "      <th>13</th>\n",
              "      <td>13.0</td>\n",
              "      <td>A12</td>\n",
              "      <td>NaN</td>\n",
              "      <td>78.90</td>\n",
              "      <td>84.9</td>\n",
              "      <td>3.0</td>\n",
              "      <td>83.0</td>\n",
              "    </tr>\n",
              "    <tr>\n",
              "      <th>14</th>\n",
              "      <td>14.0</td>\n",
              "      <td>A13</td>\n",
              "      <td>SRM</td>\n",
              "      <td>86.90</td>\n",
              "      <td>97.0</td>\n",
              "      <td>4.0</td>\n",
              "      <td>92.0</td>\n",
              "    </tr>\n",
              "  </tbody>\n",
              "</table>\n",
              "</div>\n",
              "      <button class=\"colab-df-convert\" onclick=\"convertToInteractive('df-2130841e-4144-4837-849d-cedf3df06bda')\"\n",
              "              title=\"Convert this dataframe to an interactive table.\"\n",
              "              style=\"display:none;\">\n",
              "        \n",
              "  <svg xmlns=\"http://www.w3.org/2000/svg\" height=\"24px\"viewBox=\"0 0 24 24\"\n",
              "       width=\"24px\">\n",
              "    <path d=\"M0 0h24v24H0V0z\" fill=\"none\"/>\n",
              "    <path d=\"M18.56 5.44l.94 2.06.94-2.06 2.06-.94-2.06-.94-.94-2.06-.94 2.06-2.06.94zm-11 1L8.5 8.5l.94-2.06 2.06-.94-2.06-.94L8.5 2.5l-.94 2.06-2.06.94zm10 10l.94 2.06.94-2.06 2.06-.94-2.06-.94-.94-2.06-.94 2.06-2.06.94z\"/><path d=\"M17.41 7.96l-1.37-1.37c-.4-.4-.92-.59-1.43-.59-.52 0-1.04.2-1.43.59L10.3 9.45l-7.72 7.72c-.78.78-.78 2.05 0 2.83L4 21.41c.39.39.9.59 1.41.59.51 0 1.02-.2 1.41-.59l7.78-7.78 2.81-2.81c.8-.78.8-2.07 0-2.86zM5.41 20L4 18.59l7.72-7.72 1.47 1.35L5.41 20z\"/>\n",
              "  </svg>\n",
              "      </button>\n",
              "      \n",
              "  <style>\n",
              "    .colab-df-container {\n",
              "      display:flex;\n",
              "      flex-wrap:wrap;\n",
              "      gap: 12px;\n",
              "    }\n",
              "\n",
              "    .colab-df-convert {\n",
              "      background-color: #E8F0FE;\n",
              "      border: none;\n",
              "      border-radius: 50%;\n",
              "      cursor: pointer;\n",
              "      display: none;\n",
              "      fill: #1967D2;\n",
              "      height: 32px;\n",
              "      padding: 0 0 0 0;\n",
              "      width: 32px;\n",
              "    }\n",
              "\n",
              "    .colab-df-convert:hover {\n",
              "      background-color: #E2EBFA;\n",
              "      box-shadow: 0px 1px 2px rgba(60, 64, 67, 0.3), 0px 1px 3px 1px rgba(60, 64, 67, 0.15);\n",
              "      fill: #174EA6;\n",
              "    }\n",
              "\n",
              "    [theme=dark] .colab-df-convert {\n",
              "      background-color: #3B4455;\n",
              "      fill: #D2E3FC;\n",
              "    }\n",
              "\n",
              "    [theme=dark] .colab-df-convert:hover {\n",
              "      background-color: #434B5C;\n",
              "      box-shadow: 0px 1px 3px 1px rgba(0, 0, 0, 0.15);\n",
              "      filter: drop-shadow(0px 1px 2px rgba(0, 0, 0, 0.3));\n",
              "      fill: #FFFFFF;\n",
              "    }\n",
              "  </style>\n",
              "\n",
              "      <script>\n",
              "        const buttonEl =\n",
              "          document.querySelector('#df-2130841e-4144-4837-849d-cedf3df06bda button.colab-df-convert');\n",
              "        buttonEl.style.display =\n",
              "          google.colab.kernel.accessAllowed ? 'block' : 'none';\n",
              "\n",
              "        async function convertToInteractive(key) {\n",
              "          const element = document.querySelector('#df-2130841e-4144-4837-849d-cedf3df06bda');\n",
              "          const dataTable =\n",
              "            await google.colab.kernel.invokeFunction('convertToInteractive',\n",
              "                                                     [key], {});\n",
              "          if (!dataTable) return;\n",
              "\n",
              "          const docLinkHtml = 'Like what you see? Visit the ' +\n",
              "            '<a target=\"_blank\" href=https://colab.research.google.com/notebooks/data_table.ipynb>data table notebook</a>'\n",
              "            + ' to learn more about interactive tables.';\n",
              "          element.innerHTML = '';\n",
              "          dataTable['output_type'] = 'display_data';\n",
              "          await google.colab.output.renderOutput(dataTable, element);\n",
              "          const docLink = document.createElement('div');\n",
              "          docLink.innerHTML = docLinkHtml;\n",
              "          element.appendChild(docLink);\n",
              "        }\n",
              "      </script>\n",
              "    </div>\n",
              "  </div>\n",
              "  "
            ],
            "text/plain": [
              "    sl No name              college    hsc  SSLC  arrears  cmark\n",
              "0     1.0   A1                 IITM  89.90  92.6      0.0   95.0\n",
              "1     2.0   A2      ANNA UNIVERSITY  76.80  77.9      NaN   89.0\n",
              "2     3.0   A3      ANNA UNIVERSITY  88.39  85.6      6.0   99.0\n",
              "3     4.0   A4  ANAMALAI UNIVERSITY  92.50  94.6      1.0   76.0\n",
              "4     5.0   A5                  NaN  79.30  65.0      2.0   89.0\n",
              "7     8.0   A8                  NaN  99.80  65.8      6.0   77.5\n",
              "9     9.0   A9  ANAMALAI UNIVERSITY  98.70  91.0      2.0   76.0\n",
              "10   10.0   AD               fogjof  56.00   9.0     78.0    2.0\n",
              "11   11.0  A10                 IITM  94.00  77.6      1.0   75.0\n",
              "12   12.0  A11                 IITK  88.20  75.9      2.0   72.0\n",
              "13   13.0  A12                  NaN  78.90  84.9      3.0   83.0\n",
              "14   14.0  A13                  SRM  86.90  97.0      4.0   92.0"
            ]
          },
          "metadata": {},
          "execution_count": 15
        }
      ]
    },
    {
      "cell_type": "code",
      "source": [
        "b"
      ],
      "metadata": {
        "colab": {
          "base_uri": "https://localhost:8080/",
          "height": 520
        },
        "id": "VdMWF9KpVP8a",
        "outputId": "30de4a1d-70ff-412a-b8a8-eebf67e9afaf"
      },
      "execution_count": null,
      "outputs": [
        {
          "output_type": "execute_result",
          "data": {
            "text/html": [
              "\n",
              "  <div id=\"df-47a0b591-b9c0-4824-86a6-6b6a80b38186\">\n",
              "    <div class=\"colab-df-container\">\n",
              "      <div>\n",
              "<style scoped>\n",
              "    .dataframe tbody tr th:only-of-type {\n",
              "        vertical-align: middle;\n",
              "    }\n",
              "\n",
              "    .dataframe tbody tr th {\n",
              "        vertical-align: top;\n",
              "    }\n",
              "\n",
              "    .dataframe thead th {\n",
              "        text-align: right;\n",
              "    }\n",
              "</style>\n",
              "<table border=\"1\" class=\"dataframe\">\n",
              "  <thead>\n",
              "    <tr style=\"text-align: right;\">\n",
              "      <th></th>\n",
              "      <th>sl No</th>\n",
              "      <th>name</th>\n",
              "      <th>college</th>\n",
              "      <th>hsc</th>\n",
              "      <th>SSLC</th>\n",
              "      <th>arrears</th>\n",
              "      <th>cmark</th>\n",
              "    </tr>\n",
              "  </thead>\n",
              "  <tbody>\n",
              "    <tr>\n",
              "      <th>0</th>\n",
              "      <td>1.0</td>\n",
              "      <td>A1</td>\n",
              "      <td>IITM</td>\n",
              "      <td>89.90</td>\n",
              "      <td>92.6</td>\n",
              "      <td>0.0</td>\n",
              "      <td>95.0</td>\n",
              "    </tr>\n",
              "    <tr>\n",
              "      <th>1</th>\n",
              "      <td>2.0</td>\n",
              "      <td>A2</td>\n",
              "      <td>ANNA UNIVERSITY</td>\n",
              "      <td>76.80</td>\n",
              "      <td>77.9</td>\n",
              "      <td>NaN</td>\n",
              "      <td>89.0</td>\n",
              "    </tr>\n",
              "    <tr>\n",
              "      <th>2</th>\n",
              "      <td>3.0</td>\n",
              "      <td>A3</td>\n",
              "      <td>ANNA UNIVERSITY</td>\n",
              "      <td>88.39</td>\n",
              "      <td>85.6</td>\n",
              "      <td>6.0</td>\n",
              "      <td>99.0</td>\n",
              "    </tr>\n",
              "    <tr>\n",
              "      <th>3</th>\n",
              "      <td>4.0</td>\n",
              "      <td>A4</td>\n",
              "      <td>ANAMALAI UNIVERSITY</td>\n",
              "      <td>92.50</td>\n",
              "      <td>94.6</td>\n",
              "      <td>1.0</td>\n",
              "      <td>76.0</td>\n",
              "    </tr>\n",
              "    <tr>\n",
              "      <th>4</th>\n",
              "      <td>5.0</td>\n",
              "      <td>A5</td>\n",
              "      <td>NaN</td>\n",
              "      <td>79.30</td>\n",
              "      <td>65.0</td>\n",
              "      <td>2.0</td>\n",
              "      <td>89.0</td>\n",
              "    </tr>\n",
              "    <tr>\n",
              "      <th>5</th>\n",
              "      <td>6.0</td>\n",
              "      <td>A6</td>\n",
              "      <td>SRM</td>\n",
              "      <td>NaN</td>\n",
              "      <td>88.1</td>\n",
              "      <td>0.0</td>\n",
              "      <td>89.6</td>\n",
              "    </tr>\n",
              "    <tr>\n",
              "      <th>6</th>\n",
              "      <td>7.0</td>\n",
              "      <td>A7</td>\n",
              "      <td>SAVEETHA</td>\n",
              "      <td>91.80</td>\n",
              "      <td>NaN</td>\n",
              "      <td>7.0</td>\n",
              "      <td>78.3</td>\n",
              "    </tr>\n",
              "    <tr>\n",
              "      <th>7</th>\n",
              "      <td>8.0</td>\n",
              "      <td>A8</td>\n",
              "      <td>NaN</td>\n",
              "      <td>99.80</td>\n",
              "      <td>65.8</td>\n",
              "      <td>6.0</td>\n",
              "      <td>77.5</td>\n",
              "    </tr>\n",
              "    <tr>\n",
              "      <th>8</th>\n",
              "      <td>NaN</td>\n",
              "      <td>NaN</td>\n",
              "      <td>NaN</td>\n",
              "      <td>NaN</td>\n",
              "      <td>NaN</td>\n",
              "      <td>NaN</td>\n",
              "      <td>NaN</td>\n",
              "    </tr>\n",
              "    <tr>\n",
              "      <th>9</th>\n",
              "      <td>9.0</td>\n",
              "      <td>A9</td>\n",
              "      <td>ANAMALAI UNIVERSITY</td>\n",
              "      <td>98.70</td>\n",
              "      <td>91.0</td>\n",
              "      <td>2.0</td>\n",
              "      <td>76.0</td>\n",
              "    </tr>\n",
              "    <tr>\n",
              "      <th>10</th>\n",
              "      <td>10.0</td>\n",
              "      <td>AD</td>\n",
              "      <td>fogjof</td>\n",
              "      <td>56.00</td>\n",
              "      <td>9.0</td>\n",
              "      <td>78.0</td>\n",
              "      <td>2.0</td>\n",
              "    </tr>\n",
              "    <tr>\n",
              "      <th>11</th>\n",
              "      <td>11.0</td>\n",
              "      <td>A10</td>\n",
              "      <td>IITM</td>\n",
              "      <td>94.00</td>\n",
              "      <td>77.6</td>\n",
              "      <td>1.0</td>\n",
              "      <td>75.0</td>\n",
              "    </tr>\n",
              "    <tr>\n",
              "      <th>12</th>\n",
              "      <td>12.0</td>\n",
              "      <td>A11</td>\n",
              "      <td>IITK</td>\n",
              "      <td>88.20</td>\n",
              "      <td>75.9</td>\n",
              "      <td>2.0</td>\n",
              "      <td>72.0</td>\n",
              "    </tr>\n",
              "    <tr>\n",
              "      <th>13</th>\n",
              "      <td>13.0</td>\n",
              "      <td>A12</td>\n",
              "      <td>NaN</td>\n",
              "      <td>78.90</td>\n",
              "      <td>84.9</td>\n",
              "      <td>3.0</td>\n",
              "      <td>83.0</td>\n",
              "    </tr>\n",
              "    <tr>\n",
              "      <th>14</th>\n",
              "      <td>14.0</td>\n",
              "      <td>A13</td>\n",
              "      <td>SRM</td>\n",
              "      <td>86.90</td>\n",
              "      <td>97.0</td>\n",
              "      <td>4.0</td>\n",
              "      <td>92.0</td>\n",
              "    </tr>\n",
              "  </tbody>\n",
              "</table>\n",
              "</div>\n",
              "      <button class=\"colab-df-convert\" onclick=\"convertToInteractive('df-47a0b591-b9c0-4824-86a6-6b6a80b38186')\"\n",
              "              title=\"Convert this dataframe to an interactive table.\"\n",
              "              style=\"display:none;\">\n",
              "        \n",
              "  <svg xmlns=\"http://www.w3.org/2000/svg\" height=\"24px\"viewBox=\"0 0 24 24\"\n",
              "       width=\"24px\">\n",
              "    <path d=\"M0 0h24v24H0V0z\" fill=\"none\"/>\n",
              "    <path d=\"M18.56 5.44l.94 2.06.94-2.06 2.06-.94-2.06-.94-.94-2.06-.94 2.06-2.06.94zm-11 1L8.5 8.5l.94-2.06 2.06-.94-2.06-.94L8.5 2.5l-.94 2.06-2.06.94zm10 10l.94 2.06.94-2.06 2.06-.94-2.06-.94-.94-2.06-.94 2.06-2.06.94z\"/><path d=\"M17.41 7.96l-1.37-1.37c-.4-.4-.92-.59-1.43-.59-.52 0-1.04.2-1.43.59L10.3 9.45l-7.72 7.72c-.78.78-.78 2.05 0 2.83L4 21.41c.39.39.9.59 1.41.59.51 0 1.02-.2 1.41-.59l7.78-7.78 2.81-2.81c.8-.78.8-2.07 0-2.86zM5.41 20L4 18.59l7.72-7.72 1.47 1.35L5.41 20z\"/>\n",
              "  </svg>\n",
              "      </button>\n",
              "      \n",
              "  <style>\n",
              "    .colab-df-container {\n",
              "      display:flex;\n",
              "      flex-wrap:wrap;\n",
              "      gap: 12px;\n",
              "    }\n",
              "\n",
              "    .colab-df-convert {\n",
              "      background-color: #E8F0FE;\n",
              "      border: none;\n",
              "      border-radius: 50%;\n",
              "      cursor: pointer;\n",
              "      display: none;\n",
              "      fill: #1967D2;\n",
              "      height: 32px;\n",
              "      padding: 0 0 0 0;\n",
              "      width: 32px;\n",
              "    }\n",
              "\n",
              "    .colab-df-convert:hover {\n",
              "      background-color: #E2EBFA;\n",
              "      box-shadow: 0px 1px 2px rgba(60, 64, 67, 0.3), 0px 1px 3px 1px rgba(60, 64, 67, 0.15);\n",
              "      fill: #174EA6;\n",
              "    }\n",
              "\n",
              "    [theme=dark] .colab-df-convert {\n",
              "      background-color: #3B4455;\n",
              "      fill: #D2E3FC;\n",
              "    }\n",
              "\n",
              "    [theme=dark] .colab-df-convert:hover {\n",
              "      background-color: #434B5C;\n",
              "      box-shadow: 0px 1px 3px 1px rgba(0, 0, 0, 0.15);\n",
              "      filter: drop-shadow(0px 1px 2px rgba(0, 0, 0, 0.3));\n",
              "      fill: #FFFFFF;\n",
              "    }\n",
              "  </style>\n",
              "\n",
              "      <script>\n",
              "        const buttonEl =\n",
              "          document.querySelector('#df-47a0b591-b9c0-4824-86a6-6b6a80b38186 button.colab-df-convert');\n",
              "        buttonEl.style.display =\n",
              "          google.colab.kernel.accessAllowed ? 'block' : 'none';\n",
              "\n",
              "        async function convertToInteractive(key) {\n",
              "          const element = document.querySelector('#df-47a0b591-b9c0-4824-86a6-6b6a80b38186');\n",
              "          const dataTable =\n",
              "            await google.colab.kernel.invokeFunction('convertToInteractive',\n",
              "                                                     [key], {});\n",
              "          if (!dataTable) return;\n",
              "\n",
              "          const docLinkHtml = 'Like what you see? Visit the ' +\n",
              "            '<a target=\"_blank\" href=https://colab.research.google.com/notebooks/data_table.ipynb>data table notebook</a>'\n",
              "            + ' to learn more about interactive tables.';\n",
              "          element.innerHTML = '';\n",
              "          dataTable['output_type'] = 'display_data';\n",
              "          await google.colab.output.renderOutput(dataTable, element);\n",
              "          const docLink = document.createElement('div');\n",
              "          docLink.innerHTML = docLinkHtml;\n",
              "          element.appendChild(docLink);\n",
              "        }\n",
              "      </script>\n",
              "    </div>\n",
              "  </div>\n",
              "  "
            ],
            "text/plain": [
              "    sl No name              college    hsc  SSLC  arrears  cmark\n",
              "0     1.0   A1                 IITM  89.90  92.6      0.0   95.0\n",
              "1     2.0   A2      ANNA UNIVERSITY  76.80  77.9      NaN   89.0\n",
              "2     3.0   A3      ANNA UNIVERSITY  88.39  85.6      6.0   99.0\n",
              "3     4.0   A4  ANAMALAI UNIVERSITY  92.50  94.6      1.0   76.0\n",
              "4     5.0   A5                  NaN  79.30  65.0      2.0   89.0\n",
              "5     6.0   A6                  SRM    NaN  88.1      0.0   89.6\n",
              "6     7.0   A7             SAVEETHA  91.80   NaN      7.0   78.3\n",
              "7     8.0   A8                  NaN  99.80  65.8      6.0   77.5\n",
              "8     NaN  NaN                  NaN    NaN   NaN      NaN    NaN\n",
              "9     9.0   A9  ANAMALAI UNIVERSITY  98.70  91.0      2.0   76.0\n",
              "10   10.0   AD               fogjof  56.00   9.0     78.0    2.0\n",
              "11   11.0  A10                 IITM  94.00  77.6      1.0   75.0\n",
              "12   12.0  A11                 IITK  88.20  75.9      2.0   72.0\n",
              "13   13.0  A12                  NaN  78.90  84.9      3.0   83.0\n",
              "14   14.0  A13                  SRM  86.90  97.0      4.0   92.0"
            ]
          },
          "metadata": {},
          "execution_count": 16
        }
      ]
    },
    {
      "cell_type": "code",
      "source": [
        "b.dropna(axis='columns',how='all')"
      ],
      "metadata": {
        "colab": {
          "base_uri": "https://localhost:8080/",
          "height": 520
        },
        "id": "b0Ng4sPiVP-w",
        "outputId": "73789885-3153-4d72-e7b1-9262b37d464c"
      },
      "execution_count": null,
      "outputs": [
        {
          "output_type": "execute_result",
          "data": {
            "text/html": [
              "\n",
              "  <div id=\"df-4b65fb38-b31c-4562-9920-3d331956f05b\">\n",
              "    <div class=\"colab-df-container\">\n",
              "      <div>\n",
              "<style scoped>\n",
              "    .dataframe tbody tr th:only-of-type {\n",
              "        vertical-align: middle;\n",
              "    }\n",
              "\n",
              "    .dataframe tbody tr th {\n",
              "        vertical-align: top;\n",
              "    }\n",
              "\n",
              "    .dataframe thead th {\n",
              "        text-align: right;\n",
              "    }\n",
              "</style>\n",
              "<table border=\"1\" class=\"dataframe\">\n",
              "  <thead>\n",
              "    <tr style=\"text-align: right;\">\n",
              "      <th></th>\n",
              "      <th>sl No</th>\n",
              "      <th>name</th>\n",
              "      <th>college</th>\n",
              "      <th>hsc</th>\n",
              "      <th>SSLC</th>\n",
              "      <th>arrears</th>\n",
              "      <th>cmark</th>\n",
              "    </tr>\n",
              "  </thead>\n",
              "  <tbody>\n",
              "    <tr>\n",
              "      <th>0</th>\n",
              "      <td>1.0</td>\n",
              "      <td>A1</td>\n",
              "      <td>IITM</td>\n",
              "      <td>89.90</td>\n",
              "      <td>92.6</td>\n",
              "      <td>0.0</td>\n",
              "      <td>95.0</td>\n",
              "    </tr>\n",
              "    <tr>\n",
              "      <th>1</th>\n",
              "      <td>2.0</td>\n",
              "      <td>A2</td>\n",
              "      <td>ANNA UNIVERSITY</td>\n",
              "      <td>76.80</td>\n",
              "      <td>77.9</td>\n",
              "      <td>NaN</td>\n",
              "      <td>89.0</td>\n",
              "    </tr>\n",
              "    <tr>\n",
              "      <th>2</th>\n",
              "      <td>3.0</td>\n",
              "      <td>A3</td>\n",
              "      <td>ANNA UNIVERSITY</td>\n",
              "      <td>88.39</td>\n",
              "      <td>85.6</td>\n",
              "      <td>6.0</td>\n",
              "      <td>99.0</td>\n",
              "    </tr>\n",
              "    <tr>\n",
              "      <th>3</th>\n",
              "      <td>4.0</td>\n",
              "      <td>A4</td>\n",
              "      <td>ANAMALAI UNIVERSITY</td>\n",
              "      <td>92.50</td>\n",
              "      <td>94.6</td>\n",
              "      <td>1.0</td>\n",
              "      <td>76.0</td>\n",
              "    </tr>\n",
              "    <tr>\n",
              "      <th>4</th>\n",
              "      <td>5.0</td>\n",
              "      <td>A5</td>\n",
              "      <td>NaN</td>\n",
              "      <td>79.30</td>\n",
              "      <td>65.0</td>\n",
              "      <td>2.0</td>\n",
              "      <td>89.0</td>\n",
              "    </tr>\n",
              "    <tr>\n",
              "      <th>5</th>\n",
              "      <td>6.0</td>\n",
              "      <td>A6</td>\n",
              "      <td>SRM</td>\n",
              "      <td>NaN</td>\n",
              "      <td>88.1</td>\n",
              "      <td>0.0</td>\n",
              "      <td>89.6</td>\n",
              "    </tr>\n",
              "    <tr>\n",
              "      <th>6</th>\n",
              "      <td>7.0</td>\n",
              "      <td>A7</td>\n",
              "      <td>SAVEETHA</td>\n",
              "      <td>91.80</td>\n",
              "      <td>NaN</td>\n",
              "      <td>7.0</td>\n",
              "      <td>78.3</td>\n",
              "    </tr>\n",
              "    <tr>\n",
              "      <th>7</th>\n",
              "      <td>8.0</td>\n",
              "      <td>A8</td>\n",
              "      <td>NaN</td>\n",
              "      <td>99.80</td>\n",
              "      <td>65.8</td>\n",
              "      <td>6.0</td>\n",
              "      <td>77.5</td>\n",
              "    </tr>\n",
              "    <tr>\n",
              "      <th>8</th>\n",
              "      <td>NaN</td>\n",
              "      <td>NaN</td>\n",
              "      <td>NaN</td>\n",
              "      <td>NaN</td>\n",
              "      <td>NaN</td>\n",
              "      <td>NaN</td>\n",
              "      <td>NaN</td>\n",
              "    </tr>\n",
              "    <tr>\n",
              "      <th>9</th>\n",
              "      <td>9.0</td>\n",
              "      <td>A9</td>\n",
              "      <td>ANAMALAI UNIVERSITY</td>\n",
              "      <td>98.70</td>\n",
              "      <td>91.0</td>\n",
              "      <td>2.0</td>\n",
              "      <td>76.0</td>\n",
              "    </tr>\n",
              "    <tr>\n",
              "      <th>10</th>\n",
              "      <td>10.0</td>\n",
              "      <td>AD</td>\n",
              "      <td>fogjof</td>\n",
              "      <td>56.00</td>\n",
              "      <td>9.0</td>\n",
              "      <td>78.0</td>\n",
              "      <td>2.0</td>\n",
              "    </tr>\n",
              "    <tr>\n",
              "      <th>11</th>\n",
              "      <td>11.0</td>\n",
              "      <td>A10</td>\n",
              "      <td>IITM</td>\n",
              "      <td>94.00</td>\n",
              "      <td>77.6</td>\n",
              "      <td>1.0</td>\n",
              "      <td>75.0</td>\n",
              "    </tr>\n",
              "    <tr>\n",
              "      <th>12</th>\n",
              "      <td>12.0</td>\n",
              "      <td>A11</td>\n",
              "      <td>IITK</td>\n",
              "      <td>88.20</td>\n",
              "      <td>75.9</td>\n",
              "      <td>2.0</td>\n",
              "      <td>72.0</td>\n",
              "    </tr>\n",
              "    <tr>\n",
              "      <th>13</th>\n",
              "      <td>13.0</td>\n",
              "      <td>A12</td>\n",
              "      <td>NaN</td>\n",
              "      <td>78.90</td>\n",
              "      <td>84.9</td>\n",
              "      <td>3.0</td>\n",
              "      <td>83.0</td>\n",
              "    </tr>\n",
              "    <tr>\n",
              "      <th>14</th>\n",
              "      <td>14.0</td>\n",
              "      <td>A13</td>\n",
              "      <td>SRM</td>\n",
              "      <td>86.90</td>\n",
              "      <td>97.0</td>\n",
              "      <td>4.0</td>\n",
              "      <td>92.0</td>\n",
              "    </tr>\n",
              "  </tbody>\n",
              "</table>\n",
              "</div>\n",
              "      <button class=\"colab-df-convert\" onclick=\"convertToInteractive('df-4b65fb38-b31c-4562-9920-3d331956f05b')\"\n",
              "              title=\"Convert this dataframe to an interactive table.\"\n",
              "              style=\"display:none;\">\n",
              "        \n",
              "  <svg xmlns=\"http://www.w3.org/2000/svg\" height=\"24px\"viewBox=\"0 0 24 24\"\n",
              "       width=\"24px\">\n",
              "    <path d=\"M0 0h24v24H0V0z\" fill=\"none\"/>\n",
              "    <path d=\"M18.56 5.44l.94 2.06.94-2.06 2.06-.94-2.06-.94-.94-2.06-.94 2.06-2.06.94zm-11 1L8.5 8.5l.94-2.06 2.06-.94-2.06-.94L8.5 2.5l-.94 2.06-2.06.94zm10 10l.94 2.06.94-2.06 2.06-.94-2.06-.94-.94-2.06-.94 2.06-2.06.94z\"/><path d=\"M17.41 7.96l-1.37-1.37c-.4-.4-.92-.59-1.43-.59-.52 0-1.04.2-1.43.59L10.3 9.45l-7.72 7.72c-.78.78-.78 2.05 0 2.83L4 21.41c.39.39.9.59 1.41.59.51 0 1.02-.2 1.41-.59l7.78-7.78 2.81-2.81c.8-.78.8-2.07 0-2.86zM5.41 20L4 18.59l7.72-7.72 1.47 1.35L5.41 20z\"/>\n",
              "  </svg>\n",
              "      </button>\n",
              "      \n",
              "  <style>\n",
              "    .colab-df-container {\n",
              "      display:flex;\n",
              "      flex-wrap:wrap;\n",
              "      gap: 12px;\n",
              "    }\n",
              "\n",
              "    .colab-df-convert {\n",
              "      background-color: #E8F0FE;\n",
              "      border: none;\n",
              "      border-radius: 50%;\n",
              "      cursor: pointer;\n",
              "      display: none;\n",
              "      fill: #1967D2;\n",
              "      height: 32px;\n",
              "      padding: 0 0 0 0;\n",
              "      width: 32px;\n",
              "    }\n",
              "\n",
              "    .colab-df-convert:hover {\n",
              "      background-color: #E2EBFA;\n",
              "      box-shadow: 0px 1px 2px rgba(60, 64, 67, 0.3), 0px 1px 3px 1px rgba(60, 64, 67, 0.15);\n",
              "      fill: #174EA6;\n",
              "    }\n",
              "\n",
              "    [theme=dark] .colab-df-convert {\n",
              "      background-color: #3B4455;\n",
              "      fill: #D2E3FC;\n",
              "    }\n",
              "\n",
              "    [theme=dark] .colab-df-convert:hover {\n",
              "      background-color: #434B5C;\n",
              "      box-shadow: 0px 1px 3px 1px rgba(0, 0, 0, 0.15);\n",
              "      filter: drop-shadow(0px 1px 2px rgba(0, 0, 0, 0.3));\n",
              "      fill: #FFFFFF;\n",
              "    }\n",
              "  </style>\n",
              "\n",
              "      <script>\n",
              "        const buttonEl =\n",
              "          document.querySelector('#df-4b65fb38-b31c-4562-9920-3d331956f05b button.colab-df-convert');\n",
              "        buttonEl.style.display =\n",
              "          google.colab.kernel.accessAllowed ? 'block' : 'none';\n",
              "\n",
              "        async function convertToInteractive(key) {\n",
              "          const element = document.querySelector('#df-4b65fb38-b31c-4562-9920-3d331956f05b');\n",
              "          const dataTable =\n",
              "            await google.colab.kernel.invokeFunction('convertToInteractive',\n",
              "                                                     [key], {});\n",
              "          if (!dataTable) return;\n",
              "\n",
              "          const docLinkHtml = 'Like what you see? Visit the ' +\n",
              "            '<a target=\"_blank\" href=https://colab.research.google.com/notebooks/data_table.ipynb>data table notebook</a>'\n",
              "            + ' to learn more about interactive tables.';\n",
              "          element.innerHTML = '';\n",
              "          dataTable['output_type'] = 'display_data';\n",
              "          await google.colab.output.renderOutput(dataTable, element);\n",
              "          const docLink = document.createElement('div');\n",
              "          docLink.innerHTML = docLinkHtml;\n",
              "          element.appendChild(docLink);\n",
              "        }\n",
              "      </script>\n",
              "    </div>\n",
              "  </div>\n",
              "  "
            ],
            "text/plain": [
              "    sl No name              college    hsc  SSLC  arrears  cmark\n",
              "0     1.0   A1                 IITM  89.90  92.6      0.0   95.0\n",
              "1     2.0   A2      ANNA UNIVERSITY  76.80  77.9      NaN   89.0\n",
              "2     3.0   A3      ANNA UNIVERSITY  88.39  85.6      6.0   99.0\n",
              "3     4.0   A4  ANAMALAI UNIVERSITY  92.50  94.6      1.0   76.0\n",
              "4     5.0   A5                  NaN  79.30  65.0      2.0   89.0\n",
              "5     6.0   A6                  SRM    NaN  88.1      0.0   89.6\n",
              "6     7.0   A7             SAVEETHA  91.80   NaN      7.0   78.3\n",
              "7     8.0   A8                  NaN  99.80  65.8      6.0   77.5\n",
              "8     NaN  NaN                  NaN    NaN   NaN      NaN    NaN\n",
              "9     9.0   A9  ANAMALAI UNIVERSITY  98.70  91.0      2.0   76.0\n",
              "10   10.0   AD               fogjof  56.00   9.0     78.0    2.0\n",
              "11   11.0  A10                 IITM  94.00  77.6      1.0   75.0\n",
              "12   12.0  A11                 IITK  88.20  75.9      2.0   72.0\n",
              "13   13.0  A12                  NaN  78.90  84.9      3.0   83.0\n",
              "14   14.0  A13                  SRM  86.90  97.0      4.0   92.0"
            ]
          },
          "metadata": {},
          "execution_count": 18
        }
      ]
    },
    {
      "cell_type": "code",
      "source": [
        "c.duplicated()#it will show the duplicate row c.duplicated(keep='last') it considers last value is original one and before value as duplicate"
      ],
      "metadata": {
        "colab": {
          "base_uri": "https://localhost:8080/"
        },
        "id": "HqHcYkxsVQBu",
        "outputId": "91dd34f6-efe5-4670-da64-40c0669ef466"
      },
      "execution_count": null,
      "outputs": [
        {
          "output_type": "execute_result",
          "data": {
            "text/plain": [
              "0     False\n",
              "1     False\n",
              "2     False\n",
              "3     False\n",
              "4     False\n",
              "5     False\n",
              "6     False\n",
              "7     False\n",
              "8      True\n",
              "9     False\n",
              "10    False\n",
              "11    False\n",
              "12    False\n",
              "13    False\n",
              "14    False\n",
              "dtype: bool"
            ]
          },
          "metadata": {},
          "execution_count": 21
        }
      ]
    },
    {
      "cell_type": "code",
      "source": [
        "c.duplicated(keep=False)"
      ],
      "metadata": {
        "colab": {
          "base_uri": "https://localhost:8080/"
        },
        "id": "Eyi7WSYbZ8dk",
        "outputId": "29e5e8c2-38d6-4a1a-fc38-3e0c858c4b12"
      },
      "execution_count": null,
      "outputs": [
        {
          "output_type": "execute_result",
          "data": {
            "text/plain": [
              "0     False\n",
              "1     False\n",
              "2     False\n",
              "3     False\n",
              "4     False\n",
              "5     False\n",
              "6     False\n",
              "7      True\n",
              "8      True\n",
              "9     False\n",
              "10    False\n",
              "11    False\n",
              "12    False\n",
              "13    False\n",
              "14    False\n",
              "dtype: bool"
            ]
          },
          "metadata": {},
          "execution_count": 22
        }
      ]
    },
    {
      "cell_type": "code",
      "source": [
        "c"
      ],
      "metadata": {
        "colab": {
          "base_uri": "https://localhost:8080/",
          "height": 520
        },
        "id": "AQ30dJizZ8h8",
        "outputId": "35d24850-9d80-4746-81d0-22e42679b63a"
      },
      "execution_count": null,
      "outputs": [
        {
          "output_type": "execute_result",
          "data": {
            "text/html": [
              "\n",
              "  <div id=\"df-9a98868a-5a11-4ee6-bb52-e2e3a7c7caf0\">\n",
              "    <div class=\"colab-df-container\">\n",
              "      <div>\n",
              "<style scoped>\n",
              "    .dataframe tbody tr th:only-of-type {\n",
              "        vertical-align: middle;\n",
              "    }\n",
              "\n",
              "    .dataframe tbody tr th {\n",
              "        vertical-align: top;\n",
              "    }\n",
              "\n",
              "    .dataframe thead th {\n",
              "        text-align: right;\n",
              "    }\n",
              "</style>\n",
              "<table border=\"1\" class=\"dataframe\">\n",
              "  <thead>\n",
              "    <tr style=\"text-align: right;\">\n",
              "      <th></th>\n",
              "      <th>sl No</th>\n",
              "      <th>name</th>\n",
              "      <th>college</th>\n",
              "      <th>hsc</th>\n",
              "      <th>SSLC</th>\n",
              "      <th>arrears</th>\n",
              "      <th>cmark</th>\n",
              "    </tr>\n",
              "  </thead>\n",
              "  <tbody>\n",
              "    <tr>\n",
              "      <th>0</th>\n",
              "      <td>1.0</td>\n",
              "      <td>A1</td>\n",
              "      <td>IITM</td>\n",
              "      <td>89.90</td>\n",
              "      <td>92.6</td>\n",
              "      <td>0.0</td>\n",
              "      <td>95.0</td>\n",
              "    </tr>\n",
              "    <tr>\n",
              "      <th>1</th>\n",
              "      <td>2.0</td>\n",
              "      <td>A2</td>\n",
              "      <td>ANNA UNIVERSITY</td>\n",
              "      <td>76.80</td>\n",
              "      <td>77.9</td>\n",
              "      <td>0.0</td>\n",
              "      <td>89.0</td>\n",
              "    </tr>\n",
              "    <tr>\n",
              "      <th>2</th>\n",
              "      <td>3.0</td>\n",
              "      <td>A3</td>\n",
              "      <td>ANNA UNIVERSITY</td>\n",
              "      <td>88.39</td>\n",
              "      <td>85.6</td>\n",
              "      <td>6.0</td>\n",
              "      <td>99.0</td>\n",
              "    </tr>\n",
              "    <tr>\n",
              "      <th>3</th>\n",
              "      <td>4.0</td>\n",
              "      <td>A4</td>\n",
              "      <td>ANAMALAI UNIVERSITY</td>\n",
              "      <td>92.50</td>\n",
              "      <td>94.6</td>\n",
              "      <td>1.0</td>\n",
              "      <td>76.0</td>\n",
              "    </tr>\n",
              "    <tr>\n",
              "      <th>4</th>\n",
              "      <td>5.0</td>\n",
              "      <td>A5</td>\n",
              "      <td>ANAMALAI UNIVERSITY</td>\n",
              "      <td>79.30</td>\n",
              "      <td>65.0</td>\n",
              "      <td>2.0</td>\n",
              "      <td>89.0</td>\n",
              "    </tr>\n",
              "    <tr>\n",
              "      <th>5</th>\n",
              "      <td>6.0</td>\n",
              "      <td>A6</td>\n",
              "      <td>SRM</td>\n",
              "      <td>79.30</td>\n",
              "      <td>88.1</td>\n",
              "      <td>0.0</td>\n",
              "      <td>89.6</td>\n",
              "    </tr>\n",
              "    <tr>\n",
              "      <th>6</th>\n",
              "      <td>7.0</td>\n",
              "      <td>A7</td>\n",
              "      <td>SAVEETHA</td>\n",
              "      <td>91.80</td>\n",
              "      <td>88.1</td>\n",
              "      <td>7.0</td>\n",
              "      <td>78.3</td>\n",
              "    </tr>\n",
              "    <tr>\n",
              "      <th>7</th>\n",
              "      <td>8.0</td>\n",
              "      <td>A8</td>\n",
              "      <td>SAVEETHA</td>\n",
              "      <td>99.80</td>\n",
              "      <td>65.8</td>\n",
              "      <td>6.0</td>\n",
              "      <td>77.5</td>\n",
              "    </tr>\n",
              "    <tr>\n",
              "      <th>8</th>\n",
              "      <td>8.0</td>\n",
              "      <td>A8</td>\n",
              "      <td>SAVEETHA</td>\n",
              "      <td>99.80</td>\n",
              "      <td>65.8</td>\n",
              "      <td>6.0</td>\n",
              "      <td>77.5</td>\n",
              "    </tr>\n",
              "    <tr>\n",
              "      <th>9</th>\n",
              "      <td>9.0</td>\n",
              "      <td>A9</td>\n",
              "      <td>ANAMALAI UNIVERSITY</td>\n",
              "      <td>98.70</td>\n",
              "      <td>91.0</td>\n",
              "      <td>2.0</td>\n",
              "      <td>76.0</td>\n",
              "    </tr>\n",
              "    <tr>\n",
              "      <th>10</th>\n",
              "      <td>10.0</td>\n",
              "      <td>AD</td>\n",
              "      <td>fogjof</td>\n",
              "      <td>56.00</td>\n",
              "      <td>9.0</td>\n",
              "      <td>78.0</td>\n",
              "      <td>2.0</td>\n",
              "    </tr>\n",
              "    <tr>\n",
              "      <th>11</th>\n",
              "      <td>11.0</td>\n",
              "      <td>A10</td>\n",
              "      <td>IITM</td>\n",
              "      <td>94.00</td>\n",
              "      <td>77.6</td>\n",
              "      <td>1.0</td>\n",
              "      <td>75.0</td>\n",
              "    </tr>\n",
              "    <tr>\n",
              "      <th>12</th>\n",
              "      <td>12.0</td>\n",
              "      <td>A11</td>\n",
              "      <td>IITK</td>\n",
              "      <td>88.20</td>\n",
              "      <td>75.9</td>\n",
              "      <td>2.0</td>\n",
              "      <td>72.0</td>\n",
              "    </tr>\n",
              "    <tr>\n",
              "      <th>13</th>\n",
              "      <td>13.0</td>\n",
              "      <td>A12</td>\n",
              "      <td>IITK</td>\n",
              "      <td>78.90</td>\n",
              "      <td>84.9</td>\n",
              "      <td>3.0</td>\n",
              "      <td>83.0</td>\n",
              "    </tr>\n",
              "    <tr>\n",
              "      <th>14</th>\n",
              "      <td>14.0</td>\n",
              "      <td>A13</td>\n",
              "      <td>SRM</td>\n",
              "      <td>86.90</td>\n",
              "      <td>97.0</td>\n",
              "      <td>4.0</td>\n",
              "      <td>92.0</td>\n",
              "    </tr>\n",
              "  </tbody>\n",
              "</table>\n",
              "</div>\n",
              "      <button class=\"colab-df-convert\" onclick=\"convertToInteractive('df-9a98868a-5a11-4ee6-bb52-e2e3a7c7caf0')\"\n",
              "              title=\"Convert this dataframe to an interactive table.\"\n",
              "              style=\"display:none;\">\n",
              "        \n",
              "  <svg xmlns=\"http://www.w3.org/2000/svg\" height=\"24px\"viewBox=\"0 0 24 24\"\n",
              "       width=\"24px\">\n",
              "    <path d=\"M0 0h24v24H0V0z\" fill=\"none\"/>\n",
              "    <path d=\"M18.56 5.44l.94 2.06.94-2.06 2.06-.94-2.06-.94-.94-2.06-.94 2.06-2.06.94zm-11 1L8.5 8.5l.94-2.06 2.06-.94-2.06-.94L8.5 2.5l-.94 2.06-2.06.94zm10 10l.94 2.06.94-2.06 2.06-.94-2.06-.94-.94-2.06-.94 2.06-2.06.94z\"/><path d=\"M17.41 7.96l-1.37-1.37c-.4-.4-.92-.59-1.43-.59-.52 0-1.04.2-1.43.59L10.3 9.45l-7.72 7.72c-.78.78-.78 2.05 0 2.83L4 21.41c.39.39.9.59 1.41.59.51 0 1.02-.2 1.41-.59l7.78-7.78 2.81-2.81c.8-.78.8-2.07 0-2.86zM5.41 20L4 18.59l7.72-7.72 1.47 1.35L5.41 20z\"/>\n",
              "  </svg>\n",
              "      </button>\n",
              "      \n",
              "  <style>\n",
              "    .colab-df-container {\n",
              "      display:flex;\n",
              "      flex-wrap:wrap;\n",
              "      gap: 12px;\n",
              "    }\n",
              "\n",
              "    .colab-df-convert {\n",
              "      background-color: #E8F0FE;\n",
              "      border: none;\n",
              "      border-radius: 50%;\n",
              "      cursor: pointer;\n",
              "      display: none;\n",
              "      fill: #1967D2;\n",
              "      height: 32px;\n",
              "      padding: 0 0 0 0;\n",
              "      width: 32px;\n",
              "    }\n",
              "\n",
              "    .colab-df-convert:hover {\n",
              "      background-color: #E2EBFA;\n",
              "      box-shadow: 0px 1px 2px rgba(60, 64, 67, 0.3), 0px 1px 3px 1px rgba(60, 64, 67, 0.15);\n",
              "      fill: #174EA6;\n",
              "    }\n",
              "\n",
              "    [theme=dark] .colab-df-convert {\n",
              "      background-color: #3B4455;\n",
              "      fill: #D2E3FC;\n",
              "    }\n",
              "\n",
              "    [theme=dark] .colab-df-convert:hover {\n",
              "      background-color: #434B5C;\n",
              "      box-shadow: 0px 1px 3px 1px rgba(0, 0, 0, 0.15);\n",
              "      filter: drop-shadow(0px 1px 2px rgba(0, 0, 0, 0.3));\n",
              "      fill: #FFFFFF;\n",
              "    }\n",
              "  </style>\n",
              "\n",
              "      <script>\n",
              "        const buttonEl =\n",
              "          document.querySelector('#df-9a98868a-5a11-4ee6-bb52-e2e3a7c7caf0 button.colab-df-convert');\n",
              "        buttonEl.style.display =\n",
              "          google.colab.kernel.accessAllowed ? 'block' : 'none';\n",
              "\n",
              "        async function convertToInteractive(key) {\n",
              "          const element = document.querySelector('#df-9a98868a-5a11-4ee6-bb52-e2e3a7c7caf0');\n",
              "          const dataTable =\n",
              "            await google.colab.kernel.invokeFunction('convertToInteractive',\n",
              "                                                     [key], {});\n",
              "          if (!dataTable) return;\n",
              "\n",
              "          const docLinkHtml = 'Like what you see? Visit the ' +\n",
              "            '<a target=\"_blank\" href=https://colab.research.google.com/notebooks/data_table.ipynb>data table notebook</a>'\n",
              "            + ' to learn more about interactive tables.';\n",
              "          element.innerHTML = '';\n",
              "          dataTable['output_type'] = 'display_data';\n",
              "          await google.colab.output.renderOutput(dataTable, element);\n",
              "          const docLink = document.createElement('div');\n",
              "          docLink.innerHTML = docLinkHtml;\n",
              "          element.appendChild(docLink);\n",
              "        }\n",
              "      </script>\n",
              "    </div>\n",
              "  </div>\n",
              "  "
            ],
            "text/plain": [
              "    sl No name              college    hsc  SSLC  arrears  cmark\n",
              "0     1.0   A1                 IITM  89.90  92.6      0.0   95.0\n",
              "1     2.0   A2      ANNA UNIVERSITY  76.80  77.9      0.0   89.0\n",
              "2     3.0   A3      ANNA UNIVERSITY  88.39  85.6      6.0   99.0\n",
              "3     4.0   A4  ANAMALAI UNIVERSITY  92.50  94.6      1.0   76.0\n",
              "4     5.0   A5  ANAMALAI UNIVERSITY  79.30  65.0      2.0   89.0\n",
              "5     6.0   A6                  SRM  79.30  88.1      0.0   89.6\n",
              "6     7.0   A7             SAVEETHA  91.80  88.1      7.0   78.3\n",
              "7     8.0   A8             SAVEETHA  99.80  65.8      6.0   77.5\n",
              "8     8.0   A8             SAVEETHA  99.80  65.8      6.0   77.5\n",
              "9     9.0   A9  ANAMALAI UNIVERSITY  98.70  91.0      2.0   76.0\n",
              "10   10.0   AD               fogjof  56.00   9.0     78.0    2.0\n",
              "11   11.0  A10                 IITM  94.00  77.6      1.0   75.0\n",
              "12   12.0  A11                 IITK  88.20  75.9      2.0   72.0\n",
              "13   13.0  A12                 IITK  78.90  84.9      3.0   83.0\n",
              "14   14.0  A13                  SRM  86.90  97.0      4.0   92.0"
            ]
          },
          "metadata": {},
          "execution_count": 24
        }
      ]
    },
    {
      "cell_type": "code",
      "source": [
        "c.drop_duplicates()"
      ],
      "metadata": {
        "colab": {
          "base_uri": "https://localhost:8080/",
          "height": 488
        },
        "id": "Pdq_MWmuZ8lV",
        "outputId": "46f7cc83-310b-48ef-bef5-22b7a586b09c"
      },
      "execution_count": null,
      "outputs": [
        {
          "output_type": "execute_result",
          "data": {
            "text/html": [
              "\n",
              "  <div id=\"df-eb26a1d0-51b1-4e42-bc34-6c63ffa2de90\">\n",
              "    <div class=\"colab-df-container\">\n",
              "      <div>\n",
              "<style scoped>\n",
              "    .dataframe tbody tr th:only-of-type {\n",
              "        vertical-align: middle;\n",
              "    }\n",
              "\n",
              "    .dataframe tbody tr th {\n",
              "        vertical-align: top;\n",
              "    }\n",
              "\n",
              "    .dataframe thead th {\n",
              "        text-align: right;\n",
              "    }\n",
              "</style>\n",
              "<table border=\"1\" class=\"dataframe\">\n",
              "  <thead>\n",
              "    <tr style=\"text-align: right;\">\n",
              "      <th></th>\n",
              "      <th>sl No</th>\n",
              "      <th>name</th>\n",
              "      <th>college</th>\n",
              "      <th>hsc</th>\n",
              "      <th>SSLC</th>\n",
              "      <th>arrears</th>\n",
              "      <th>cmark</th>\n",
              "    </tr>\n",
              "  </thead>\n",
              "  <tbody>\n",
              "    <tr>\n",
              "      <th>0</th>\n",
              "      <td>1.0</td>\n",
              "      <td>A1</td>\n",
              "      <td>IITM</td>\n",
              "      <td>89.90</td>\n",
              "      <td>92.6</td>\n",
              "      <td>0.0</td>\n",
              "      <td>95.0</td>\n",
              "    </tr>\n",
              "    <tr>\n",
              "      <th>1</th>\n",
              "      <td>2.0</td>\n",
              "      <td>A2</td>\n",
              "      <td>ANNA UNIVERSITY</td>\n",
              "      <td>76.80</td>\n",
              "      <td>77.9</td>\n",
              "      <td>0.0</td>\n",
              "      <td>89.0</td>\n",
              "    </tr>\n",
              "    <tr>\n",
              "      <th>2</th>\n",
              "      <td>3.0</td>\n",
              "      <td>A3</td>\n",
              "      <td>ANNA UNIVERSITY</td>\n",
              "      <td>88.39</td>\n",
              "      <td>85.6</td>\n",
              "      <td>6.0</td>\n",
              "      <td>99.0</td>\n",
              "    </tr>\n",
              "    <tr>\n",
              "      <th>3</th>\n",
              "      <td>4.0</td>\n",
              "      <td>A4</td>\n",
              "      <td>ANAMALAI UNIVERSITY</td>\n",
              "      <td>92.50</td>\n",
              "      <td>94.6</td>\n",
              "      <td>1.0</td>\n",
              "      <td>76.0</td>\n",
              "    </tr>\n",
              "    <tr>\n",
              "      <th>4</th>\n",
              "      <td>5.0</td>\n",
              "      <td>A5</td>\n",
              "      <td>ANAMALAI UNIVERSITY</td>\n",
              "      <td>79.30</td>\n",
              "      <td>65.0</td>\n",
              "      <td>2.0</td>\n",
              "      <td>89.0</td>\n",
              "    </tr>\n",
              "    <tr>\n",
              "      <th>5</th>\n",
              "      <td>6.0</td>\n",
              "      <td>A6</td>\n",
              "      <td>SRM</td>\n",
              "      <td>79.30</td>\n",
              "      <td>88.1</td>\n",
              "      <td>0.0</td>\n",
              "      <td>89.6</td>\n",
              "    </tr>\n",
              "    <tr>\n",
              "      <th>6</th>\n",
              "      <td>7.0</td>\n",
              "      <td>A7</td>\n",
              "      <td>SAVEETHA</td>\n",
              "      <td>91.80</td>\n",
              "      <td>88.1</td>\n",
              "      <td>7.0</td>\n",
              "      <td>78.3</td>\n",
              "    </tr>\n",
              "    <tr>\n",
              "      <th>7</th>\n",
              "      <td>8.0</td>\n",
              "      <td>A8</td>\n",
              "      <td>SAVEETHA</td>\n",
              "      <td>99.80</td>\n",
              "      <td>65.8</td>\n",
              "      <td>6.0</td>\n",
              "      <td>77.5</td>\n",
              "    </tr>\n",
              "    <tr>\n",
              "      <th>9</th>\n",
              "      <td>9.0</td>\n",
              "      <td>A9</td>\n",
              "      <td>ANAMALAI UNIVERSITY</td>\n",
              "      <td>98.70</td>\n",
              "      <td>91.0</td>\n",
              "      <td>2.0</td>\n",
              "      <td>76.0</td>\n",
              "    </tr>\n",
              "    <tr>\n",
              "      <th>10</th>\n",
              "      <td>10.0</td>\n",
              "      <td>AD</td>\n",
              "      <td>fogjof</td>\n",
              "      <td>56.00</td>\n",
              "      <td>9.0</td>\n",
              "      <td>78.0</td>\n",
              "      <td>2.0</td>\n",
              "    </tr>\n",
              "    <tr>\n",
              "      <th>11</th>\n",
              "      <td>11.0</td>\n",
              "      <td>A10</td>\n",
              "      <td>IITM</td>\n",
              "      <td>94.00</td>\n",
              "      <td>77.6</td>\n",
              "      <td>1.0</td>\n",
              "      <td>75.0</td>\n",
              "    </tr>\n",
              "    <tr>\n",
              "      <th>12</th>\n",
              "      <td>12.0</td>\n",
              "      <td>A11</td>\n",
              "      <td>IITK</td>\n",
              "      <td>88.20</td>\n",
              "      <td>75.9</td>\n",
              "      <td>2.0</td>\n",
              "      <td>72.0</td>\n",
              "    </tr>\n",
              "    <tr>\n",
              "      <th>13</th>\n",
              "      <td>13.0</td>\n",
              "      <td>A12</td>\n",
              "      <td>IITK</td>\n",
              "      <td>78.90</td>\n",
              "      <td>84.9</td>\n",
              "      <td>3.0</td>\n",
              "      <td>83.0</td>\n",
              "    </tr>\n",
              "    <tr>\n",
              "      <th>14</th>\n",
              "      <td>14.0</td>\n",
              "      <td>A13</td>\n",
              "      <td>SRM</td>\n",
              "      <td>86.90</td>\n",
              "      <td>97.0</td>\n",
              "      <td>4.0</td>\n",
              "      <td>92.0</td>\n",
              "    </tr>\n",
              "  </tbody>\n",
              "</table>\n",
              "</div>\n",
              "      <button class=\"colab-df-convert\" onclick=\"convertToInteractive('df-eb26a1d0-51b1-4e42-bc34-6c63ffa2de90')\"\n",
              "              title=\"Convert this dataframe to an interactive table.\"\n",
              "              style=\"display:none;\">\n",
              "        \n",
              "  <svg xmlns=\"http://www.w3.org/2000/svg\" height=\"24px\"viewBox=\"0 0 24 24\"\n",
              "       width=\"24px\">\n",
              "    <path d=\"M0 0h24v24H0V0z\" fill=\"none\"/>\n",
              "    <path d=\"M18.56 5.44l.94 2.06.94-2.06 2.06-.94-2.06-.94-.94-2.06-.94 2.06-2.06.94zm-11 1L8.5 8.5l.94-2.06 2.06-.94-2.06-.94L8.5 2.5l-.94 2.06-2.06.94zm10 10l.94 2.06.94-2.06 2.06-.94-2.06-.94-.94-2.06-.94 2.06-2.06.94z\"/><path d=\"M17.41 7.96l-1.37-1.37c-.4-.4-.92-.59-1.43-.59-.52 0-1.04.2-1.43.59L10.3 9.45l-7.72 7.72c-.78.78-.78 2.05 0 2.83L4 21.41c.39.39.9.59 1.41.59.51 0 1.02-.2 1.41-.59l7.78-7.78 2.81-2.81c.8-.78.8-2.07 0-2.86zM5.41 20L4 18.59l7.72-7.72 1.47 1.35L5.41 20z\"/>\n",
              "  </svg>\n",
              "      </button>\n",
              "      \n",
              "  <style>\n",
              "    .colab-df-container {\n",
              "      display:flex;\n",
              "      flex-wrap:wrap;\n",
              "      gap: 12px;\n",
              "    }\n",
              "\n",
              "    .colab-df-convert {\n",
              "      background-color: #E8F0FE;\n",
              "      border: none;\n",
              "      border-radius: 50%;\n",
              "      cursor: pointer;\n",
              "      display: none;\n",
              "      fill: #1967D2;\n",
              "      height: 32px;\n",
              "      padding: 0 0 0 0;\n",
              "      width: 32px;\n",
              "    }\n",
              "\n",
              "    .colab-df-convert:hover {\n",
              "      background-color: #E2EBFA;\n",
              "      box-shadow: 0px 1px 2px rgba(60, 64, 67, 0.3), 0px 1px 3px 1px rgba(60, 64, 67, 0.15);\n",
              "      fill: #174EA6;\n",
              "    }\n",
              "\n",
              "    [theme=dark] .colab-df-convert {\n",
              "      background-color: #3B4455;\n",
              "      fill: #D2E3FC;\n",
              "    }\n",
              "\n",
              "    [theme=dark] .colab-df-convert:hover {\n",
              "      background-color: #434B5C;\n",
              "      box-shadow: 0px 1px 3px 1px rgba(0, 0, 0, 0.15);\n",
              "      filter: drop-shadow(0px 1px 2px rgba(0, 0, 0, 0.3));\n",
              "      fill: #FFFFFF;\n",
              "    }\n",
              "  </style>\n",
              "\n",
              "      <script>\n",
              "        const buttonEl =\n",
              "          document.querySelector('#df-eb26a1d0-51b1-4e42-bc34-6c63ffa2de90 button.colab-df-convert');\n",
              "        buttonEl.style.display =\n",
              "          google.colab.kernel.accessAllowed ? 'block' : 'none';\n",
              "\n",
              "        async function convertToInteractive(key) {\n",
              "          const element = document.querySelector('#df-eb26a1d0-51b1-4e42-bc34-6c63ffa2de90');\n",
              "          const dataTable =\n",
              "            await google.colab.kernel.invokeFunction('convertToInteractive',\n",
              "                                                     [key], {});\n",
              "          if (!dataTable) return;\n",
              "\n",
              "          const docLinkHtml = 'Like what you see? Visit the ' +\n",
              "            '<a target=\"_blank\" href=https://colab.research.google.com/notebooks/data_table.ipynb>data table notebook</a>'\n",
              "            + ' to learn more about interactive tables.';\n",
              "          element.innerHTML = '';\n",
              "          dataTable['output_type'] = 'display_data';\n",
              "          await google.colab.output.renderOutput(dataTable, element);\n",
              "          const docLink = document.createElement('div');\n",
              "          docLink.innerHTML = docLinkHtml;\n",
              "          element.appendChild(docLink);\n",
              "        }\n",
              "      </script>\n",
              "    </div>\n",
              "  </div>\n",
              "  "
            ],
            "text/plain": [
              "    sl No name              college    hsc  SSLC  arrears  cmark\n",
              "0     1.0   A1                 IITM  89.90  92.6      0.0   95.0\n",
              "1     2.0   A2      ANNA UNIVERSITY  76.80  77.9      0.0   89.0\n",
              "2     3.0   A3      ANNA UNIVERSITY  88.39  85.6      6.0   99.0\n",
              "3     4.0   A4  ANAMALAI UNIVERSITY  92.50  94.6      1.0   76.0\n",
              "4     5.0   A5  ANAMALAI UNIVERSITY  79.30  65.0      2.0   89.0\n",
              "5     6.0   A6                  SRM  79.30  88.1      0.0   89.6\n",
              "6     7.0   A7             SAVEETHA  91.80  88.1      7.0   78.3\n",
              "7     8.0   A8             SAVEETHA  99.80  65.8      6.0   77.5\n",
              "9     9.0   A9  ANAMALAI UNIVERSITY  98.70  91.0      2.0   76.0\n",
              "10   10.0   AD               fogjof  56.00   9.0     78.0    2.0\n",
              "11   11.0  A10                 IITM  94.00  77.6      1.0   75.0\n",
              "12   12.0  A11                 IITK  88.20  75.9      2.0   72.0\n",
              "13   13.0  A12                 IITK  78.90  84.9      3.0   83.0\n",
              "14   14.0  A13                  SRM  86.90  97.0      4.0   92.0"
            ]
          },
          "metadata": {},
          "execution_count": 25
        }
      ]
    },
    {
      "cell_type": "code",
      "source": [
        "b.drop_duplicates(keep=False)#IT will remove duplicate values"
      ],
      "metadata": {
        "colab": {
          "base_uri": "https://localhost:8080/",
          "height": 520
        },
        "id": "pWQXTczeZ8pR",
        "outputId": "ddb6fae4-050e-4e19-cc04-42862d7b815f"
      },
      "execution_count": null,
      "outputs": [
        {
          "output_type": "execute_result",
          "data": {
            "text/html": [
              "\n",
              "  <div id=\"df-300ed74a-09ef-457b-bb4a-0918fcecd68b\">\n",
              "    <div class=\"colab-df-container\">\n",
              "      <div>\n",
              "<style scoped>\n",
              "    .dataframe tbody tr th:only-of-type {\n",
              "        vertical-align: middle;\n",
              "    }\n",
              "\n",
              "    .dataframe tbody tr th {\n",
              "        vertical-align: top;\n",
              "    }\n",
              "\n",
              "    .dataframe thead th {\n",
              "        text-align: right;\n",
              "    }\n",
              "</style>\n",
              "<table border=\"1\" class=\"dataframe\">\n",
              "  <thead>\n",
              "    <tr style=\"text-align: right;\">\n",
              "      <th></th>\n",
              "      <th>sl No</th>\n",
              "      <th>name</th>\n",
              "      <th>college</th>\n",
              "      <th>hsc</th>\n",
              "      <th>SSLC</th>\n",
              "      <th>arrears</th>\n",
              "      <th>cmark</th>\n",
              "    </tr>\n",
              "  </thead>\n",
              "  <tbody>\n",
              "    <tr>\n",
              "      <th>0</th>\n",
              "      <td>1.0</td>\n",
              "      <td>A1</td>\n",
              "      <td>IITM</td>\n",
              "      <td>89.90</td>\n",
              "      <td>92.6</td>\n",
              "      <td>0.0</td>\n",
              "      <td>95.0</td>\n",
              "    </tr>\n",
              "    <tr>\n",
              "      <th>1</th>\n",
              "      <td>2.0</td>\n",
              "      <td>A2</td>\n",
              "      <td>ANNA UNIVERSITY</td>\n",
              "      <td>76.80</td>\n",
              "      <td>77.9</td>\n",
              "      <td>NaN</td>\n",
              "      <td>89.0</td>\n",
              "    </tr>\n",
              "    <tr>\n",
              "      <th>2</th>\n",
              "      <td>3.0</td>\n",
              "      <td>A3</td>\n",
              "      <td>ANNA UNIVERSITY</td>\n",
              "      <td>88.39</td>\n",
              "      <td>85.6</td>\n",
              "      <td>6.0</td>\n",
              "      <td>99.0</td>\n",
              "    </tr>\n",
              "    <tr>\n",
              "      <th>3</th>\n",
              "      <td>4.0</td>\n",
              "      <td>A4</td>\n",
              "      <td>ANAMALAI UNIVERSITY</td>\n",
              "      <td>92.50</td>\n",
              "      <td>94.6</td>\n",
              "      <td>1.0</td>\n",
              "      <td>76.0</td>\n",
              "    </tr>\n",
              "    <tr>\n",
              "      <th>4</th>\n",
              "      <td>5.0</td>\n",
              "      <td>A5</td>\n",
              "      <td>NaN</td>\n",
              "      <td>79.30</td>\n",
              "      <td>65.0</td>\n",
              "      <td>2.0</td>\n",
              "      <td>89.0</td>\n",
              "    </tr>\n",
              "    <tr>\n",
              "      <th>5</th>\n",
              "      <td>6.0</td>\n",
              "      <td>A6</td>\n",
              "      <td>SRM</td>\n",
              "      <td>NaN</td>\n",
              "      <td>88.1</td>\n",
              "      <td>0.0</td>\n",
              "      <td>89.6</td>\n",
              "    </tr>\n",
              "    <tr>\n",
              "      <th>6</th>\n",
              "      <td>7.0</td>\n",
              "      <td>A7</td>\n",
              "      <td>SAVEETHA</td>\n",
              "      <td>91.80</td>\n",
              "      <td>NaN</td>\n",
              "      <td>7.0</td>\n",
              "      <td>78.3</td>\n",
              "    </tr>\n",
              "    <tr>\n",
              "      <th>7</th>\n",
              "      <td>8.0</td>\n",
              "      <td>A8</td>\n",
              "      <td>NaN</td>\n",
              "      <td>99.80</td>\n",
              "      <td>65.8</td>\n",
              "      <td>6.0</td>\n",
              "      <td>77.5</td>\n",
              "    </tr>\n",
              "    <tr>\n",
              "      <th>8</th>\n",
              "      <td>NaN</td>\n",
              "      <td>NaN</td>\n",
              "      <td>NaN</td>\n",
              "      <td>NaN</td>\n",
              "      <td>NaN</td>\n",
              "      <td>NaN</td>\n",
              "      <td>NaN</td>\n",
              "    </tr>\n",
              "    <tr>\n",
              "      <th>9</th>\n",
              "      <td>9.0</td>\n",
              "      <td>A9</td>\n",
              "      <td>ANAMALAI UNIVERSITY</td>\n",
              "      <td>98.70</td>\n",
              "      <td>91.0</td>\n",
              "      <td>2.0</td>\n",
              "      <td>76.0</td>\n",
              "    </tr>\n",
              "    <tr>\n",
              "      <th>10</th>\n",
              "      <td>10.0</td>\n",
              "      <td>AD</td>\n",
              "      <td>fogjof</td>\n",
              "      <td>56.00</td>\n",
              "      <td>9.0</td>\n",
              "      <td>78.0</td>\n",
              "      <td>2.0</td>\n",
              "    </tr>\n",
              "    <tr>\n",
              "      <th>11</th>\n",
              "      <td>11.0</td>\n",
              "      <td>A10</td>\n",
              "      <td>IITM</td>\n",
              "      <td>94.00</td>\n",
              "      <td>77.6</td>\n",
              "      <td>1.0</td>\n",
              "      <td>75.0</td>\n",
              "    </tr>\n",
              "    <tr>\n",
              "      <th>12</th>\n",
              "      <td>12.0</td>\n",
              "      <td>A11</td>\n",
              "      <td>IITK</td>\n",
              "      <td>88.20</td>\n",
              "      <td>75.9</td>\n",
              "      <td>2.0</td>\n",
              "      <td>72.0</td>\n",
              "    </tr>\n",
              "    <tr>\n",
              "      <th>13</th>\n",
              "      <td>13.0</td>\n",
              "      <td>A12</td>\n",
              "      <td>NaN</td>\n",
              "      <td>78.90</td>\n",
              "      <td>84.9</td>\n",
              "      <td>3.0</td>\n",
              "      <td>83.0</td>\n",
              "    </tr>\n",
              "    <tr>\n",
              "      <th>14</th>\n",
              "      <td>14.0</td>\n",
              "      <td>A13</td>\n",
              "      <td>SRM</td>\n",
              "      <td>86.90</td>\n",
              "      <td>97.0</td>\n",
              "      <td>4.0</td>\n",
              "      <td>92.0</td>\n",
              "    </tr>\n",
              "  </tbody>\n",
              "</table>\n",
              "</div>\n",
              "      <button class=\"colab-df-convert\" onclick=\"convertToInteractive('df-300ed74a-09ef-457b-bb4a-0918fcecd68b')\"\n",
              "              title=\"Convert this dataframe to an interactive table.\"\n",
              "              style=\"display:none;\">\n",
              "        \n",
              "  <svg xmlns=\"http://www.w3.org/2000/svg\" height=\"24px\"viewBox=\"0 0 24 24\"\n",
              "       width=\"24px\">\n",
              "    <path d=\"M0 0h24v24H0V0z\" fill=\"none\"/>\n",
              "    <path d=\"M18.56 5.44l.94 2.06.94-2.06 2.06-.94-2.06-.94-.94-2.06-.94 2.06-2.06.94zm-11 1L8.5 8.5l.94-2.06 2.06-.94-2.06-.94L8.5 2.5l-.94 2.06-2.06.94zm10 10l.94 2.06.94-2.06 2.06-.94-2.06-.94-.94-2.06-.94 2.06-2.06.94z\"/><path d=\"M17.41 7.96l-1.37-1.37c-.4-.4-.92-.59-1.43-.59-.52 0-1.04.2-1.43.59L10.3 9.45l-7.72 7.72c-.78.78-.78 2.05 0 2.83L4 21.41c.39.39.9.59 1.41.59.51 0 1.02-.2 1.41-.59l7.78-7.78 2.81-2.81c.8-.78.8-2.07 0-2.86zM5.41 20L4 18.59l7.72-7.72 1.47 1.35L5.41 20z\"/>\n",
              "  </svg>\n",
              "      </button>\n",
              "      \n",
              "  <style>\n",
              "    .colab-df-container {\n",
              "      display:flex;\n",
              "      flex-wrap:wrap;\n",
              "      gap: 12px;\n",
              "    }\n",
              "\n",
              "    .colab-df-convert {\n",
              "      background-color: #E8F0FE;\n",
              "      border: none;\n",
              "      border-radius: 50%;\n",
              "      cursor: pointer;\n",
              "      display: none;\n",
              "      fill: #1967D2;\n",
              "      height: 32px;\n",
              "      padding: 0 0 0 0;\n",
              "      width: 32px;\n",
              "    }\n",
              "\n",
              "    .colab-df-convert:hover {\n",
              "      background-color: #E2EBFA;\n",
              "      box-shadow: 0px 1px 2px rgba(60, 64, 67, 0.3), 0px 1px 3px 1px rgba(60, 64, 67, 0.15);\n",
              "      fill: #174EA6;\n",
              "    }\n",
              "\n",
              "    [theme=dark] .colab-df-convert {\n",
              "      background-color: #3B4455;\n",
              "      fill: #D2E3FC;\n",
              "    }\n",
              "\n",
              "    [theme=dark] .colab-df-convert:hover {\n",
              "      background-color: #434B5C;\n",
              "      box-shadow: 0px 1px 3px 1px rgba(0, 0, 0, 0.15);\n",
              "      filter: drop-shadow(0px 1px 2px rgba(0, 0, 0, 0.3));\n",
              "      fill: #FFFFFF;\n",
              "    }\n",
              "  </style>\n",
              "\n",
              "      <script>\n",
              "        const buttonEl =\n",
              "          document.querySelector('#df-300ed74a-09ef-457b-bb4a-0918fcecd68b button.colab-df-convert');\n",
              "        buttonEl.style.display =\n",
              "          google.colab.kernel.accessAllowed ? 'block' : 'none';\n",
              "\n",
              "        async function convertToInteractive(key) {\n",
              "          const element = document.querySelector('#df-300ed74a-09ef-457b-bb4a-0918fcecd68b');\n",
              "          const dataTable =\n",
              "            await google.colab.kernel.invokeFunction('convertToInteractive',\n",
              "                                                     [key], {});\n",
              "          if (!dataTable) return;\n",
              "\n",
              "          const docLinkHtml = 'Like what you see? Visit the ' +\n",
              "            '<a target=\"_blank\" href=https://colab.research.google.com/notebooks/data_table.ipynb>data table notebook</a>'\n",
              "            + ' to learn more about interactive tables.';\n",
              "          element.innerHTML = '';\n",
              "          dataTable['output_type'] = 'display_data';\n",
              "          await google.colab.output.renderOutput(dataTable, element);\n",
              "          const docLink = document.createElement('div');\n",
              "          docLink.innerHTML = docLinkHtml;\n",
              "          element.appendChild(docLink);\n",
              "        }\n",
              "      </script>\n",
              "    </div>\n",
              "  </div>\n",
              "  "
            ],
            "text/plain": [
              "    sl No name              college    hsc  SSLC  arrears  cmark\n",
              "0     1.0   A1                 IITM  89.90  92.6      0.0   95.0\n",
              "1     2.0   A2      ANNA UNIVERSITY  76.80  77.9      NaN   89.0\n",
              "2     3.0   A3      ANNA UNIVERSITY  88.39  85.6      6.0   99.0\n",
              "3     4.0   A4  ANAMALAI UNIVERSITY  92.50  94.6      1.0   76.0\n",
              "4     5.0   A5                  NaN  79.30  65.0      2.0   89.0\n",
              "5     6.0   A6                  SRM    NaN  88.1      0.0   89.6\n",
              "6     7.0   A7             SAVEETHA  91.80   NaN      7.0   78.3\n",
              "7     8.0   A8                  NaN  99.80  65.8      6.0   77.5\n",
              "8     NaN  NaN                  NaN    NaN   NaN      NaN    NaN\n",
              "9     9.0   A9  ANAMALAI UNIVERSITY  98.70  91.0      2.0   76.0\n",
              "10   10.0   AD               fogjof  56.00   9.0     78.0    2.0\n",
              "11   11.0  A10                 IITM  94.00  77.6      1.0   75.0\n",
              "12   12.0  A11                 IITK  88.20  75.9      2.0   72.0\n",
              "13   13.0  A12                  NaN  78.90  84.9      3.0   83.0\n",
              "14   14.0  A13                  SRM  86.90  97.0      4.0   92.0"
            ]
          },
          "metadata": {},
          "execution_count": 30
        }
      ]
    },
    {
      "cell_type": "code",
      "source": [
        "b.drop_duplicates(subset=['college'],keep=False)"
      ],
      "metadata": {
        "colab": {
          "base_uri": "https://localhost:8080/",
          "height": 143
        },
        "id": "lLsZKXtsZ8ua",
        "outputId": "1c9d8862-b6f7-4f42-c18f-21d6f25124f3"
      },
      "execution_count": null,
      "outputs": [
        {
          "output_type": "execute_result",
          "data": {
            "text/html": [
              "\n",
              "  <div id=\"df-94fc8e1e-d7c4-4dc9-8e83-ef3c622511c9\">\n",
              "    <div class=\"colab-df-container\">\n",
              "      <div>\n",
              "<style scoped>\n",
              "    .dataframe tbody tr th:only-of-type {\n",
              "        vertical-align: middle;\n",
              "    }\n",
              "\n",
              "    .dataframe tbody tr th {\n",
              "        vertical-align: top;\n",
              "    }\n",
              "\n",
              "    .dataframe thead th {\n",
              "        text-align: right;\n",
              "    }\n",
              "</style>\n",
              "<table border=\"1\" class=\"dataframe\">\n",
              "  <thead>\n",
              "    <tr style=\"text-align: right;\">\n",
              "      <th></th>\n",
              "      <th>sl No</th>\n",
              "      <th>name</th>\n",
              "      <th>college</th>\n",
              "      <th>hsc</th>\n",
              "      <th>SSLC</th>\n",
              "      <th>arrears</th>\n",
              "      <th>cmark</th>\n",
              "    </tr>\n",
              "  </thead>\n",
              "  <tbody>\n",
              "    <tr>\n",
              "      <th>6</th>\n",
              "      <td>7.0</td>\n",
              "      <td>A7</td>\n",
              "      <td>SAVEETHA</td>\n",
              "      <td>91.8</td>\n",
              "      <td>NaN</td>\n",
              "      <td>7.0</td>\n",
              "      <td>78.3</td>\n",
              "    </tr>\n",
              "    <tr>\n",
              "      <th>10</th>\n",
              "      <td>10.0</td>\n",
              "      <td>AD</td>\n",
              "      <td>fogjof</td>\n",
              "      <td>56.0</td>\n",
              "      <td>9.0</td>\n",
              "      <td>78.0</td>\n",
              "      <td>2.0</td>\n",
              "    </tr>\n",
              "    <tr>\n",
              "      <th>12</th>\n",
              "      <td>12.0</td>\n",
              "      <td>A11</td>\n",
              "      <td>IITK</td>\n",
              "      <td>88.2</td>\n",
              "      <td>75.9</td>\n",
              "      <td>2.0</td>\n",
              "      <td>72.0</td>\n",
              "    </tr>\n",
              "  </tbody>\n",
              "</table>\n",
              "</div>\n",
              "      <button class=\"colab-df-convert\" onclick=\"convertToInteractive('df-94fc8e1e-d7c4-4dc9-8e83-ef3c622511c9')\"\n",
              "              title=\"Convert this dataframe to an interactive table.\"\n",
              "              style=\"display:none;\">\n",
              "        \n",
              "  <svg xmlns=\"http://www.w3.org/2000/svg\" height=\"24px\"viewBox=\"0 0 24 24\"\n",
              "       width=\"24px\">\n",
              "    <path d=\"M0 0h24v24H0V0z\" fill=\"none\"/>\n",
              "    <path d=\"M18.56 5.44l.94 2.06.94-2.06 2.06-.94-2.06-.94-.94-2.06-.94 2.06-2.06.94zm-11 1L8.5 8.5l.94-2.06 2.06-.94-2.06-.94L8.5 2.5l-.94 2.06-2.06.94zm10 10l.94 2.06.94-2.06 2.06-.94-2.06-.94-.94-2.06-.94 2.06-2.06.94z\"/><path d=\"M17.41 7.96l-1.37-1.37c-.4-.4-.92-.59-1.43-.59-.52 0-1.04.2-1.43.59L10.3 9.45l-7.72 7.72c-.78.78-.78 2.05 0 2.83L4 21.41c.39.39.9.59 1.41.59.51 0 1.02-.2 1.41-.59l7.78-7.78 2.81-2.81c.8-.78.8-2.07 0-2.86zM5.41 20L4 18.59l7.72-7.72 1.47 1.35L5.41 20z\"/>\n",
              "  </svg>\n",
              "      </button>\n",
              "      \n",
              "  <style>\n",
              "    .colab-df-container {\n",
              "      display:flex;\n",
              "      flex-wrap:wrap;\n",
              "      gap: 12px;\n",
              "    }\n",
              "\n",
              "    .colab-df-convert {\n",
              "      background-color: #E8F0FE;\n",
              "      border: none;\n",
              "      border-radius: 50%;\n",
              "      cursor: pointer;\n",
              "      display: none;\n",
              "      fill: #1967D2;\n",
              "      height: 32px;\n",
              "      padding: 0 0 0 0;\n",
              "      width: 32px;\n",
              "    }\n",
              "\n",
              "    .colab-df-convert:hover {\n",
              "      background-color: #E2EBFA;\n",
              "      box-shadow: 0px 1px 2px rgba(60, 64, 67, 0.3), 0px 1px 3px 1px rgba(60, 64, 67, 0.15);\n",
              "      fill: #174EA6;\n",
              "    }\n",
              "\n",
              "    [theme=dark] .colab-df-convert {\n",
              "      background-color: #3B4455;\n",
              "      fill: #D2E3FC;\n",
              "    }\n",
              "\n",
              "    [theme=dark] .colab-df-convert:hover {\n",
              "      background-color: #434B5C;\n",
              "      box-shadow: 0px 1px 3px 1px rgba(0, 0, 0, 0.15);\n",
              "      filter: drop-shadow(0px 1px 2px rgba(0, 0, 0, 0.3));\n",
              "      fill: #FFFFFF;\n",
              "    }\n",
              "  </style>\n",
              "\n",
              "      <script>\n",
              "        const buttonEl =\n",
              "          document.querySelector('#df-94fc8e1e-d7c4-4dc9-8e83-ef3c622511c9 button.colab-df-convert');\n",
              "        buttonEl.style.display =\n",
              "          google.colab.kernel.accessAllowed ? 'block' : 'none';\n",
              "\n",
              "        async function convertToInteractive(key) {\n",
              "          const element = document.querySelector('#df-94fc8e1e-d7c4-4dc9-8e83-ef3c622511c9');\n",
              "          const dataTable =\n",
              "            await google.colab.kernel.invokeFunction('convertToInteractive',\n",
              "                                                     [key], {});\n",
              "          if (!dataTable) return;\n",
              "\n",
              "          const docLinkHtml = 'Like what you see? Visit the ' +\n",
              "            '<a target=\"_blank\" href=https://colab.research.google.com/notebooks/data_table.ipynb>data table notebook</a>'\n",
              "            + ' to learn more about interactive tables.';\n",
              "          element.innerHTML = '';\n",
              "          dataTable['output_type'] = 'display_data';\n",
              "          await google.colab.output.renderOutput(dataTable, element);\n",
              "          const docLink = document.createElement('div');\n",
              "          docLink.innerHTML = docLinkHtml;\n",
              "          element.appendChild(docLink);\n",
              "        }\n",
              "      </script>\n",
              "    </div>\n",
              "  </div>\n",
              "  "
            ],
            "text/plain": [
              "    sl No name   college   hsc  SSLC  arrears  cmark\n",
              "6     7.0   A7  SAVEETHA  91.8   NaN      7.0   78.3\n",
              "10   10.0   AD    fogjof  56.0   9.0     78.0    2.0\n",
              "12   12.0  A11      IITK  88.2  75.9      2.0   72.0"
            ]
          },
          "metadata": {},
          "execution_count": 31
        }
      ]
    },
    {
      "cell_type": "code",
      "source": [
        "x=b['SSLC'].mean()\n",
        "b['SSLC'].fillna(value=x,inplace=True)\n",
        "b"
      ],
      "metadata": {
        "colab": {
          "base_uri": "https://localhost:8080/",
          "height": 520
        },
        "id": "4_7_3gz7Z8xf",
        "outputId": "7445990a-43d5-475a-f2cd-9b25c609f17d"
      },
      "execution_count": null,
      "outputs": [
        {
          "output_type": "execute_result",
          "data": {
            "text/html": [
              "\n",
              "  <div id=\"df-1af08b2e-ef04-4f24-8c42-7a0ddb3a8603\">\n",
              "    <div class=\"colab-df-container\">\n",
              "      <div>\n",
              "<style scoped>\n",
              "    .dataframe tbody tr th:only-of-type {\n",
              "        vertical-align: middle;\n",
              "    }\n",
              "\n",
              "    .dataframe tbody tr th {\n",
              "        vertical-align: top;\n",
              "    }\n",
              "\n",
              "    .dataframe thead th {\n",
              "        text-align: right;\n",
              "    }\n",
              "</style>\n",
              "<table border=\"1\" class=\"dataframe\">\n",
              "  <thead>\n",
              "    <tr style=\"text-align: right;\">\n",
              "      <th></th>\n",
              "      <th>sl No</th>\n",
              "      <th>name</th>\n",
              "      <th>college</th>\n",
              "      <th>hsc</th>\n",
              "      <th>SSLC</th>\n",
              "      <th>arrears</th>\n",
              "      <th>cmark</th>\n",
              "    </tr>\n",
              "  </thead>\n",
              "  <tbody>\n",
              "    <tr>\n",
              "      <th>0</th>\n",
              "      <td>1.0</td>\n",
              "      <td>A1</td>\n",
              "      <td>IITM</td>\n",
              "      <td>89.90</td>\n",
              "      <td>92.600000</td>\n",
              "      <td>0.0</td>\n",
              "      <td>95.0</td>\n",
              "    </tr>\n",
              "    <tr>\n",
              "      <th>1</th>\n",
              "      <td>2.0</td>\n",
              "      <td>A2</td>\n",
              "      <td>ANNA UNIVERSITY</td>\n",
              "      <td>76.80</td>\n",
              "      <td>77.900000</td>\n",
              "      <td>NaN</td>\n",
              "      <td>89.0</td>\n",
              "    </tr>\n",
              "    <tr>\n",
              "      <th>2</th>\n",
              "      <td>3.0</td>\n",
              "      <td>A3</td>\n",
              "      <td>ANNA UNIVERSITY</td>\n",
              "      <td>88.39</td>\n",
              "      <td>85.600000</td>\n",
              "      <td>6.0</td>\n",
              "      <td>99.0</td>\n",
              "    </tr>\n",
              "    <tr>\n",
              "      <th>3</th>\n",
              "      <td>4.0</td>\n",
              "      <td>A4</td>\n",
              "      <td>ANAMALAI UNIVERSITY</td>\n",
              "      <td>92.50</td>\n",
              "      <td>94.600000</td>\n",
              "      <td>1.0</td>\n",
              "      <td>76.0</td>\n",
              "    </tr>\n",
              "    <tr>\n",
              "      <th>4</th>\n",
              "      <td>5.0</td>\n",
              "      <td>A5</td>\n",
              "      <td>NaN</td>\n",
              "      <td>79.30</td>\n",
              "      <td>65.000000</td>\n",
              "      <td>2.0</td>\n",
              "      <td>89.0</td>\n",
              "    </tr>\n",
              "    <tr>\n",
              "      <th>5</th>\n",
              "      <td>6.0</td>\n",
              "      <td>A6</td>\n",
              "      <td>SRM</td>\n",
              "      <td>NaN</td>\n",
              "      <td>88.100000</td>\n",
              "      <td>0.0</td>\n",
              "      <td>89.6</td>\n",
              "    </tr>\n",
              "    <tr>\n",
              "      <th>6</th>\n",
              "      <td>7.0</td>\n",
              "      <td>A7</td>\n",
              "      <td>SAVEETHA</td>\n",
              "      <td>91.80</td>\n",
              "      <td>77.307692</td>\n",
              "      <td>7.0</td>\n",
              "      <td>78.3</td>\n",
              "    </tr>\n",
              "    <tr>\n",
              "      <th>7</th>\n",
              "      <td>8.0</td>\n",
              "      <td>A8</td>\n",
              "      <td>NaN</td>\n",
              "      <td>99.80</td>\n",
              "      <td>65.800000</td>\n",
              "      <td>6.0</td>\n",
              "      <td>77.5</td>\n",
              "    </tr>\n",
              "    <tr>\n",
              "      <th>8</th>\n",
              "      <td>NaN</td>\n",
              "      <td>NaN</td>\n",
              "      <td>NaN</td>\n",
              "      <td>NaN</td>\n",
              "      <td>77.307692</td>\n",
              "      <td>NaN</td>\n",
              "      <td>NaN</td>\n",
              "    </tr>\n",
              "    <tr>\n",
              "      <th>9</th>\n",
              "      <td>9.0</td>\n",
              "      <td>A9</td>\n",
              "      <td>ANAMALAI UNIVERSITY</td>\n",
              "      <td>98.70</td>\n",
              "      <td>91.000000</td>\n",
              "      <td>2.0</td>\n",
              "      <td>76.0</td>\n",
              "    </tr>\n",
              "    <tr>\n",
              "      <th>10</th>\n",
              "      <td>10.0</td>\n",
              "      <td>AD</td>\n",
              "      <td>fogjof</td>\n",
              "      <td>56.00</td>\n",
              "      <td>9.000000</td>\n",
              "      <td>78.0</td>\n",
              "      <td>2.0</td>\n",
              "    </tr>\n",
              "    <tr>\n",
              "      <th>11</th>\n",
              "      <td>11.0</td>\n",
              "      <td>A10</td>\n",
              "      <td>IITM</td>\n",
              "      <td>94.00</td>\n",
              "      <td>77.600000</td>\n",
              "      <td>1.0</td>\n",
              "      <td>75.0</td>\n",
              "    </tr>\n",
              "    <tr>\n",
              "      <th>12</th>\n",
              "      <td>12.0</td>\n",
              "      <td>A11</td>\n",
              "      <td>IITK</td>\n",
              "      <td>88.20</td>\n",
              "      <td>75.900000</td>\n",
              "      <td>2.0</td>\n",
              "      <td>72.0</td>\n",
              "    </tr>\n",
              "    <tr>\n",
              "      <th>13</th>\n",
              "      <td>13.0</td>\n",
              "      <td>A12</td>\n",
              "      <td>NaN</td>\n",
              "      <td>78.90</td>\n",
              "      <td>84.900000</td>\n",
              "      <td>3.0</td>\n",
              "      <td>83.0</td>\n",
              "    </tr>\n",
              "    <tr>\n",
              "      <th>14</th>\n",
              "      <td>14.0</td>\n",
              "      <td>A13</td>\n",
              "      <td>SRM</td>\n",
              "      <td>86.90</td>\n",
              "      <td>97.000000</td>\n",
              "      <td>4.0</td>\n",
              "      <td>92.0</td>\n",
              "    </tr>\n",
              "  </tbody>\n",
              "</table>\n",
              "</div>\n",
              "      <button class=\"colab-df-convert\" onclick=\"convertToInteractive('df-1af08b2e-ef04-4f24-8c42-7a0ddb3a8603')\"\n",
              "              title=\"Convert this dataframe to an interactive table.\"\n",
              "              style=\"display:none;\">\n",
              "        \n",
              "  <svg xmlns=\"http://www.w3.org/2000/svg\" height=\"24px\"viewBox=\"0 0 24 24\"\n",
              "       width=\"24px\">\n",
              "    <path d=\"M0 0h24v24H0V0z\" fill=\"none\"/>\n",
              "    <path d=\"M18.56 5.44l.94 2.06.94-2.06 2.06-.94-2.06-.94-.94-2.06-.94 2.06-2.06.94zm-11 1L8.5 8.5l.94-2.06 2.06-.94-2.06-.94L8.5 2.5l-.94 2.06-2.06.94zm10 10l.94 2.06.94-2.06 2.06-.94-2.06-.94-.94-2.06-.94 2.06-2.06.94z\"/><path d=\"M17.41 7.96l-1.37-1.37c-.4-.4-.92-.59-1.43-.59-.52 0-1.04.2-1.43.59L10.3 9.45l-7.72 7.72c-.78.78-.78 2.05 0 2.83L4 21.41c.39.39.9.59 1.41.59.51 0 1.02-.2 1.41-.59l7.78-7.78 2.81-2.81c.8-.78.8-2.07 0-2.86zM5.41 20L4 18.59l7.72-7.72 1.47 1.35L5.41 20z\"/>\n",
              "  </svg>\n",
              "      </button>\n",
              "      \n",
              "  <style>\n",
              "    .colab-df-container {\n",
              "      display:flex;\n",
              "      flex-wrap:wrap;\n",
              "      gap: 12px;\n",
              "    }\n",
              "\n",
              "    .colab-df-convert {\n",
              "      background-color: #E8F0FE;\n",
              "      border: none;\n",
              "      border-radius: 50%;\n",
              "      cursor: pointer;\n",
              "      display: none;\n",
              "      fill: #1967D2;\n",
              "      height: 32px;\n",
              "      padding: 0 0 0 0;\n",
              "      width: 32px;\n",
              "    }\n",
              "\n",
              "    .colab-df-convert:hover {\n",
              "      background-color: #E2EBFA;\n",
              "      box-shadow: 0px 1px 2px rgba(60, 64, 67, 0.3), 0px 1px 3px 1px rgba(60, 64, 67, 0.15);\n",
              "      fill: #174EA6;\n",
              "    }\n",
              "\n",
              "    [theme=dark] .colab-df-convert {\n",
              "      background-color: #3B4455;\n",
              "      fill: #D2E3FC;\n",
              "    }\n",
              "\n",
              "    [theme=dark] .colab-df-convert:hover {\n",
              "      background-color: #434B5C;\n",
              "      box-shadow: 0px 1px 3px 1px rgba(0, 0, 0, 0.15);\n",
              "      filter: drop-shadow(0px 1px 2px rgba(0, 0, 0, 0.3));\n",
              "      fill: #FFFFFF;\n",
              "    }\n",
              "  </style>\n",
              "\n",
              "      <script>\n",
              "        const buttonEl =\n",
              "          document.querySelector('#df-1af08b2e-ef04-4f24-8c42-7a0ddb3a8603 button.colab-df-convert');\n",
              "        buttonEl.style.display =\n",
              "          google.colab.kernel.accessAllowed ? 'block' : 'none';\n",
              "\n",
              "        async function convertToInteractive(key) {\n",
              "          const element = document.querySelector('#df-1af08b2e-ef04-4f24-8c42-7a0ddb3a8603');\n",
              "          const dataTable =\n",
              "            await google.colab.kernel.invokeFunction('convertToInteractive',\n",
              "                                                     [key], {});\n",
              "          if (!dataTable) return;\n",
              "\n",
              "          const docLinkHtml = 'Like what you see? Visit the ' +\n",
              "            '<a target=\"_blank\" href=https://colab.research.google.com/notebooks/data_table.ipynb>data table notebook</a>'\n",
              "            + ' to learn more about interactive tables.';\n",
              "          element.innerHTML = '';\n",
              "          dataTable['output_type'] = 'display_data';\n",
              "          await google.colab.output.renderOutput(dataTable, element);\n",
              "          const docLink = document.createElement('div');\n",
              "          docLink.innerHTML = docLinkHtml;\n",
              "          element.appendChild(docLink);\n",
              "        }\n",
              "      </script>\n",
              "    </div>\n",
              "  </div>\n",
              "  "
            ],
            "text/plain": [
              "    sl No name              college    hsc       SSLC  arrears  cmark\n",
              "0     1.0   A1                 IITM  89.90  92.600000      0.0   95.0\n",
              "1     2.0   A2      ANNA UNIVERSITY  76.80  77.900000      NaN   89.0\n",
              "2     3.0   A3      ANNA UNIVERSITY  88.39  85.600000      6.0   99.0\n",
              "3     4.0   A4  ANAMALAI UNIVERSITY  92.50  94.600000      1.0   76.0\n",
              "4     5.0   A5                  NaN  79.30  65.000000      2.0   89.0\n",
              "5     6.0   A6                  SRM    NaN  88.100000      0.0   89.6\n",
              "6     7.0   A7             SAVEETHA  91.80  77.307692      7.0   78.3\n",
              "7     8.0   A8                  NaN  99.80  65.800000      6.0   77.5\n",
              "8     NaN  NaN                  NaN    NaN  77.307692      NaN    NaN\n",
              "9     9.0   A9  ANAMALAI UNIVERSITY  98.70  91.000000      2.0   76.0\n",
              "10   10.0   AD               fogjof  56.00   9.000000     78.0    2.0\n",
              "11   11.0  A10                 IITM  94.00  77.600000      1.0   75.0\n",
              "12   12.0  A11                 IITK  88.20  75.900000      2.0   72.0\n",
              "13   13.0  A12                  NaN  78.90  84.900000      3.0   83.0\n",
              "14   14.0  A13                  SRM  86.90  97.000000      4.0   92.0"
            ]
          },
          "metadata": {},
          "execution_count": 33
        }
      ]
    },
    {
      "cell_type": "code",
      "source": [
        "b['arrears'].fillna(value=450,inplace=True)\n",
        "b"
      ],
      "metadata": {
        "colab": {
          "base_uri": "https://localhost:8080/",
          "height": 520
        },
        "id": "ccq5eLr9Z804",
        "outputId": "9becbcaf-ee8d-4e4c-8443-611d1ce43575"
      },
      "execution_count": null,
      "outputs": [
        {
          "output_type": "execute_result",
          "data": {
            "text/html": [
              "\n",
              "  <div id=\"df-4e9768d8-1c75-43e4-8d36-eddb9088af07\">\n",
              "    <div class=\"colab-df-container\">\n",
              "      <div>\n",
              "<style scoped>\n",
              "    .dataframe tbody tr th:only-of-type {\n",
              "        vertical-align: middle;\n",
              "    }\n",
              "\n",
              "    .dataframe tbody tr th {\n",
              "        vertical-align: top;\n",
              "    }\n",
              "\n",
              "    .dataframe thead th {\n",
              "        text-align: right;\n",
              "    }\n",
              "</style>\n",
              "<table border=\"1\" class=\"dataframe\">\n",
              "  <thead>\n",
              "    <tr style=\"text-align: right;\">\n",
              "      <th></th>\n",
              "      <th>sl No</th>\n",
              "      <th>name</th>\n",
              "      <th>college</th>\n",
              "      <th>hsc</th>\n",
              "      <th>SSLC</th>\n",
              "      <th>arrears</th>\n",
              "      <th>cmark</th>\n",
              "    </tr>\n",
              "  </thead>\n",
              "  <tbody>\n",
              "    <tr>\n",
              "      <th>0</th>\n",
              "      <td>1.0</td>\n",
              "      <td>A1</td>\n",
              "      <td>IITM</td>\n",
              "      <td>89.90</td>\n",
              "      <td>92.600000</td>\n",
              "      <td>0.0</td>\n",
              "      <td>95.0</td>\n",
              "    </tr>\n",
              "    <tr>\n",
              "      <th>1</th>\n",
              "      <td>2.0</td>\n",
              "      <td>A2</td>\n",
              "      <td>ANNA UNIVERSITY</td>\n",
              "      <td>76.80</td>\n",
              "      <td>77.900000</td>\n",
              "      <td>450.0</td>\n",
              "      <td>89.0</td>\n",
              "    </tr>\n",
              "    <tr>\n",
              "      <th>2</th>\n",
              "      <td>3.0</td>\n",
              "      <td>A3</td>\n",
              "      <td>ANNA UNIVERSITY</td>\n",
              "      <td>88.39</td>\n",
              "      <td>85.600000</td>\n",
              "      <td>6.0</td>\n",
              "      <td>99.0</td>\n",
              "    </tr>\n",
              "    <tr>\n",
              "      <th>3</th>\n",
              "      <td>4.0</td>\n",
              "      <td>A4</td>\n",
              "      <td>ANAMALAI UNIVERSITY</td>\n",
              "      <td>92.50</td>\n",
              "      <td>94.600000</td>\n",
              "      <td>1.0</td>\n",
              "      <td>76.0</td>\n",
              "    </tr>\n",
              "    <tr>\n",
              "      <th>4</th>\n",
              "      <td>5.0</td>\n",
              "      <td>A5</td>\n",
              "      <td>NaN</td>\n",
              "      <td>79.30</td>\n",
              "      <td>65.000000</td>\n",
              "      <td>2.0</td>\n",
              "      <td>89.0</td>\n",
              "    </tr>\n",
              "    <tr>\n",
              "      <th>5</th>\n",
              "      <td>6.0</td>\n",
              "      <td>A6</td>\n",
              "      <td>SRM</td>\n",
              "      <td>NaN</td>\n",
              "      <td>88.100000</td>\n",
              "      <td>0.0</td>\n",
              "      <td>89.6</td>\n",
              "    </tr>\n",
              "    <tr>\n",
              "      <th>6</th>\n",
              "      <td>7.0</td>\n",
              "      <td>A7</td>\n",
              "      <td>SAVEETHA</td>\n",
              "      <td>91.80</td>\n",
              "      <td>77.307692</td>\n",
              "      <td>7.0</td>\n",
              "      <td>78.3</td>\n",
              "    </tr>\n",
              "    <tr>\n",
              "      <th>7</th>\n",
              "      <td>8.0</td>\n",
              "      <td>A8</td>\n",
              "      <td>NaN</td>\n",
              "      <td>99.80</td>\n",
              "      <td>65.800000</td>\n",
              "      <td>6.0</td>\n",
              "      <td>77.5</td>\n",
              "    </tr>\n",
              "    <tr>\n",
              "      <th>8</th>\n",
              "      <td>NaN</td>\n",
              "      <td>NaN</td>\n",
              "      <td>NaN</td>\n",
              "      <td>NaN</td>\n",
              "      <td>77.307692</td>\n",
              "      <td>450.0</td>\n",
              "      <td>NaN</td>\n",
              "    </tr>\n",
              "    <tr>\n",
              "      <th>9</th>\n",
              "      <td>9.0</td>\n",
              "      <td>A9</td>\n",
              "      <td>ANAMALAI UNIVERSITY</td>\n",
              "      <td>98.70</td>\n",
              "      <td>91.000000</td>\n",
              "      <td>2.0</td>\n",
              "      <td>76.0</td>\n",
              "    </tr>\n",
              "    <tr>\n",
              "      <th>10</th>\n",
              "      <td>10.0</td>\n",
              "      <td>AD</td>\n",
              "      <td>fogjof</td>\n",
              "      <td>56.00</td>\n",
              "      <td>9.000000</td>\n",
              "      <td>78.0</td>\n",
              "      <td>2.0</td>\n",
              "    </tr>\n",
              "    <tr>\n",
              "      <th>11</th>\n",
              "      <td>11.0</td>\n",
              "      <td>A10</td>\n",
              "      <td>IITM</td>\n",
              "      <td>94.00</td>\n",
              "      <td>77.600000</td>\n",
              "      <td>1.0</td>\n",
              "      <td>75.0</td>\n",
              "    </tr>\n",
              "    <tr>\n",
              "      <th>12</th>\n",
              "      <td>12.0</td>\n",
              "      <td>A11</td>\n",
              "      <td>IITK</td>\n",
              "      <td>88.20</td>\n",
              "      <td>75.900000</td>\n",
              "      <td>2.0</td>\n",
              "      <td>72.0</td>\n",
              "    </tr>\n",
              "    <tr>\n",
              "      <th>13</th>\n",
              "      <td>13.0</td>\n",
              "      <td>A12</td>\n",
              "      <td>NaN</td>\n",
              "      <td>78.90</td>\n",
              "      <td>84.900000</td>\n",
              "      <td>3.0</td>\n",
              "      <td>83.0</td>\n",
              "    </tr>\n",
              "    <tr>\n",
              "      <th>14</th>\n",
              "      <td>14.0</td>\n",
              "      <td>A13</td>\n",
              "      <td>SRM</td>\n",
              "      <td>86.90</td>\n",
              "      <td>97.000000</td>\n",
              "      <td>4.0</td>\n",
              "      <td>92.0</td>\n",
              "    </tr>\n",
              "  </tbody>\n",
              "</table>\n",
              "</div>\n",
              "      <button class=\"colab-df-convert\" onclick=\"convertToInteractive('df-4e9768d8-1c75-43e4-8d36-eddb9088af07')\"\n",
              "              title=\"Convert this dataframe to an interactive table.\"\n",
              "              style=\"display:none;\">\n",
              "        \n",
              "  <svg xmlns=\"http://www.w3.org/2000/svg\" height=\"24px\"viewBox=\"0 0 24 24\"\n",
              "       width=\"24px\">\n",
              "    <path d=\"M0 0h24v24H0V0z\" fill=\"none\"/>\n",
              "    <path d=\"M18.56 5.44l.94 2.06.94-2.06 2.06-.94-2.06-.94-.94-2.06-.94 2.06-2.06.94zm-11 1L8.5 8.5l.94-2.06 2.06-.94-2.06-.94L8.5 2.5l-.94 2.06-2.06.94zm10 10l.94 2.06.94-2.06 2.06-.94-2.06-.94-.94-2.06-.94 2.06-2.06.94z\"/><path d=\"M17.41 7.96l-1.37-1.37c-.4-.4-.92-.59-1.43-.59-.52 0-1.04.2-1.43.59L10.3 9.45l-7.72 7.72c-.78.78-.78 2.05 0 2.83L4 21.41c.39.39.9.59 1.41.59.51 0 1.02-.2 1.41-.59l7.78-7.78 2.81-2.81c.8-.78.8-2.07 0-2.86zM5.41 20L4 18.59l7.72-7.72 1.47 1.35L5.41 20z\"/>\n",
              "  </svg>\n",
              "      </button>\n",
              "      \n",
              "  <style>\n",
              "    .colab-df-container {\n",
              "      display:flex;\n",
              "      flex-wrap:wrap;\n",
              "      gap: 12px;\n",
              "    }\n",
              "\n",
              "    .colab-df-convert {\n",
              "      background-color: #E8F0FE;\n",
              "      border: none;\n",
              "      border-radius: 50%;\n",
              "      cursor: pointer;\n",
              "      display: none;\n",
              "      fill: #1967D2;\n",
              "      height: 32px;\n",
              "      padding: 0 0 0 0;\n",
              "      width: 32px;\n",
              "    }\n",
              "\n",
              "    .colab-df-convert:hover {\n",
              "      background-color: #E2EBFA;\n",
              "      box-shadow: 0px 1px 2px rgba(60, 64, 67, 0.3), 0px 1px 3px 1px rgba(60, 64, 67, 0.15);\n",
              "      fill: #174EA6;\n",
              "    }\n",
              "\n",
              "    [theme=dark] .colab-df-convert {\n",
              "      background-color: #3B4455;\n",
              "      fill: #D2E3FC;\n",
              "    }\n",
              "\n",
              "    [theme=dark] .colab-df-convert:hover {\n",
              "      background-color: #434B5C;\n",
              "      box-shadow: 0px 1px 3px 1px rgba(0, 0, 0, 0.15);\n",
              "      filter: drop-shadow(0px 1px 2px rgba(0, 0, 0, 0.3));\n",
              "      fill: #FFFFFF;\n",
              "    }\n",
              "  </style>\n",
              "\n",
              "      <script>\n",
              "        const buttonEl =\n",
              "          document.querySelector('#df-4e9768d8-1c75-43e4-8d36-eddb9088af07 button.colab-df-convert');\n",
              "        buttonEl.style.display =\n",
              "          google.colab.kernel.accessAllowed ? 'block' : 'none';\n",
              "\n",
              "        async function convertToInteractive(key) {\n",
              "          const element = document.querySelector('#df-4e9768d8-1c75-43e4-8d36-eddb9088af07');\n",
              "          const dataTable =\n",
              "            await google.colab.kernel.invokeFunction('convertToInteractive',\n",
              "                                                     [key], {});\n",
              "          if (!dataTable) return;\n",
              "\n",
              "          const docLinkHtml = 'Like what you see? Visit the ' +\n",
              "            '<a target=\"_blank\" href=https://colab.research.google.com/notebooks/data_table.ipynb>data table notebook</a>'\n",
              "            + ' to learn more about interactive tables.';\n",
              "          element.innerHTML = '';\n",
              "          dataTable['output_type'] = 'display_data';\n",
              "          await google.colab.output.renderOutput(dataTable, element);\n",
              "          const docLink = document.createElement('div');\n",
              "          docLink.innerHTML = docLinkHtml;\n",
              "          element.appendChild(docLink);\n",
              "        }\n",
              "      </script>\n",
              "    </div>\n",
              "  </div>\n",
              "  "
            ],
            "text/plain": [
              "    sl No name              college    hsc       SSLC  arrears  cmark\n",
              "0     1.0   A1                 IITM  89.90  92.600000      0.0   95.0\n",
              "1     2.0   A2      ANNA UNIVERSITY  76.80  77.900000    450.0   89.0\n",
              "2     3.0   A3      ANNA UNIVERSITY  88.39  85.600000      6.0   99.0\n",
              "3     4.0   A4  ANAMALAI UNIVERSITY  92.50  94.600000      1.0   76.0\n",
              "4     5.0   A5                  NaN  79.30  65.000000      2.0   89.0\n",
              "5     6.0   A6                  SRM    NaN  88.100000      0.0   89.6\n",
              "6     7.0   A7             SAVEETHA  91.80  77.307692      7.0   78.3\n",
              "7     8.0   A8                  NaN  99.80  65.800000      6.0   77.5\n",
              "8     NaN  NaN                  NaN    NaN  77.307692    450.0    NaN\n",
              "9     9.0   A9  ANAMALAI UNIVERSITY  98.70  91.000000      2.0   76.0\n",
              "10   10.0   AD               fogjof  56.00   9.000000     78.0    2.0\n",
              "11   11.0  A10                 IITM  94.00  77.600000      1.0   75.0\n",
              "12   12.0  A11                 IITK  88.20  75.900000      2.0   72.0\n",
              "13   13.0  A12                  NaN  78.90  84.900000      3.0   83.0\n",
              "14   14.0  A13                  SRM  86.90  97.000000      4.0   92.0"
            ]
          },
          "metadata": {},
          "execution_count": 34
        }
      ]
    },
    {
      "cell_type": "code",
      "source": [
        "!pip install pyspark"
      ],
      "metadata": {
        "colab": {
          "base_uri": "https://localhost:8080/"
        },
        "id": "EHH4Lih1Z82w",
        "outputId": "7d9205fc-43fd-4f9b-e068-ed3013a54ca4"
      },
      "execution_count": null,
      "outputs": [
        {
          "output_type": "stream",
          "name": "stdout",
          "text": [
            "Collecting pyspark\n",
            "  Downloading pyspark-3.2.1.tar.gz (281.4 MB)\n",
            "\u001b[K     |████████████████████████████████| 281.4 MB 28 kB/s \n",
            "\u001b[?25hCollecting py4j==0.10.9.3\n",
            "  Downloading py4j-0.10.9.3-py2.py3-none-any.whl (198 kB)\n",
            "\u001b[K     |████████████████████████████████| 198 kB 57.8 MB/s \n",
            "\u001b[?25hBuilding wheels for collected packages: pyspark\n",
            "  Building wheel for pyspark (setup.py) ... \u001b[?25l\u001b[?25hdone\n",
            "  Created wheel for pyspark: filename=pyspark-3.2.1-py2.py3-none-any.whl size=281853642 sha256=7ea9503daca8c63794228632ecf5adfaefeb6836141eccce84322199bdfb0836\n",
            "  Stored in directory: /root/.cache/pip/wheels/9f/f5/07/7cd8017084dce4e93e84e92efd1e1d5334db05f2e83bcef74f\n",
            "Successfully built pyspark\n",
            "Installing collected packages: py4j, pyspark\n",
            "Successfully installed py4j-0.10.9.3 pyspark-3.2.1\n"
          ]
        }
      ]
    },
    {
      "cell_type": "code",
      "source": [
        "import pyspark"
      ],
      "metadata": {
        "id": "LOa477WmZrhC"
      },
      "execution_count": null,
      "outputs": []
    },
    {
      "cell_type": "code",
      "source": [
        "#if the file size is too big we will use pyspark"
      ],
      "metadata": {
        "id": "Q3q94NoWta_u"
      },
      "execution_count": null,
      "outputs": []
    },
    {
      "cell_type": "code",
      "source": [
        "from pyspark.sql import SparkSession"
      ],
      "metadata": {
        "id": "KeIHQg3xZrkr"
      },
      "execution_count": null,
      "outputs": []
    },
    {
      "cell_type": "code",
      "source": [
        "spark=SparkSession.builder.appName('sample').getOrCreate()"
      ],
      "metadata": {
        "id": "mprizi_ynni6"
      },
      "execution_count": null,
      "outputs": []
    },
    {
      "cell_type": "code",
      "source": [
        "f=[('raj','kumar','r',45,'m',45000),('hari','kumar','g',23,'m',60000),('maha','lakshmi','k',0,'f',50000)]"
      ],
      "metadata": {
        "id": "hINV6qZOnnlo"
      },
      "execution_count": null,
      "outputs": []
    },
    {
      "cell_type": "code",
      "source": [
        "from pyspark.sql.types import StructField,StructType,StringType,IntegerType"
      ],
      "metadata": {
        "id": "h4IlRftwnnok"
      },
      "execution_count": null,
      "outputs": []
    },
    {
      "cell_type": "code",
      "source": [
        "sch=StructType([\n",
        "                StructField('firstname',StringType(),True),\n",
        "                StructField('middlename',StringType(),True),\n",
        "                StructField('lastname',StringType(),True),\n",
        "                StructField('age',IntegerType(),True),\n",
        "                StructField('gender',StringType(),True),\n",
        "                StructField('salary',IntegerType(),True),\n",
        "])"
      ],
      "metadata": {
        "id": "5qs9bc7lnnrq"
      },
      "execution_count": null,
      "outputs": []
    },
    {
      "cell_type": "code",
      "source": [
        "ax=spark.createDataFrame(data=f,schema=sch)\n",
        "ax.show()"
      ],
      "metadata": {
        "colab": {
          "base_uri": "https://localhost:8080/"
        },
        "id": "oWBfwRBRnntw",
        "outputId": "021aa1e8-f7b9-485d-b640-531b485c4d2a"
      },
      "execution_count": null,
      "outputs": [
        {
          "output_type": "stream",
          "name": "stdout",
          "text": [
            "+---------+----------+--------+---+------+------+\n",
            "|firstname|middlename|lastname|age|gender|salary|\n",
            "+---------+----------+--------+---+------+------+\n",
            "|      raj|     kumar|       r| 45|     m| 45000|\n",
            "|     hari|     kumar|       g| 23|     m| 60000|\n",
            "|     maha|   lakshmi|       k|  0|     f| 50000|\n",
            "+---------+----------+--------+---+------+------+\n",
            "\n"
          ]
        }
      ]
    },
    {
      "cell_type": "code",
      "source": [
        "bx=ax.toPandas()\n",
        "bx"
      ],
      "metadata": {
        "colab": {
          "base_uri": "https://localhost:8080/",
          "height": 143
        },
        "id": "0yGhmqECnnwe",
        "outputId": "46273616-2a60-4ddb-ba8e-f9961cc8132e"
      },
      "execution_count": null,
      "outputs": [
        {
          "output_type": "execute_result",
          "data": {
            "text/html": [
              "\n",
              "  <div id=\"df-dcda59a3-9ac0-4812-a18b-80e7c66ec579\">\n",
              "    <div class=\"colab-df-container\">\n",
              "      <div>\n",
              "<style scoped>\n",
              "    .dataframe tbody tr th:only-of-type {\n",
              "        vertical-align: middle;\n",
              "    }\n",
              "\n",
              "    .dataframe tbody tr th {\n",
              "        vertical-align: top;\n",
              "    }\n",
              "\n",
              "    .dataframe thead th {\n",
              "        text-align: right;\n",
              "    }\n",
              "</style>\n",
              "<table border=\"1\" class=\"dataframe\">\n",
              "  <thead>\n",
              "    <tr style=\"text-align: right;\">\n",
              "      <th></th>\n",
              "      <th>firstname</th>\n",
              "      <th>middlename</th>\n",
              "      <th>lastname</th>\n",
              "      <th>age</th>\n",
              "      <th>gender</th>\n",
              "      <th>salary</th>\n",
              "    </tr>\n",
              "  </thead>\n",
              "  <tbody>\n",
              "    <tr>\n",
              "      <th>0</th>\n",
              "      <td>raj</td>\n",
              "      <td>kumar</td>\n",
              "      <td>r</td>\n",
              "      <td>45</td>\n",
              "      <td>m</td>\n",
              "      <td>45000</td>\n",
              "    </tr>\n",
              "    <tr>\n",
              "      <th>1</th>\n",
              "      <td>hari</td>\n",
              "      <td>kumar</td>\n",
              "      <td>g</td>\n",
              "      <td>23</td>\n",
              "      <td>m</td>\n",
              "      <td>60000</td>\n",
              "    </tr>\n",
              "    <tr>\n",
              "      <th>2</th>\n",
              "      <td>maha</td>\n",
              "      <td>lakshmi</td>\n",
              "      <td>k</td>\n",
              "      <td>0</td>\n",
              "      <td>f</td>\n",
              "      <td>50000</td>\n",
              "    </tr>\n",
              "  </tbody>\n",
              "</table>\n",
              "</div>\n",
              "      <button class=\"colab-df-convert\" onclick=\"convertToInteractive('df-dcda59a3-9ac0-4812-a18b-80e7c66ec579')\"\n",
              "              title=\"Convert this dataframe to an interactive table.\"\n",
              "              style=\"display:none;\">\n",
              "        \n",
              "  <svg xmlns=\"http://www.w3.org/2000/svg\" height=\"24px\"viewBox=\"0 0 24 24\"\n",
              "       width=\"24px\">\n",
              "    <path d=\"M0 0h24v24H0V0z\" fill=\"none\"/>\n",
              "    <path d=\"M18.56 5.44l.94 2.06.94-2.06 2.06-.94-2.06-.94-.94-2.06-.94 2.06-2.06.94zm-11 1L8.5 8.5l.94-2.06 2.06-.94-2.06-.94L8.5 2.5l-.94 2.06-2.06.94zm10 10l.94 2.06.94-2.06 2.06-.94-2.06-.94-.94-2.06-.94 2.06-2.06.94z\"/><path d=\"M17.41 7.96l-1.37-1.37c-.4-.4-.92-.59-1.43-.59-.52 0-1.04.2-1.43.59L10.3 9.45l-7.72 7.72c-.78.78-.78 2.05 0 2.83L4 21.41c.39.39.9.59 1.41.59.51 0 1.02-.2 1.41-.59l7.78-7.78 2.81-2.81c.8-.78.8-2.07 0-2.86zM5.41 20L4 18.59l7.72-7.72 1.47 1.35L5.41 20z\"/>\n",
              "  </svg>\n",
              "      </button>\n",
              "      \n",
              "  <style>\n",
              "    .colab-df-container {\n",
              "      display:flex;\n",
              "      flex-wrap:wrap;\n",
              "      gap: 12px;\n",
              "    }\n",
              "\n",
              "    .colab-df-convert {\n",
              "      background-color: #E8F0FE;\n",
              "      border: none;\n",
              "      border-radius: 50%;\n",
              "      cursor: pointer;\n",
              "      display: none;\n",
              "      fill: #1967D2;\n",
              "      height: 32px;\n",
              "      padding: 0 0 0 0;\n",
              "      width: 32px;\n",
              "    }\n",
              "\n",
              "    .colab-df-convert:hover {\n",
              "      background-color: #E2EBFA;\n",
              "      box-shadow: 0px 1px 2px rgba(60, 64, 67, 0.3), 0px 1px 3px 1px rgba(60, 64, 67, 0.15);\n",
              "      fill: #174EA6;\n",
              "    }\n",
              "\n",
              "    [theme=dark] .colab-df-convert {\n",
              "      background-color: #3B4455;\n",
              "      fill: #D2E3FC;\n",
              "    }\n",
              "\n",
              "    [theme=dark] .colab-df-convert:hover {\n",
              "      background-color: #434B5C;\n",
              "      box-shadow: 0px 1px 3px 1px rgba(0, 0, 0, 0.15);\n",
              "      filter: drop-shadow(0px 1px 2px rgba(0, 0, 0, 0.3));\n",
              "      fill: #FFFFFF;\n",
              "    }\n",
              "  </style>\n",
              "\n",
              "      <script>\n",
              "        const buttonEl =\n",
              "          document.querySelector('#df-dcda59a3-9ac0-4812-a18b-80e7c66ec579 button.colab-df-convert');\n",
              "        buttonEl.style.display =\n",
              "          google.colab.kernel.accessAllowed ? 'block' : 'none';\n",
              "\n",
              "        async function convertToInteractive(key) {\n",
              "          const element = document.querySelector('#df-dcda59a3-9ac0-4812-a18b-80e7c66ec579');\n",
              "          const dataTable =\n",
              "            await google.colab.kernel.invokeFunction('convertToInteractive',\n",
              "                                                     [key], {});\n",
              "          if (!dataTable) return;\n",
              "\n",
              "          const docLinkHtml = 'Like what you see? Visit the ' +\n",
              "            '<a target=\"_blank\" href=https://colab.research.google.com/notebooks/data_table.ipynb>data table notebook</a>'\n",
              "            + ' to learn more about interactive tables.';\n",
              "          element.innerHTML = '';\n",
              "          dataTable['output_type'] = 'display_data';\n",
              "          await google.colab.output.renderOutput(dataTable, element);\n",
              "          const docLink = document.createElement('div');\n",
              "          docLink.innerHTML = docLinkHtml;\n",
              "          element.appendChild(docLink);\n",
              "        }\n",
              "      </script>\n",
              "    </div>\n",
              "  </div>\n",
              "  "
            ],
            "text/plain": [
              "  firstname middlename lastname  age gender  salary\n",
              "0       raj      kumar        r   45      m   45000\n",
              "1      hari      kumar        g   23      m   60000\n",
              "2      maha    lakshmi        k    0      f   50000"
            ]
          },
          "metadata": {},
          "execution_count": 10
        }
      ]
    },
    {
      "cell_type": "code",
      "source": [
        "#using pyspark reading a file and data cleaning"
      ],
      "metadata": {
        "id": "bs0ho6a8o6TK"
      },
      "execution_count": null,
      "outputs": []
    },
    {
      "cell_type": "code",
      "source": [
        "ax=spark.read.option('header',True).csv('/content/SAMPLE.csv')\n",
        "ax.show()"
      ],
      "metadata": {
        "colab": {
          "base_uri": "https://localhost:8080/"
        },
        "id": "OiTL1kq7ozIG",
        "outputId": "e7d621e4-036b-465b-daa1-fc77122a69c8"
      },
      "execution_count": null,
      "outputs": [
        {
          "output_type": "stream",
          "name": "stdout",
          "text": [
            "+-----+----+-------------------+-----+----+-------+-----+\n",
            "|sl No|name|            college|  hsc|SSLC|arrears|cmark|\n",
            "+-----+----+-------------------+-----+----+-------+-----+\n",
            "|    1|  A1|               IITM| 89.9|92.6|      0|   95|\n",
            "|    2|  A2|    ANNA UNIVERSITY| 76.8|77.9|   null|   89|\n",
            "|    3|  A3|    ANNA UNIVERSITY|88.39|85.6|      6|   99|\n",
            "|    4|  A4|ANAMALAI UNIVERSITY| 92.5|94.6|      1|   76|\n",
            "|    5|  A5|               null| 79.3|  65|      2|   89|\n",
            "|    6|  A6|                SRM| null|88.1|      0| 89.6|\n",
            "|    7|  A7|           SAVEETHA| 91.8|null|      7| 78.3|\n",
            "|    8|  A8|               null| 99.8|65.8|      6| 77.5|\n",
            "| null|null|               null| null|null|   null| null|\n",
            "|    9|  A9|ANAMALAI UNIVERSITY| 98.7|  91|      2|   76|\n",
            "|   10|  AD|             fogjof|   56|   9|     78|    2|\n",
            "|   11| A10|               IITM|   94|77.6|      1|   75|\n",
            "|   12| A11|               IITK| 88.2|75.9|      2|   72|\n",
            "|   13| A12|               null| 78.9|84.9|      3|   83|\n",
            "|   14| A13|                SRM| 86.9|  97|      4|   92|\n",
            "+-----+----+-------------------+-----+----+-------+-----+\n",
            "\n"
          ]
        }
      ]
    },
    {
      "cell_type": "code",
      "source": [
        "ax.na.fill('28').show()"
      ],
      "metadata": {
        "colab": {
          "base_uri": "https://localhost:8080/"
        },
        "id": "Sklz9MxIozLY",
        "outputId": "c47ee766-101d-4a1a-9ae8-a84ede7b06fb"
      },
      "execution_count": null,
      "outputs": [
        {
          "output_type": "stream",
          "name": "stdout",
          "text": [
            "+-----+----+-------------------+-----+----+-------+-----+\n",
            "|sl No|name|            college|  hsc|SSLC|arrears|cmark|\n",
            "+-----+----+-------------------+-----+----+-------+-----+\n",
            "|    1|  A1|               IITM| 89.9|92.6|      0|   95|\n",
            "|    2|  A2|    ANNA UNIVERSITY| 76.8|77.9|     28|   89|\n",
            "|    3|  A3|    ANNA UNIVERSITY|88.39|85.6|      6|   99|\n",
            "|    4|  A4|ANAMALAI UNIVERSITY| 92.5|94.6|      1|   76|\n",
            "|    5|  A5|                 28| 79.3|  65|      2|   89|\n",
            "|    6|  A6|                SRM|   28|88.1|      0| 89.6|\n",
            "|    7|  A7|           SAVEETHA| 91.8|  28|      7| 78.3|\n",
            "|    8|  A8|                 28| 99.8|65.8|      6| 77.5|\n",
            "|   28|  28|                 28|   28|  28|     28|   28|\n",
            "|    9|  A9|ANAMALAI UNIVERSITY| 98.7|  91|      2|   76|\n",
            "|   10|  AD|             fogjof|   56|   9|     78|    2|\n",
            "|   11| A10|               IITM|   94|77.6|      1|   75|\n",
            "|   12| A11|               IITK| 88.2|75.9|      2|   72|\n",
            "|   13| A12|                 28| 78.9|84.9|      3|   83|\n",
            "|   14| A13|                SRM| 86.9|  97|      4|   92|\n",
            "+-----+----+-------------------+-----+----+-------+-----+\n",
            "\n"
          ]
        }
      ]
    },
    {
      "cell_type": "code",
      "source": [
        "ax.printSchema()"
      ],
      "metadata": {
        "colab": {
          "base_uri": "https://localhost:8080/"
        },
        "id": "OdNcxRJMozPD",
        "outputId": "e2f0aa2f-45f7-4d9a-ce12-baafc99e21ed"
      },
      "execution_count": null,
      "outputs": [
        {
          "output_type": "stream",
          "name": "stdout",
          "text": [
            "root\n",
            " |-- sl No: string (nullable = true)\n",
            " |-- name: string (nullable = true)\n",
            " |-- college: string (nullable = true)\n",
            " |-- hsc: string (nullable = true)\n",
            " |-- SSLC: string (nullable = true)\n",
            " |-- arrears: string (nullable = true)\n",
            " |-- cmark: string (nullable = true)\n",
            "\n"
          ]
        }
      ]
    },
    {
      "cell_type": "code",
      "source": [
        ""
      ],
      "metadata": {
        "id": "so8KdPlkozXY"
      },
      "execution_count": null,
      "outputs": []
    },
    {
      "cell_type": "code",
      "source": [
        ""
      ],
      "metadata": {
        "id": "Xx0vWSr7ozZ5"
      },
      "execution_count": null,
      "outputs": []
    },
    {
      "cell_type": "code",
      "source": [
        ""
      ],
      "metadata": {
        "id": "92XBy76aoze6"
      },
      "execution_count": null,
      "outputs": []
    },
    {
      "cell_type": "code",
      "source": [
        ""
      ],
      "metadata": {
        "id": "wvilm67hoziR"
      },
      "execution_count": null,
      "outputs": []
    },
    {
      "cell_type": "code",
      "source": [
        ""
      ],
      "metadata": {
        "id": "ihhWI-PJozk_"
      },
      "execution_count": null,
      "outputs": []
    },
    {
      "cell_type": "code",
      "source": [
        "##or we can do"
      ],
      "metadata": {
        "id": "8s_Ofmdfnnyr"
      },
      "execution_count": null,
      "outputs": []
    },
    {
      "cell_type": "code",
      "source": [
        "d=[('raj','mech',45000),('hari','civil',60000),('maha','ece',50000),('diva','ece',65000),('ram','mech',33000),('kavin','mech',45000),('diva','civil',65000)]"
      ],
      "metadata": {
        "id": "mdXOmKtMmcJv"
      },
      "execution_count": null,
      "outputs": []
    },
    {
      "cell_type": "code",
      "source": [
        "col=['firstname','gender','salary']"
      ],
      "metadata": {
        "id": "SgVf8kFpnn1v"
      },
      "execution_count": null,
      "outputs": []
    },
    {
      "cell_type": "code",
      "source": [
        "cx=spark.createDataFrame(data=d,schema=col)\n",
        "cx.printSchema()\n",
        "cx.show()"
      ],
      "metadata": {
        "colab": {
          "base_uri": "https://localhost:8080/"
        },
        "id": "REmewCSbnn39",
        "outputId": "ad131963-faaa-4c56-ae7b-91b9f10b0c73"
      },
      "execution_count": null,
      "outputs": [
        {
          "output_type": "stream",
          "name": "stdout",
          "text": [
            "root\n",
            " |-- firstname: string (nullable = true)\n",
            " |-- gender: string (nullable = true)\n",
            " |-- salary: long (nullable = true)\n",
            "\n",
            "+---------+------+------+\n",
            "|firstname|gender|salary|\n",
            "+---------+------+------+\n",
            "|      raj|  mech| 45000|\n",
            "|     hari| civil| 60000|\n",
            "|     maha|   ece| 50000|\n",
            "|     diva|   ece| 65000|\n",
            "|      ram|  mech| 33000|\n",
            "|    kavin|  mech| 45000|\n",
            "|     diva| civil| 65000|\n",
            "+---------+------+------+\n",
            "\n"
          ]
        }
      ]
    },
    {
      "cell_type": "code",
      "source": [
        "d=[('raj','mech',45000),('hari','civil',60000),('maha','ece',50000),('diva','ece',65000),('ram','mech',33000),('kavin','mech',45000),('diva','civil',65000)]"
      ],
      "metadata": {
        "id": "5s47ot1IZrpM"
      },
      "execution_count": null,
      "outputs": []
    },
    {
      "cell_type": "code",
      "source": [
        "e=[\"name\",\"department\",\"salary\"]"
      ],
      "metadata": {
        "id": "ka2ok5WGtmtz"
      },
      "execution_count": null,
      "outputs": []
    },
    {
      "cell_type": "code",
      "source": [
        "dx=spark.createDataFrame(data=d,schema=e)\n",
        "dx.printSchema()\n",
        "dx.show(truncate=False)"
      ],
      "metadata": {
        "id": "n3H3wPBXtmww",
        "colab": {
          "base_uri": "https://localhost:8080/"
        },
        "outputId": "8ce039fa-85ed-422f-9b01-1b3a76364b43"
      },
      "execution_count": null,
      "outputs": [
        {
          "output_type": "stream",
          "name": "stdout",
          "text": [
            "root\n",
            " |-- name: string (nullable = true)\n",
            " |-- department: string (nullable = true)\n",
            " |-- salary: long (nullable = true)\n",
            "\n",
            "+-----+----------+------+\n",
            "|name |department|salary|\n",
            "+-----+----------+------+\n",
            "|raj  |mech      |45000 |\n",
            "|hari |civil     |60000 |\n",
            "|maha |ece       |50000 |\n",
            "|diva |ece       |65000 |\n",
            "|ram  |mech      |33000 |\n",
            "|kavin|mech      |45000 |\n",
            "|diva |civil     |65000 |\n",
            "+-----+----------+------+\n",
            "\n"
          ]
        }
      ]
    },
    {
      "cell_type": "code",
      "source": [
        "ex=dx.distinct()#to remove duplicate values\n",
        "ex.show()"
      ],
      "metadata": {
        "id": "75mXZyTstmzK",
        "colab": {
          "base_uri": "https://localhost:8080/"
        },
        "outputId": "dc33395d-ab13-4b87-a112-c541d726b122"
      },
      "execution_count": null,
      "outputs": [
        {
          "output_type": "stream",
          "name": "stdout",
          "text": [
            "+-----+----------+------+\n",
            "| name|department|salary|\n",
            "+-----+----------+------+\n",
            "|  raj|      mech| 45000|\n",
            "| maha|       ece| 50000|\n",
            "| hari|     civil| 60000|\n",
            "|kavin|      mech| 45000|\n",
            "|  ram|      mech| 33000|\n",
            "| diva|     civil| 65000|\n",
            "| diva|       ece| 65000|\n",
            "+-----+----------+------+\n",
            "\n"
          ]
        }
      ]
    },
    {
      "cell_type": "code",
      "source": [
        "fx=dx.dropDuplicates()#to remove duplicate\n",
        "fx.show()"
      ],
      "metadata": {
        "colab": {
          "base_uri": "https://localhost:8080/"
        },
        "id": "fegESCD9kOJq",
        "outputId": "1efca04e-610a-493e-e4a7-cc1f18a57a37"
      },
      "execution_count": null,
      "outputs": [
        {
          "output_type": "stream",
          "name": "stdout",
          "text": [
            "+-----+----------+------+\n",
            "| name|department|salary|\n",
            "+-----+----------+------+\n",
            "|  raj|      mech| 45000|\n",
            "| maha|       ece| 50000|\n",
            "| hari|     civil| 60000|\n",
            "|kavin|      mech| 45000|\n",
            "|  ram|      mech| 33000|\n",
            "| diva|     civil| 65000|\n",
            "| diva|       ece| 65000|\n",
            "+-----+----------+------+\n",
            "\n"
          ]
        }
      ]
    },
    {
      "cell_type": "code",
      "source": [
        "fx=dx.dropDuplicates(['department','salary'])#if it satiesfies both coloums it will delete that\n",
        "fx.show()"
      ],
      "metadata": {
        "colab": {
          "base_uri": "https://localhost:8080/"
        },
        "id": "saBxaEgCfaWE",
        "outputId": "ae483fc1-db7e-41b0-855b-6e93df423e45"
      },
      "execution_count": null,
      "outputs": [
        {
          "output_type": "stream",
          "name": "stdout",
          "text": [
            "+----+----------+------+\n",
            "|name|department|salary|\n",
            "+----+----------+------+\n",
            "|hari|     civil| 60000|\n",
            "|diva|     civil| 65000|\n",
            "|maha|       ece| 50000|\n",
            "|diva|       ece| 65000|\n",
            "| ram|      mech| 33000|\n",
            "| raj|      mech| 45000|\n",
            "+----+----------+------+\n",
            "\n"
          ]
        }
      ]
    },
    {
      "cell_type": "code",
      "source": [
        "gx=dx.dropDuplicates(['salary','department'])#if it satiesfies both coloums it will delete that and sorting those values and gives more priority with first coloum name\n",
        "gx.show()"
      ],
      "metadata": {
        "colab": {
          "base_uri": "https://localhost:8080/"
        },
        "id": "56E-KDe7faYi",
        "outputId": "aad10c17-b4a9-445e-b708-31a972dcff9d"
      },
      "execution_count": null,
      "outputs": [
        {
          "output_type": "stream",
          "name": "stdout",
          "text": [
            "+----+----------+------+\n",
            "|name|department|salary|\n",
            "+----+----------+------+\n",
            "| ram|      mech| 33000|\n",
            "| raj|      mech| 45000|\n",
            "|maha|       ece| 50000|\n",
            "|hari|     civil| 60000|\n",
            "|diva|     civil| 65000|\n",
            "|diva|       ece| 65000|\n",
            "+----+----------+------+\n",
            "\n"
          ]
        }
      ]
    },
    {
      "cell_type": "code",
      "source": [
        "dx.filter(dx.department!='mech').show()"
      ],
      "metadata": {
        "colab": {
          "base_uri": "https://localhost:8080/"
        },
        "id": "kyNG8Bgcfafm",
        "outputId": "9f4a94f2-7e80-4d89-a1f3-89dc59f887c6"
      },
      "execution_count": null,
      "outputs": [
        {
          "output_type": "stream",
          "name": "stdout",
          "text": [
            "+----+----------+------+\n",
            "|name|department|salary|\n",
            "+----+----------+------+\n",
            "|hari|     civil| 60000|\n",
            "|maha|       ece| 50000|\n",
            "|diva|       ece| 65000|\n",
            "|diva|     civil| 65000|\n",
            "+----+----------+------+\n",
            "\n"
          ]
        }
      ]
    },
    {
      "cell_type": "code",
      "source": [
        "dx.filter(dx.department=='mech').show()"
      ],
      "metadata": {
        "colab": {
          "base_uri": "https://localhost:8080/"
        },
        "id": "tyR04yowfakt",
        "outputId": "ccfc917c-79fd-45a1-dda2-445a96af5e7d"
      },
      "execution_count": null,
      "outputs": [
        {
          "output_type": "stream",
          "name": "stdout",
          "text": [
            "+-----+----------+------+\n",
            "| name|department|salary|\n",
            "+-----+----------+------+\n",
            "|  raj|      mech| 45000|\n",
            "|  ram|      mech| 33000|\n",
            "|kavin|      mech| 45000|\n",
            "+-----+----------+------+\n",
            "\n"
          ]
        }
      ]
    },
    {
      "cell_type": "code",
      "source": [
        "dx.filter(~(dx.department=='mech')).show()"
      ],
      "metadata": {
        "colab": {
          "base_uri": "https://localhost:8080/"
        },
        "id": "TZA-L8FGfaq3",
        "outputId": "b6ff8a2b-8195-4ac1-92f5-8db061267850"
      },
      "execution_count": null,
      "outputs": [
        {
          "output_type": "stream",
          "name": "stdout",
          "text": [
            "+----+----------+------+\n",
            "|name|department|salary|\n",
            "+----+----------+------+\n",
            "|hari|     civil| 60000|\n",
            "|maha|       ece| 50000|\n",
            "|diva|       ece| 65000|\n",
            "|diva|     civil| 65000|\n",
            "+----+----------+------+\n",
            "\n"
          ]
        }
      ]
    },
    {
      "cell_type": "code",
      "source": [
        "dx.filter(dx.salary>=50000).show()"
      ],
      "metadata": {
        "colab": {
          "base_uri": "https://localhost:8080/"
        },
        "id": "ct6yiGK4fauu",
        "outputId": "4fc298f6-8a70-4e2b-c82d-65af03d48e23"
      },
      "execution_count": null,
      "outputs": [
        {
          "output_type": "stream",
          "name": "stdout",
          "text": [
            "+----+----------+------+\n",
            "|name|department|salary|\n",
            "+----+----------+------+\n",
            "|hari|     civil| 60000|\n",
            "|maha|       ece| 50000|\n",
            "|diva|       ece| 65000|\n",
            "|diva|     civil| 65000|\n",
            "+----+----------+------+\n",
            "\n"
          ]
        }
      ]
    },
    {
      "cell_type": "code",
      "source": [
        "dx.filter((dx.salary>=30000)&(dx.department=='mech')).show()"
      ],
      "metadata": {
        "colab": {
          "base_uri": "https://localhost:8080/"
        },
        "id": "0jV46X0TfayC",
        "outputId": "b49b9b82-a6fb-47b2-8c0a-71bedd15992d"
      },
      "execution_count": null,
      "outputs": [
        {
          "output_type": "stream",
          "name": "stdout",
          "text": [
            "+-----+----------+------+\n",
            "| name|department|salary|\n",
            "+-----+----------+------+\n",
            "|  raj|      mech| 45000|\n",
            "|  ram|      mech| 33000|\n",
            "|kavin|      mech| 45000|\n",
            "+-----+----------+------+\n",
            "\n"
          ]
        }
      ]
    },
    {
      "cell_type": "code",
      "source": [
        "dx.filter((dx.salary>50000)|(dx.department=='mech')).show()"
      ],
      "metadata": {
        "colab": {
          "base_uri": "https://localhost:8080/"
        },
        "id": "JMABxu_Hfa3Z",
        "outputId": "082ae6a1-74a7-4970-bca2-0111ade3a18f"
      },
      "execution_count": null,
      "outputs": [
        {
          "output_type": "stream",
          "name": "stdout",
          "text": [
            "+-----+----------+------+\n",
            "| name|department|salary|\n",
            "+-----+----------+------+\n",
            "|  raj|      mech| 45000|\n",
            "| hari|     civil| 60000|\n",
            "| diva|       ece| 65000|\n",
            "|  ram|      mech| 33000|\n",
            "|kavin|      mech| 45000|\n",
            "| diva|     civil| 65000|\n",
            "+-----+----------+------+\n",
            "\n"
          ]
        }
      ]
    },
    {
      "cell_type": "code",
      "source": [
        "gx=['ece','civil']\n",
        "hx=[65000]\n",
        "dx.filter((dx.department.isin(gx))|(dx.department.isin(hx))).show()"
      ],
      "metadata": {
        "colab": {
          "base_uri": "https://localhost:8080/"
        },
        "id": "vcpAhQEVfa5-",
        "outputId": "ba9db4c6-353c-4def-cd9c-560514575ecd"
      },
      "execution_count": null,
      "outputs": [
        {
          "output_type": "stream",
          "name": "stdout",
          "text": [
            "+----+----------+------+\n",
            "|name|department|salary|\n",
            "+----+----------+------+\n",
            "|hari|     civil| 60000|\n",
            "|maha|       ece| 50000|\n",
            "|diva|       ece| 65000|\n",
            "|diva|     civil| 65000|\n",
            "+----+----------+------+\n",
            "\n"
          ]
        }
      ]
    },
    {
      "cell_type": "code",
      "source": [
        "dx.filter(dx.name.startswith('r')).show()"
      ],
      "metadata": {
        "colab": {
          "base_uri": "https://localhost:8080/"
        },
        "id": "GNWXvs93fa82",
        "outputId": "c5cd2381-6283-43cc-c8f6-6d35b3c036c4"
      },
      "execution_count": null,
      "outputs": [
        {
          "output_type": "stream",
          "name": "stdout",
          "text": [
            "+----+----------+------+\n",
            "|name|department|salary|\n",
            "+----+----------+------+\n",
            "| raj|      mech| 45000|\n",
            "| ram|      mech| 33000|\n",
            "+----+----------+------+\n",
            "\n"
          ]
        }
      ]
    },
    {
      "cell_type": "code",
      "source": [
        "dx.filter((dx.name.endswith('a'))|(dx.name.endswith('n'))).show()"
      ],
      "metadata": {
        "colab": {
          "base_uri": "https://localhost:8080/"
        },
        "id": "Ee_RFzLBle7k",
        "outputId": "06fe5ba2-a32b-4327-904e-ee1a5a732fcd"
      },
      "execution_count": null,
      "outputs": [
        {
          "output_type": "stream",
          "name": "stdout",
          "text": [
            "+-----+----------+------+\n",
            "| name|department|salary|\n",
            "+-----+----------+------+\n",
            "| maha|       ece| 50000|\n",
            "| diva|       ece| 65000|\n",
            "|kavin|      mech| 45000|\n",
            "| diva|     civil| 65000|\n",
            "+-----+----------+------+\n",
            "\n"
          ]
        }
      ]
    },
    {
      "cell_type": "code",
      "source": [
        "dx.show()"
      ],
      "metadata": {
        "colab": {
          "base_uri": "https://localhost:8080/"
        },
        "id": "lr86LhHQle-j",
        "outputId": "4e2d4929-d7e8-4aae-e98c-d68e86c486b3"
      },
      "execution_count": null,
      "outputs": [
        {
          "output_type": "stream",
          "name": "stdout",
          "text": [
            "+-----+----------+------+\n",
            "| name|department|salary|\n",
            "+-----+----------+------+\n",
            "|  raj|      mech| 45000|\n",
            "| hari|     civil| 60000|\n",
            "| maha|       ece| 50000|\n",
            "| diva|       ece| 65000|\n",
            "|  ram|      mech| 33000|\n",
            "|kavin|      mech| 45000|\n",
            "| diva|     civil| 65000|\n",
            "+-----+----------+------+\n",
            "\n"
          ]
        }
      ]
    },
    {
      "cell_type": "code",
      "source": [
        "f=[('rashfgj','mech',45000),('hari','civil',60000),('maskfgha','ece',50000),('diva','ece',65000),('ram','mech',33000),('kavin','mech',45000),('dfgiva','civil',65000)]\n",
        "g=[\"name\",\"department\",\"salary\"]\n",
        "hx=spark.createDataFrame(data=f,schema=g)\n",
        "hx.printSchema()\n",
        "hx.show(truncate=False)"
      ],
      "metadata": {
        "colab": {
          "base_uri": "https://localhost:8080/"
        },
        "id": "bAMb0wZxlfB1",
        "outputId": "94cb0139-766d-4029-eb92-93ce78c4613d"
      },
      "execution_count": null,
      "outputs": [
        {
          "output_type": "stream",
          "name": "stdout",
          "text": [
            "root\n",
            " |-- name: string (nullable = true)\n",
            " |-- department: string (nullable = true)\n",
            " |-- salary: long (nullable = true)\n",
            "\n",
            "+--------+----------+------+\n",
            "|name    |department|salary|\n",
            "+--------+----------+------+\n",
            "|rashfgj |mech      |45000 |\n",
            "|hari    |civil     |60000 |\n",
            "|maskfgha|ece       |50000 |\n",
            "|diva    |ece       |65000 |\n",
            "|ram     |mech      |33000 |\n",
            "|kavin   |mech      |45000 |\n",
            "|dfgiva  |civil     |65000 |\n",
            "+--------+----------+------+\n",
            "\n"
          ]
        }
      ]
    },
    {
      "cell_type": "code",
      "source": [
        "hx.filter(hx.name.contains('fg')).show()"
      ],
      "metadata": {
        "colab": {
          "base_uri": "https://localhost:8080/"
        },
        "id": "rGx0XZOBlfE0",
        "outputId": "0ef48815-c174-4f9c-e066-3668832f9b46"
      },
      "execution_count": null,
      "outputs": [
        {
          "output_type": "stream",
          "name": "stdout",
          "text": [
            "+--------+----------+------+\n",
            "|    name|department|salary|\n",
            "+--------+----------+------+\n",
            "| rashfgj|      mech| 45000|\n",
            "|maskfgha|       ece| 50000|\n",
            "|  dfgiva|     civil| 65000|\n",
            "+--------+----------+------+\n",
            "\n"
          ]
        }
      ]
    },
    {
      "cell_type": "code",
      "source": [
        "hx.filter(hx.name.like('%fg%')).show()"
      ],
      "metadata": {
        "colab": {
          "base_uri": "https://localhost:8080/"
        },
        "id": "NbVhqRQclfI5",
        "outputId": "a536fa3f-3dbc-41b2-9152-ce2d6aa7ee12"
      },
      "execution_count": null,
      "outputs": [
        {
          "output_type": "stream",
          "name": "stdout",
          "text": [
            "+--------+----------+------+\n",
            "|    name|department|salary|\n",
            "+--------+----------+------+\n",
            "| rashfgj|      mech| 45000|\n",
            "|maskfgha|       ece| 50000|\n",
            "|  dfgiva|     civil| 65000|\n",
            "+--------+----------+------+\n",
            "\n"
          ]
        }
      ]
    },
    {
      "cell_type": "code",
      "source": [
        "hx.filter(hx.name.like('%s_fg%')).show()#we can use %s__fg% or %s%fg%"
      ],
      "metadata": {
        "colab": {
          "base_uri": "https://localhost:8080/"
        },
        "id": "uXbamjT8lfL2",
        "outputId": "76e8910f-619a-42cc-b99f-da20dd8917f3"
      },
      "execution_count": null,
      "outputs": [
        {
          "output_type": "stream",
          "name": "stdout",
          "text": [
            "+--------+----------+------+\n",
            "|    name|department|salary|\n",
            "+--------+----------+------+\n",
            "| rashfgj|      mech| 45000|\n",
            "|maskfgha|       ece| 50000|\n",
            "+--------+----------+------+\n",
            "\n"
          ]
        }
      ]
    },
    {
      "cell_type": "code",
      "source": [
        "h=[(1,'rashfgj',101,45000),(2,'hari',102,60000),(3,'maskfgha',103,50000),(4,'diva',103,65000),(5,'ram',101,33000),(6,'kavin',101,45000),(7,'dfgiva',102,65000),(8,'hghg',104,20000),(9,\"yamini\",106,35000),(10,'ela',105,50000)]\n",
        "i=['E_id',\"name\",\"ID_dep\",\"salary\"]\n",
        "ix=spark.createDataFrame(data=h,schema=i)\n",
        "ix.printSchema()\n",
        "ix.show(truncate=False)\n",
        "j=[('hr',106),('rmg',102),('it',101),('marketing',103),('man',105),('grap',107),]\n",
        "k=['dep','dep_id']\n",
        "jx=spark.createDataFrame(data=j,schema=k)\n",
        "jx.printSchema()\n",
        "jx.show()"
      ],
      "metadata": {
        "colab": {
          "base_uri": "https://localhost:8080/"
        },
        "id": "wc35-b60lfPL",
        "outputId": "ad8fddbb-bfff-4da4-8ad9-654ecc5d44d7"
      },
      "execution_count": null,
      "outputs": [
        {
          "output_type": "stream",
          "name": "stdout",
          "text": [
            "root\n",
            " |-- E_id: long (nullable = true)\n",
            " |-- name: string (nullable = true)\n",
            " |-- ID_dep: long (nullable = true)\n",
            " |-- salary: long (nullable = true)\n",
            "\n",
            "+----+--------+------+------+\n",
            "|E_id|name    |ID_dep|salary|\n",
            "+----+--------+------+------+\n",
            "|1   |rashfgj |101   |45000 |\n",
            "|2   |hari    |102   |60000 |\n",
            "|3   |maskfgha|103   |50000 |\n",
            "|4   |diva    |103   |65000 |\n",
            "|5   |ram     |101   |33000 |\n",
            "|6   |kavin   |101   |45000 |\n",
            "|7   |dfgiva  |102   |65000 |\n",
            "|8   |hghg    |104   |20000 |\n",
            "|9   |yamini  |106   |35000 |\n",
            "|10  |ela     |105   |50000 |\n",
            "+----+--------+------+------+\n",
            "\n",
            "root\n",
            " |-- dep: string (nullable = true)\n",
            " |-- dep_id: long (nullable = true)\n",
            "\n",
            "+---------+------+\n",
            "|      dep|dep_id|\n",
            "+---------+------+\n",
            "|       hr|   106|\n",
            "|      rmg|   102|\n",
            "|       it|   101|\n",
            "|marketing|   103|\n",
            "|      man|   105|\n",
            "|     grap|   107|\n",
            "+---------+------+\n",
            "\n"
          ]
        }
      ]
    },
    {
      "cell_type": "code",
      "source": [
        "ix.join(jx,ix.ID_dep==jx.dep_id,'inner').show()#if we give inner. condition satisfies values only shown 107 will not shown here"
      ],
      "metadata": {
        "colab": {
          "base_uri": "https://localhost:8080/"
        },
        "id": "DTmwHg6olfRc",
        "outputId": "092b8a7e-d22c-4121-8873-0587eb51192d"
      },
      "execution_count": null,
      "outputs": [
        {
          "output_type": "stream",
          "name": "stdout",
          "text": [
            "+----+--------+------+------+---------+------+\n",
            "|E_id|    name|ID_dep|salary|      dep|dep_id|\n",
            "+----+--------+------+------+---------+------+\n",
            "|   1| rashfgj|   101| 45000|       it|   101|\n",
            "|   5|     ram|   101| 33000|       it|   101|\n",
            "|   6|   kavin|   101| 45000|       it|   101|\n",
            "|   2|    hari|   102| 60000|      rmg|   102|\n",
            "|   7|  dfgiva|   102| 65000|      rmg|   102|\n",
            "|   3|maskfgha|   103| 50000|marketing|   103|\n",
            "|   4|    diva|   103| 65000|marketing|   103|\n",
            "|  10|     ela|   105| 50000|      man|   105|\n",
            "|   9|  yamini|   106| 35000|       hr|   106|\n",
            "+----+--------+------+------+---------+------+\n",
            "\n"
          ]
        }
      ]
    },
    {
      "cell_type": "code",
      "source": [
        "ix.join(jx,ix.ID_dep==jx.dep_id,'outer').show()#instead of outer we can use full or fullouter"
      ],
      "metadata": {
        "colab": {
          "base_uri": "https://localhost:8080/"
        },
        "id": "D6onRmi_lfWt",
        "outputId": "9ef7f574-d573-4acf-b03f-ebee6c70e9d1"
      },
      "execution_count": null,
      "outputs": [
        {
          "output_type": "stream",
          "name": "stdout",
          "text": [
            "+----+--------+------+------+---------+------+\n",
            "|E_id|    name|ID_dep|salary|      dep|dep_id|\n",
            "+----+--------+------+------+---------+------+\n",
            "|   1| rashfgj|   101| 45000|       it|   101|\n",
            "|   5|     ram|   101| 33000|       it|   101|\n",
            "|   6|   kavin|   101| 45000|       it|   101|\n",
            "|   2|    hari|   102| 60000|      rmg|   102|\n",
            "|   7|  dfgiva|   102| 65000|      rmg|   102|\n",
            "|   3|maskfgha|   103| 50000|marketing|   103|\n",
            "|   4|    diva|   103| 65000|marketing|   103|\n",
            "|   8|    hghg|   104| 20000|     null|  null|\n",
            "|  10|     ela|   105| 50000|      man|   105|\n",
            "|   9|  yamini|   106| 35000|       hr|   106|\n",
            "|null|    null|  null|  null|     grap|   107|\n",
            "+----+--------+------+------+---------+------+\n",
            "\n"
          ]
        }
      ]
    },
    {
      "cell_type": "code",
      "source": [
        "ix.join(jx,ix.ID_dep==jx.dep_id,'leftouter').show()#leftouter,left_outer also we can give"
      ],
      "metadata": {
        "colab": {
          "base_uri": "https://localhost:8080/"
        },
        "id": "EzbycIpUlfZ8",
        "outputId": "5aa00d0f-4137-4bb9-fc77-4d8b3c88f13c"
      },
      "execution_count": null,
      "outputs": [
        {
          "output_type": "stream",
          "name": "stdout",
          "text": [
            "+----+--------+------+------+---------+------+\n",
            "|E_id|    name|ID_dep|salary|      dep|dep_id|\n",
            "+----+--------+------+------+---------+------+\n",
            "|   1| rashfgj|   101| 45000|       it|   101|\n",
            "|   5|     ram|   101| 33000|       it|   101|\n",
            "|   6|   kavin|   101| 45000|       it|   101|\n",
            "|   2|    hari|   102| 60000|      rmg|   102|\n",
            "|   7|  dfgiva|   102| 65000|      rmg|   102|\n",
            "|   3|maskfgha|   103| 50000|marketing|   103|\n",
            "|   4|    diva|   103| 65000|marketing|   103|\n",
            "|   8|    hghg|   104| 20000|     null|  null|\n",
            "|  10|     ela|   105| 50000|      man|   105|\n",
            "|   9|  yamini|   106| 35000|       hr|   106|\n",
            "+----+--------+------+------+---------+------+\n",
            "\n"
          ]
        }
      ]
    },
    {
      "cell_type": "code",
      "source": [
        "ix.join(jx,ix.ID_dep==jx.dep_id,'right').show()#rightouter,right_outer also we can give"
      ],
      "metadata": {
        "colab": {
          "base_uri": "https://localhost:8080/"
        },
        "id": "Crv7u9YVlfdC",
        "outputId": "219a0a3c-b0cc-46d4-bb27-8c8b87b0876c"
      },
      "execution_count": null,
      "outputs": [
        {
          "output_type": "stream",
          "name": "stdout",
          "text": [
            "+----+--------+------+------+---------+------+\n",
            "|E_id|    name|ID_dep|salary|      dep|dep_id|\n",
            "+----+--------+------+------+---------+------+\n",
            "|   1| rashfgj|   101| 45000|       it|   101|\n",
            "|   5|     ram|   101| 33000|       it|   101|\n",
            "|   6|   kavin|   101| 45000|       it|   101|\n",
            "|   2|    hari|   102| 60000|      rmg|   102|\n",
            "|   7|  dfgiva|   102| 65000|      rmg|   102|\n",
            "|   3|maskfgha|   103| 50000|marketing|   103|\n",
            "|   4|    diva|   103| 65000|marketing|   103|\n",
            "|  10|     ela|   105| 50000|      man|   105|\n",
            "|   9|  yamini|   106| 35000|       hr|   106|\n",
            "|null|    null|  null|  null|     grap|   107|\n",
            "+----+--------+------+------+---------+------+\n",
            "\n"
          ]
        }
      ]
    },
    {
      "cell_type": "code",
      "source": [
        "ix.join(jx,ix.ID_dep==jx.dep_id,'leftsemi').show()#it works based on inner logic and picks only left table"
      ],
      "metadata": {
        "colab": {
          "base_uri": "https://localhost:8080/"
        },
        "id": "1fQZdCcelffm",
        "outputId": "1b46ebe3-ce54-477c-f06f-3283f2ba7345"
      },
      "execution_count": null,
      "outputs": [
        {
          "output_type": "stream",
          "name": "stdout",
          "text": [
            "+----+--------+------+------+\n",
            "|E_id|    name|ID_dep|salary|\n",
            "+----+--------+------+------+\n",
            "|   1| rashfgj|   101| 45000|\n",
            "|   5|     ram|   101| 33000|\n",
            "|   6|   kavin|   101| 45000|\n",
            "|   2|    hari|   102| 60000|\n",
            "|   7|  dfgiva|   102| 65000|\n",
            "|   3|maskfgha|   103| 50000|\n",
            "|   4|    diva|   103| 65000|\n",
            "|  10|     ela|   105| 50000|\n",
            "|   9|  yamini|   106| 35000|\n",
            "+----+--------+------+------+\n",
            "\n"
          ]
        }
      ]
    },
    {
      "cell_type": "code",
      "source": [
        "ix.join(jx,ix.ID_dep==jx.dep_id,'leftanti').show()#opposite leftsemi"
      ],
      "metadata": {
        "colab": {
          "base_uri": "https://localhost:8080/"
        },
        "id": "FOU8dEq4fa_f",
        "outputId": "e47dca8e-ad03-4377-ef1e-47cff17b6a68"
      },
      "execution_count": null,
      "outputs": [
        {
          "output_type": "stream",
          "name": "stdout",
          "text": [
            "+----+----+------+------+\n",
            "|E_id|name|ID_dep|salary|\n",
            "+----+----+------+------+\n",
            "|   8|hghg|   104| 20000|\n",
            "+----+----+------+------+\n",
            "\n"
          ]
        }
      ]
    },
    {
      "cell_type": "code",
      "source": [
        "m=[(1,'rashfgj',101,45000),(2,'hari',102,60000),(3,'maskfgha',103,50000),(4,'diva',103,65000)]\n",
        "l=[(5,'ram',101,33000),(6,'kavin',101,45000),(2,'hari',102,60000),(7,'dfgiva',102,65000),(8,'hghg',104,20000),(9,\"yamini\",106,35000),(10,'ela',105,50000)]\n",
        "n=['E_id',\"name\",\"ID_dep\",\"salary\"]\n",
        "kx=spark.createDataFrame(data=m,schema=n)\n",
        "kx.printSchema()\n",
        "kx.show(truncate=False)\n",
        "lx=spark.createDataFrame(data=l,schema=n)\n",
        "lx.printSchema()\n",
        "lx.show(truncate=False)"
      ],
      "metadata": {
        "colab": {
          "base_uri": "https://localhost:8080/"
        },
        "id": "G5ChDrYC0KWs",
        "outputId": "c4f6fb48-8547-489b-80f3-1a1c4d4697bc"
      },
      "execution_count": null,
      "outputs": [
        {
          "output_type": "stream",
          "name": "stdout",
          "text": [
            "root\n",
            " |-- E_id: long (nullable = true)\n",
            " |-- name: string (nullable = true)\n",
            " |-- ID_dep: long (nullable = true)\n",
            " |-- salary: long (nullable = true)\n",
            "\n",
            "+----+--------+------+------+\n",
            "|E_id|name    |ID_dep|salary|\n",
            "+----+--------+------+------+\n",
            "|1   |rashfgj |101   |45000 |\n",
            "|2   |hari    |102   |60000 |\n",
            "|3   |maskfgha|103   |50000 |\n",
            "|4   |diva    |103   |65000 |\n",
            "+----+--------+------+------+\n",
            "\n",
            "root\n",
            " |-- E_id: long (nullable = true)\n",
            " |-- name: string (nullable = true)\n",
            " |-- ID_dep: long (nullable = true)\n",
            " |-- salary: long (nullable = true)\n",
            "\n",
            "+----+------+------+------+\n",
            "|E_id|name  |ID_dep|salary|\n",
            "+----+------+------+------+\n",
            "|5   |ram   |101   |33000 |\n",
            "|6   |kavin |101   |45000 |\n",
            "|2   |hari  |102   |60000 |\n",
            "|7   |dfgiva|102   |65000 |\n",
            "|8   |hghg  |104   |20000 |\n",
            "|9   |yamini|106   |35000 |\n",
            "|10  |ela   |105   |50000 |\n",
            "+----+------+------+------+\n",
            "\n"
          ]
        }
      ]
    },
    {
      "cell_type": "code",
      "source": [
        "mx=kx.union(lx)\n",
        "mx.show()"
      ],
      "metadata": {
        "colab": {
          "base_uri": "https://localhost:8080/"
        },
        "id": "ZMlEyC2a0KZV",
        "outputId": "e0eb1a4c-1d11-4864-add3-55823b44bc8a"
      },
      "execution_count": null,
      "outputs": [
        {
          "output_type": "stream",
          "name": "stdout",
          "text": [
            "+----+--------+------+------+\n",
            "|E_id|    name|ID_dep|salary|\n",
            "+----+--------+------+------+\n",
            "|   1| rashfgj|   101| 45000|\n",
            "|   2|    hari|   102| 60000|\n",
            "|   3|maskfgha|   103| 50000|\n",
            "|   4|    diva|   103| 65000|\n",
            "|   5|     ram|   101| 33000|\n",
            "|   6|   kavin|   101| 45000|\n",
            "|   2|    hari|   102| 60000|\n",
            "|   7|  dfgiva|   102| 65000|\n",
            "|   8|    hghg|   104| 20000|\n",
            "|   9|  yamini|   106| 35000|\n",
            "|  10|     ela|   105| 50000|\n",
            "+----+--------+------+------+\n",
            "\n"
          ]
        }
      ]
    },
    {
      "cell_type": "code",
      "source": [
        "nx=kx.union(lx).distinct()#ncr combination\n",
        "nx.show()"
      ],
      "metadata": {
        "colab": {
          "base_uri": "https://localhost:8080/"
        },
        "id": "IAbqo_j20KcS",
        "outputId": "36712009-b78a-4281-cf48-3ec5c3da18d8"
      },
      "execution_count": null,
      "outputs": [
        {
          "output_type": "stream",
          "name": "stdout",
          "text": [
            "+----+--------+------+------+\n",
            "|E_id|    name|ID_dep|salary|\n",
            "+----+--------+------+------+\n",
            "|   2|    hari|   102| 60000|\n",
            "|   1| rashfgj|   101| 45000|\n",
            "|   4|    diva|   103| 65000|\n",
            "|   3|maskfgha|   103| 50000|\n",
            "|   6|   kavin|   101| 45000|\n",
            "|   5|     ram|   101| 33000|\n",
            "|   7|  dfgiva|   102| 65000|\n",
            "|  10|     ela|   105| 50000|\n",
            "|   8|    hghg|   104| 20000|\n",
            "|   9|  yamini|   106| 35000|\n",
            "+----+--------+------+------+\n",
            "\n"
          ]
        }
      ]
    },
    {
      "cell_type": "code",
      "source": [
        "m=[(1,'rashfgj',101,45000),(2,'',102,60000),(3,'maskfgha',103,50000),(4,'diva',103,65000)]\n",
        "l=[(5,'ram',101,33000),(6,'kavin',101,45000),(2,'hari',102,60000),(7,'dfgiva',102,65000),(8,'hghg',104,20000),(9,\"yamini\",106,35000),(10,'ela',105,50000)]\n",
        "n=['E_id',\"name\",\"ID_dep\",\"salary\"]\n",
        "kx=spark.createDataFrame(data=m,schema=n)\n",
        "kx.printSchema()\n",
        "kx.show(truncate=False)"
      ],
      "metadata": {
        "id": "bdLCSw2r0Kew",
        "colab": {
          "base_uri": "https://localhost:8080/"
        },
        "outputId": "384c0f93-b687-4e7a-b88e-3f736cd7fe6f"
      },
      "execution_count": null,
      "outputs": [
        {
          "output_type": "stream",
          "name": "stdout",
          "text": [
            "root\n",
            " |-- E_id: long (nullable = true)\n",
            " |-- name: string (nullable = true)\n",
            " |-- ID_dep: long (nullable = true)\n",
            " |-- salary: long (nullable = true)\n",
            "\n",
            "+----+--------+------+------+\n",
            "|E_id|name    |ID_dep|salary|\n",
            "+----+--------+------+------+\n",
            "|1   |rashfgj |101   |45000 |\n",
            "|2   |        |102   |60000 |\n",
            "|3   |maskfgha|103   |50000 |\n",
            "|4   |diva    |103   |65000 |\n",
            "+----+--------+------+------+\n",
            "\n"
          ]
        }
      ]
    },
    {
      "cell_type": "code",
      "source": [
        "h=[(1,'rashfgj',101,45000),(2,'',102,60000),(3,'maskfgha',103,50000),(4,'diva',103,65000),(5,'ram',101,33000),(6,'kavin',101,45000),(7,'dfgiva',102,65000),(8,'hghg',104,20000),(9,\"yamini\",106,35000),(10,'ela',105,50000)]\n",
        "i=['E_id',\"name\",\"ID_dep\",\"salary\"]\n",
        "ix=spark.createDataFrame(data=h,schema=i)\n",
        "ix.printSchema()\n",
        "ix.show(truncate=False)"
      ],
      "metadata": {
        "id": "eLE4Nnml0KlB",
        "colab": {
          "base_uri": "https://localhost:8080/"
        },
        "outputId": "46509f69-efb3-415a-a895-bfb606d7e5b5"
      },
      "execution_count": null,
      "outputs": [
        {
          "output_type": "stream",
          "name": "stdout",
          "text": [
            "root\n",
            " |-- E_id: long (nullable = true)\n",
            " |-- name: string (nullable = true)\n",
            " |-- ID_dep: long (nullable = true)\n",
            " |-- salary: long (nullable = true)\n",
            "\n",
            "+----+--------+------+------+\n",
            "|E_id|name    |ID_dep|salary|\n",
            "+----+--------+------+------+\n",
            "|1   |rashfgj |101   |45000 |\n",
            "|2   |        |102   |60000 |\n",
            "|3   |maskfgha|103   |50000 |\n",
            "|4   |diva    |103   |65000 |\n",
            "|5   |ram     |101   |33000 |\n",
            "|6   |kavin   |101   |45000 |\n",
            "|7   |dfgiva  |102   |65000 |\n",
            "|8   |hghg    |104   |20000 |\n",
            "|9   |yamini  |106   |35000 |\n",
            "|10  |ela     |105   |50000 |\n",
            "+----+--------+------+------+\n",
            "\n"
          ]
        }
      ]
    },
    {
      "cell_type": "code",
      "source": [
        "ix.sort('name').show()#for sorting"
      ],
      "metadata": {
        "id": "6e18lkRv0KnV",
        "colab": {
          "base_uri": "https://localhost:8080/"
        },
        "outputId": "e23746a2-b321-40c0-c691-ef8309c9d4bf"
      },
      "execution_count": null,
      "outputs": [
        {
          "output_type": "stream",
          "name": "stdout",
          "text": [
            "+----+--------+------+------+\n",
            "|E_id|    name|ID_dep|salary|\n",
            "+----+--------+------+------+\n",
            "|   2|        |   102| 60000|\n",
            "|   7|  dfgiva|   102| 65000|\n",
            "|   4|    diva|   103| 65000|\n",
            "|  10|     ela|   105| 50000|\n",
            "|   8|    hghg|   104| 20000|\n",
            "|   6|   kavin|   101| 45000|\n",
            "|   3|maskfgha|   103| 50000|\n",
            "|   5|     ram|   101| 33000|\n",
            "|   1| rashfgj|   101| 45000|\n",
            "|   9|  yamini|   106| 35000|\n",
            "+----+--------+------+------+\n",
            "\n"
          ]
        }
      ]
    },
    {
      "cell_type": "code",
      "source": [
        "ix.sort(ix.name.asc()).show()#sorting ascending order"
      ],
      "metadata": {
        "id": "nKyHyxmO0KqY",
        "colab": {
          "base_uri": "https://localhost:8080/"
        },
        "outputId": "3d50540b-3e91-409d-810b-2b8cb553f63d"
      },
      "execution_count": null,
      "outputs": [
        {
          "output_type": "stream",
          "name": "stdout",
          "text": [
            "+----+--------+------+------+\n",
            "|E_id|    name|ID_dep|salary|\n",
            "+----+--------+------+------+\n",
            "|   2|        |   102| 60000|\n",
            "|   7|  dfgiva|   102| 65000|\n",
            "|   4|    diva|   103| 65000|\n",
            "|  10|     ela|   105| 50000|\n",
            "|   8|    hghg|   104| 20000|\n",
            "|   6|   kavin|   101| 45000|\n",
            "|   3|maskfgha|   103| 50000|\n",
            "|   5|     ram|   101| 33000|\n",
            "|   1| rashfgj|   101| 45000|\n",
            "|   9|  yamini|   106| 35000|\n",
            "+----+--------+------+------+\n",
            "\n"
          ]
        }
      ]
    },
    {
      "cell_type": "code",
      "source": [
        "ix.sort(ix.name.desc()).show()"
      ],
      "metadata": {
        "colab": {
          "base_uri": "https://localhost:8080/"
        },
        "id": "3EwZFYcSr9XY",
        "outputId": "c27d3bfa-33ff-4a54-cfae-c32569399e9f"
      },
      "execution_count": null,
      "outputs": [
        {
          "output_type": "stream",
          "name": "stdout",
          "text": [
            "+----+--------+------+------+\n",
            "|E_id|    name|ID_dep|salary|\n",
            "+----+--------+------+------+\n",
            "|   9|  yamini|   106| 35000|\n",
            "|   1| rashfgj|   101| 45000|\n",
            "|   5|     ram|   101| 33000|\n",
            "|   3|maskfgha|   103| 50000|\n",
            "|   6|   kavin|   101| 45000|\n",
            "|   8|    hghg|   104| 20000|\n",
            "|  10|     ela|   105| 50000|\n",
            "|   4|    diva|   103| 65000|\n",
            "|   7|  dfgiva|   102| 65000|\n",
            "|   2|        |   102| 60000|\n",
            "+----+--------+------+------+\n",
            "\n"
          ]
        }
      ]
    },
    {
      "cell_type": "code",
      "source": [
        "from pyspark.sql.functions import col"
      ],
      "metadata": {
        "id": "6PYr8dbwr9aH"
      },
      "execution_count": null,
      "outputs": []
    },
    {
      "cell_type": "code",
      "source": [
        "ix.sort(col('name').asc()).show()"
      ],
      "metadata": {
        "colab": {
          "base_uri": "https://localhost:8080/"
        },
        "id": "R-MElws6r9c6",
        "outputId": "e6071385-34e3-4dec-9eef-f0991542c4c5"
      },
      "execution_count": null,
      "outputs": [
        {
          "output_type": "stream",
          "name": "stdout",
          "text": [
            "+----+--------+------+------+\n",
            "|E_id|    name|ID_dep|salary|\n",
            "+----+--------+------+------+\n",
            "|   2|        |   102| 60000|\n",
            "|   7|  dfgiva|   102| 65000|\n",
            "|   4|    diva|   103| 65000|\n",
            "|  10|     ela|   105| 50000|\n",
            "|   8|    hghg|   104| 20000|\n",
            "|   6|   kavin|   101| 45000|\n",
            "|   3|maskfgha|   103| 50000|\n",
            "|   5|     ram|   101| 33000|\n",
            "|   1| rashfgj|   101| 45000|\n",
            "|   9|  yamini|   106| 35000|\n",
            "+----+--------+------+------+\n",
            "\n"
          ]
        }
      ]
    },
    {
      "cell_type": "code",
      "source": [
        "ix.sort(col('name').asc(),col('salary').desc()).show()"
      ],
      "metadata": {
        "colab": {
          "base_uri": "https://localhost:8080/"
        },
        "id": "4LLsmq43r9iP",
        "outputId": "0497fb51-07b8-474f-e67f-aaff87fbaf45"
      },
      "execution_count": null,
      "outputs": [
        {
          "output_type": "stream",
          "name": "stdout",
          "text": [
            "+----+--------+------+------+\n",
            "|E_id|    name|ID_dep|salary|\n",
            "+----+--------+------+------+\n",
            "|   2|        |   102| 60000|\n",
            "|   7|  dfgiva|   102| 65000|\n",
            "|   4|    diva|   103| 65000|\n",
            "|  10|     ela|   105| 50000|\n",
            "|   8|    hghg|   104| 20000|\n",
            "|   6|   kavin|   101| 45000|\n",
            "|   3|maskfgha|   103| 50000|\n",
            "|   5|     ram|   101| 33000|\n",
            "|   1| rashfgj|   101| 45000|\n",
            "|   9|  yamini|   106| 35000|\n",
            "+----+--------+------+------+\n",
            "\n"
          ]
        }
      ]
    },
    {
      "cell_type": "code",
      "source": [
        "ix.orderBy(col('E_id').asc()).show()"
      ],
      "metadata": {
        "colab": {
          "base_uri": "https://localhost:8080/"
        },
        "id": "OgQ_sSzpr9kG",
        "outputId": "c7296348-dce1-4bc1-ae65-aa336bf5c4c2"
      },
      "execution_count": null,
      "outputs": [
        {
          "output_type": "stream",
          "name": "stdout",
          "text": [
            "+----+--------+------+------+\n",
            "|E_id|    name|ID_dep|salary|\n",
            "+----+--------+------+------+\n",
            "|   1| rashfgj|   101| 45000|\n",
            "|   2|        |   102| 60000|\n",
            "|   3|maskfgha|   103| 50000|\n",
            "|   4|    diva|   103| 65000|\n",
            "|   5|     ram|   101| 33000|\n",
            "|   6|   kavin|   101| 45000|\n",
            "|   7|  dfgiva|   102| 65000|\n",
            "|   8|    hghg|   104| 20000|\n",
            "|   9|  yamini|   106| 35000|\n",
            "|  10|     ela|   105| 50000|\n",
            "+----+--------+------+------+\n",
            "\n"
          ]
        }
      ]
    },
    {
      "cell_type": "code",
      "source": [
        "ix.createOrReplaceTempView('emp')#converting dataframe into sql view table \n",
        "spark.sql('select * from emp').show()"
      ],
      "metadata": {
        "colab": {
          "base_uri": "https://localhost:8080/"
        },
        "id": "pW_PooTWtB7c",
        "outputId": "7f60a952-8fbd-44f0-aed6-e259237a271c"
      },
      "execution_count": null,
      "outputs": [
        {
          "output_type": "stream",
          "name": "stdout",
          "text": [
            "+----+--------+------+------+\n",
            "|E_id|    name|ID_dep|salary|\n",
            "+----+--------+------+------+\n",
            "|   1| rashfgj|   101| 45000|\n",
            "|   2|        |   102| 60000|\n",
            "|   3|maskfgha|   103| 50000|\n",
            "|   4|    diva|   103| 65000|\n",
            "|   5|     ram|   101| 33000|\n",
            "|   6|   kavin|   101| 45000|\n",
            "|   7|  dfgiva|   102| 65000|\n",
            "|   8|    hghg|   104| 20000|\n",
            "|   9|  yamini|   106| 35000|\n",
            "|  10|     ela|   105| 50000|\n",
            "+----+--------+------+------+\n",
            "\n"
          ]
        }
      ]
    },
    {
      "cell_type": "code",
      "source": [
        "ix.createOrReplaceTempView('emp') \n",
        "spark.sql('select * from emp order by name asc').show()"
      ],
      "metadata": {
        "colab": {
          "base_uri": "https://localhost:8080/"
        },
        "id": "NtLkfm6ltB-S",
        "outputId": "ea452596-c34b-40c2-8dfa-94b6ab882a37"
      },
      "execution_count": null,
      "outputs": [
        {
          "output_type": "stream",
          "name": "stdout",
          "text": [
            "+----+--------+------+------+\n",
            "|E_id|    name|ID_dep|salary|\n",
            "+----+--------+------+------+\n",
            "|   2|        |   102| 60000|\n",
            "|   7|  dfgiva|   102| 65000|\n",
            "|   4|    diva|   103| 65000|\n",
            "|  10|     ela|   105| 50000|\n",
            "|   8|    hghg|   104| 20000|\n",
            "|   6|   kavin|   101| 45000|\n",
            "|   3|maskfgha|   103| 50000|\n",
            "|   5|     ram|   101| 33000|\n",
            "|   1| rashfgj|   101| 45000|\n",
            "|   9|  yamini|   106| 35000|\n",
            "+----+--------+------+------+\n",
            "\n"
          ]
        }
      ]
    },
    {
      "cell_type": "code",
      "source": [
        "spark.sql('select * from emp where salary>12000').show()"
      ],
      "metadata": {
        "colab": {
          "base_uri": "https://localhost:8080/"
        },
        "id": "StyJjvoOtCA1",
        "outputId": "c41530db-9dcc-4be6-8d40-8ae56996fee0"
      },
      "execution_count": null,
      "outputs": [
        {
          "output_type": "stream",
          "name": "stdout",
          "text": [
            "+----+--------+------+------+\n",
            "|E_id|    name|ID_dep|salary|\n",
            "+----+--------+------+------+\n",
            "|   1| rashfgj|   101| 45000|\n",
            "|   2|        |   102| 60000|\n",
            "|   3|maskfgha|   103| 50000|\n",
            "|   4|    diva|   103| 65000|\n",
            "|   5|     ram|   101| 33000|\n",
            "|   6|   kavin|   101| 45000|\n",
            "|   7|  dfgiva|   102| 65000|\n",
            "|   8|    hghg|   104| 20000|\n",
            "|   9|  yamini|   106| 35000|\n",
            "|  10|     ela|   105| 50000|\n",
            "+----+--------+------+------+\n",
            "\n"
          ]
        }
      ]
    },
    {
      "cell_type": "code",
      "source": [
        "ix.groupBy('ID_dep').sum('salary').show()"
      ],
      "metadata": {
        "colab": {
          "base_uri": "https://localhost:8080/"
        },
        "id": "UOvJ3F7NtCDb",
        "outputId": "9fa85f4e-1c36-4388-d51e-a1a5aae93194"
      },
      "execution_count": null,
      "outputs": [
        {
          "output_type": "stream",
          "name": "stdout",
          "text": [
            "+------+-----------+\n",
            "|ID_dep|sum(salary)|\n",
            "+------+-----------+\n",
            "|   103|     115000|\n",
            "|   101|     123000|\n",
            "|   102|     125000|\n",
            "|   104|      20000|\n",
            "|   106|      35000|\n",
            "|   105|      50000|\n",
            "+------+-----------+\n",
            "\n"
          ]
        }
      ]
    },
    {
      "cell_type": "code",
      "source": [
        "ix.groupBy('ID_dep').min('salary').show()"
      ],
      "metadata": {
        "colab": {
          "base_uri": "https://localhost:8080/"
        },
        "id": "Awio1ECatCGR",
        "outputId": "6fc67a97-5e2e-4eef-c4c8-ed5a2c1a2199"
      },
      "execution_count": null,
      "outputs": [
        {
          "output_type": "stream",
          "name": "stdout",
          "text": [
            "+------+-----------+\n",
            "|ID_dep|min(salary)|\n",
            "+------+-----------+\n",
            "|   103|      50000|\n",
            "|   101|      33000|\n",
            "|   102|      60000|\n",
            "|   104|      20000|\n",
            "|   106|      35000|\n",
            "|   105|      50000|\n",
            "+------+-----------+\n",
            "\n"
          ]
        }
      ]
    },
    {
      "cell_type": "code",
      "source": [
        "ix.groupBy('ID_dep').count().show()"
      ],
      "metadata": {
        "colab": {
          "base_uri": "https://localhost:8080/"
        },
        "id": "oHwOnCd7wq2J",
        "outputId": "970acd81-a164-4197-ba8a-a4b55f5584cb"
      },
      "execution_count": null,
      "outputs": [
        {
          "output_type": "stream",
          "name": "stdout",
          "text": [
            "+------+-----+\n",
            "|ID_dep|count|\n",
            "+------+-----+\n",
            "|   103|    2|\n",
            "|   101|    3|\n",
            "|   102|    2|\n",
            "|   104|    1|\n",
            "|   106|    1|\n",
            "|   105|    1|\n",
            "+------+-----+\n",
            "\n"
          ]
        }
      ]
    },
    {
      "cell_type": "code",
      "source": [
        "ix.join(jx,ix.ID_dep==jx.dep_id,'outer').show()"
      ],
      "metadata": {
        "colab": {
          "base_uri": "https://localhost:8080/"
        },
        "id": "F1JHVemDwq5D",
        "outputId": "e27c8838-1d67-4729-f3fa-96529eb20ab0"
      },
      "execution_count": null,
      "outputs": [
        {
          "output_type": "stream",
          "name": "stdout",
          "text": [
            "+----+--------+------+------+---------+------+\n",
            "|E_id|    name|ID_dep|salary|      dep|dep_id|\n",
            "+----+--------+------+------+---------+------+\n",
            "|   1| rashfgj|   101| 45000|       it|   101|\n",
            "|   5|     ram|   101| 33000|       it|   101|\n",
            "|   6|   kavin|   101| 45000|       it|   101|\n",
            "|   2|        |   102| 60000|      rmg|   102|\n",
            "|   7|  dfgiva|   102| 65000|      rmg|   102|\n",
            "|   3|maskfgha|   103| 50000|marketing|   103|\n",
            "|   4|    diva|   103| 65000|marketing|   103|\n",
            "|   8|    hghg|   104| 20000|     null|  null|\n",
            "|  10|     ela|   105| 50000|      man|   105|\n",
            "|   9|  yamini|   106| 35000|       hr|   106|\n",
            "|null|    null|  null|  null|     grap|   107|\n",
            "+----+--------+------+------+---------+------+\n",
            "\n"
          ]
        }
      ]
    },
    {
      "cell_type": "code",
      "source": [
        "from pyspark.sql.types import *"
      ],
      "metadata": {
        "id": "q9I9auiB0ZvP"
      },
      "execution_count": null,
      "outputs": []
    },
    {
      "cell_type": "code",
      "source": [
        "gh=[('ela',{'age':25,'gender':'male'}),('raja',{'age':27,'gender':'male'})]\n",
        "abc=StructType([StructField('name',StringType(),True),StructField('personal',MapType(StringType(),StringType()),True)])\n",
        "bs=spark.createDataFrame(data=gh,schema=abc)\n",
        "bs.printSchema()\n",
        "bs.show(truncate=False)"
      ],
      "metadata": {
        "colab": {
          "base_uri": "https://localhost:8080/"
        },
        "id": "dHYEdv79wq7d",
        "outputId": "f84478bb-ff94-4cef-a2ac-46262d019f5e"
      },
      "execution_count": null,
      "outputs": [
        {
          "output_type": "stream",
          "name": "stdout",
          "text": [
            "root\n",
            " |-- name: string (nullable = true)\n",
            " |-- personal: map (nullable = true)\n",
            " |    |-- key: string\n",
            " |    |-- value: string (valueContainsNull = true)\n",
            "\n",
            "+----+---------------------------+\n",
            "|name|personal                   |\n",
            "+----+---------------------------+\n",
            "|ela |{gender -> male, age -> 25}|\n",
            "|raja|{gender -> male, age -> 27}|\n",
            "+----+---------------------------+\n",
            "\n"
          ]
        }
      ]
    },
    {
      "cell_type": "code",
      "source": [
        "gh=[('ela',{'age':25,'gender':'male'}),('raja',{'age':27,'gender':'male'})]\n",
        "bcd=['name','personal']\n",
        "bs=spark.createDataFrame(data=gh,schema=bcd)\n",
        "bs.printSchema()\n",
        "bs.show(truncate=False)"
      ],
      "metadata": {
        "colab": {
          "base_uri": "https://localhost:8080/"
        },
        "id": "RlF058vewq-O",
        "outputId": "3d13512c-289f-4e76-d2ca-5d5beebe5cff"
      },
      "execution_count": null,
      "outputs": [
        {
          "output_type": "stream",
          "name": "stdout",
          "text": [
            "root\n",
            " |-- name: string (nullable = true)\n",
            " |-- personal: map (nullable = true)\n",
            " |    |-- key: string\n",
            " |    |-- value: long (valueContainsNull = true)\n",
            "\n",
            "+----+---------------------------+\n",
            "|name|personal                   |\n",
            "+----+---------------------------+\n",
            "|ela |{gender -> null, age -> 25}|\n",
            "|raja|{gender -> null, age -> 27}|\n",
            "+----+---------------------------+\n",
            "\n"
          ]
        }
      ]
    },
    {
      "cell_type": "code",
      "source": [
        "gh=[('ela',{'age':25},{'gender':'male'}),('raja',{'age':27},{'gender':'male'})]\n",
        "bcd=['name','age1','gender1']\n",
        "bs=spark.createDataFrame(data=gh,schema=bcd)\n",
        "bs.printSchema()\n",
        "bs.show(truncate=False)"
      ],
      "metadata": {
        "colab": {
          "base_uri": "https://localhost:8080/"
        },
        "id": "6GmxIG-P5fCu",
        "outputId": "35d4b99e-128a-4ae8-d9bc-b399bc41df35"
      },
      "execution_count": null,
      "outputs": [
        {
          "output_type": "stream",
          "name": "stdout",
          "text": [
            "root\n",
            " |-- name: string (nullable = true)\n",
            " |-- age1: map (nullable = true)\n",
            " |    |-- key: string\n",
            " |    |-- value: long (valueContainsNull = true)\n",
            " |-- gender1: map (nullable = true)\n",
            " |    |-- key: string\n",
            " |    |-- value: string (valueContainsNull = true)\n",
            "\n",
            "+----+-----------+----------------+\n",
            "|name|age1       |gender1         |\n",
            "+----+-----------+----------------+\n",
            "|ela |{age -> 25}|{gender -> male}|\n",
            "|raja|{age -> 27}|{gender -> male}|\n",
            "+----+-----------+----------------+\n",
            "\n"
          ]
        }
      ]
    },
    {
      "cell_type": "code",
      "source": [
        "from pyspark.sql.functions import map_keys,map_values"
      ],
      "metadata": {
        "id": "Bv1ZyhYgwrAd"
      },
      "execution_count": null,
      "outputs": []
    },
    {
      "cell_type": "code",
      "source": [
        "bs.select(bs.name,map_keys(bs.age1),map_values(bs.gender1)).show()#map_keys fetches keys map_values fetches values"
      ],
      "metadata": {
        "colab": {
          "base_uri": "https://localhost:8080/"
        },
        "id": "CTdnZRVH4rX0",
        "outputId": "ea6d0b16-eed7-41df-8b13-11581f17dd2b"
      },
      "execution_count": null,
      "outputs": [
        {
          "output_type": "stream",
          "name": "stdout",
          "text": [
            "+----+--------------+-------------------+\n",
            "|name|map_keys(age1)|map_values(gender1)|\n",
            "+----+--------------+-------------------+\n",
            "| ela|         [age]|             [male]|\n",
            "|raja|         [age]|             [male]|\n",
            "+----+--------------+-------------------+\n",
            "\n"
          ]
        }
      ]
    },
    {
      "cell_type": "code",
      "source": [
        "gs=spark.read.format('json').load('/content/sample_data/anscombe.json')\n",
        "gs.show()#if jason file has single line this method is advisable"
      ],
      "metadata": {
        "colab": {
          "base_uri": "https://localhost:8080/"
        },
        "id": "O2V2YloD4rbX",
        "outputId": "9ffd5945-10af-4612-b51c-2ef7972bc80d"
      },
      "execution_count": null,
      "outputs": [
        {
          "output_type": "stream",
          "name": "stdout",
          "text": [
            "+------+----+-----+---------------+\n",
            "|Series|   X|    Y|_corrupt_record|\n",
            "+------+----+-----+---------------+\n",
            "|  null|null| null|              [|\n",
            "|     I|10.0| 8.04|           null|\n",
            "|     I| 8.0| 6.95|           null|\n",
            "|     I|13.0| 7.58|           null|\n",
            "|     I| 9.0| 8.81|           null|\n",
            "|     I|11.0| 8.33|           null|\n",
            "|     I|14.0| 9.96|           null|\n",
            "|     I| 6.0| 7.24|           null|\n",
            "|     I| 4.0| 4.26|           null|\n",
            "|     I|12.0|10.84|           null|\n",
            "|     I| 7.0| 4.81|           null|\n",
            "|     I| 5.0| 5.68|           null|\n",
            "|    II|10.0| 9.14|           null|\n",
            "|    II| 8.0| 8.14|           null|\n",
            "|    II|13.0| 8.74|           null|\n",
            "|    II| 9.0| 8.77|           null|\n",
            "|    II|11.0| 9.26|           null|\n",
            "|    II|14.0|  8.1|           null|\n",
            "|    II| 6.0| 6.13|           null|\n",
            "|    II| 4.0|  3.1|           null|\n",
            "+------+----+-----+---------------+\n",
            "only showing top 20 rows\n",
            "\n"
          ]
        }
      ]
    },
    {
      "cell_type": "code",
      "source": [
        "gs1=spark.read.option('multiline',True).json('/content/sample_data/anscombe.json')\n",
        "gs.show()#if jason file has multiple lines this method is advisable"
      ],
      "metadata": {
        "colab": {
          "base_uri": "https://localhost:8080/"
        },
        "id": "mSiwBaeu4rdM",
        "outputId": "ed6acdde-9318-455a-8214-4890cfb14f81"
      },
      "execution_count": null,
      "outputs": [
        {
          "output_type": "stream",
          "name": "stdout",
          "text": [
            "+------+----+-----+---------------+\n",
            "|Series|   X|    Y|_corrupt_record|\n",
            "+------+----+-----+---------------+\n",
            "|  null|null| null|              [|\n",
            "|     I|10.0| 8.04|           null|\n",
            "|     I| 8.0| 6.95|           null|\n",
            "|     I|13.0| 7.58|           null|\n",
            "|     I| 9.0| 8.81|           null|\n",
            "|     I|11.0| 8.33|           null|\n",
            "|     I|14.0| 9.96|           null|\n",
            "|     I| 6.0| 7.24|           null|\n",
            "|     I| 4.0| 4.26|           null|\n",
            "|     I|12.0|10.84|           null|\n",
            "|     I| 7.0| 4.81|           null|\n",
            "|     I| 5.0| 5.68|           null|\n",
            "|    II|10.0| 9.14|           null|\n",
            "|    II| 8.0| 8.14|           null|\n",
            "|    II|13.0| 8.74|           null|\n",
            "|    II| 9.0| 8.77|           null|\n",
            "|    II|11.0| 9.26|           null|\n",
            "|    II|14.0|  8.1|           null|\n",
            "|    II| 6.0| 6.13|           null|\n",
            "|    II| 4.0|  3.1|           null|\n",
            "+------+----+-----+---------------+\n",
            "only showing top 20 rows\n",
            "\n"
          ]
        }
      ]
    },
    {
      "cell_type": "code",
      "source": [
        "gs1.write.json('/content/sample1.json')"
      ],
      "metadata": {
        "id": "gXGg8Xtz4rgG"
      },
      "execution_count": null,
      "outputs": []
    },
    {
      "cell_type": "code",
      "source": [
        "import wave, struct, math, random\n",
        "sr=44100.0  #sample rate\n",
        "duration=1.0  \n",
        "freq=440.0   #noise frequency\n",
        "f=wave.open(\"sample.wav\",\"w\")  #wave\n",
        "f.setnchannels(1)   #1:mono\n",
        "f.setsampwidth(2)\n",
        "f.setframerate(sr)\n",
        "for i in range(99999):\n",
        "    value=random.randint(-32768,32767)\n",
        "    data=struct.pack('<h',value)\n",
        "    f.writeframesraw(data)\n",
        "f.close()"
      ],
      "metadata": {
        "id": "TKjK2-bH4rkD"
      },
      "execution_count": null,
      "outputs": []
    },
    {
      "cell_type": "code",
      "source": [
        ""
      ],
      "metadata": {
        "id": "Z05WI1398Sev"
      },
      "execution_count": null,
      "outputs": []
    },
    {
      "cell_type": "code",
      "source": [
        ""
      ],
      "metadata": {
        "id": "0-X5Yam38SqU"
      },
      "execution_count": null,
      "outputs": []
    },
    {
      "cell_type": "code",
      "source": [
        ""
      ],
      "metadata": {
        "id": "cidjHsoF8SsA"
      },
      "execution_count": null,
      "outputs": []
    },
    {
      "cell_type": "code",
      "source": [
        ""
      ],
      "metadata": {
        "id": "rAMD5Mjt8Stn"
      },
      "execution_count": null,
      "outputs": []
    },
    {
      "cell_type": "code",
      "source": [
        ""
      ],
      "metadata": {
        "id": "Ak98kNbs8SwL"
      },
      "execution_count": null,
      "outputs": []
    },
    {
      "cell_type": "code",
      "source": [
        ""
      ],
      "metadata": {
        "id": "iR-0LnOP4rmG"
      },
      "execution_count": null,
      "outputs": []
    }
  ]
}