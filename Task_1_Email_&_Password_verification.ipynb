{
  "nbformat": 4,
  "nbformat_minor": 0,
  "metadata": {
    "colab": {
      "name": "Task 1 Email & Password verification.ipynb",
      "provenance": [],
      "collapsed_sections": [],
      "authorship_tag": "ABX9TyMSTq+bvWC7YLGsA9EgbhGk",
      "include_colab_link": true
    },
    "kernelspec": {
      "name": "python3",
      "display_name": "Python 3"
    },
    "language_info": {
      "name": "python"
    }
  },
  "cells": [
    {
      "cell_type": "markdown",
      "metadata": {
        "id": "view-in-github",
        "colab_type": "text"
      },
      "source": [
        "<a href=\"https://colab.research.google.com/github/Elavarasan8/Data_Visualisation/blob/main/Task_1_Email_%26_Password_verification.ipynb\" target=\"_parent\"><img src=\"https://colab.research.google.com/assets/colab-badge.svg\" alt=\"Open In Colab\"/></a>"
      ]
    },
    {
      "cell_type": "code",
      "execution_count": 46,
      "metadata": {
        "colab": {
          "base_uri": "https://localhost:8080/"
        },
        "id": "X5VgAwfPJADu",
        "outputId": "39850624-84c3-4c4b-f42c-e5171dc6815a"
      },
      "outputs": [
        {
          "name": "stdout",
          "output_type": "stream",
          "text": [
            "Enter your email\n",
            "elavarasan@.google.com\n",
            "Invalid email\n",
            "elavarasanr@gmail.com\n",
            "Enter your password\n",
            "Your password should haveminimum one special character,\n",
            "one digit,\n",
            "one uppercase,\n",
            "one lowercase character\n",
            "Princenivi12\n",
            "invalid password\n",
            "Enter your password\n",
            "Your password should haveminimum one special character,\n",
            "one digit,\n",
            "one uppercase,\n",
            "one lowercase character\n",
            "Princenivi1@\n"
          ]
        }
      ],
      "source": [
        "print('Enter your email')\n",
        "d=False\n",
        "f=False\n",
        "import re\n",
        "while f!=True:\n",
        "    a=input()\n",
        "    c=\"^[a-z]+@[a-z]+\\.[com|in]+\"\n",
        "    if re.fullmatch(c,a):\n",
        "          f=True\n",
        "          while d!=True:\n",
        "               print('Enter your password')\n",
        "               print('Your password should haveminimum one special character,')\n",
        "               print('one digit,')          \n",
        "               print('one uppercase,')            \n",
        "               print('one lowercase character') \n",
        "               b=input()  \n",
        "               e=\"^(?=.*[a-z])(?=.*[A-Z])(?=.*\\d)(?=.*[@$!%*#?&])[A-Za-z\\d@$!#%*?&]{5,16}$\"\n",
        "               if re.fullmatch(e,b):\n",
        "                    d=True\n",
        "                    with open('email&password.txt',mode='w') as file:\n",
        "                      file.write(f'Email_id:{a}\\nPassword:{b}')\n",
        "               else:\n",
        "                    print('invalid password')\n",
        "    else:\n",
        "      print('Invalid email')\n",
        "\n",
        "  \n",
        "\n",
        "\n",
        "\n"
      ]
    }
  ]
}